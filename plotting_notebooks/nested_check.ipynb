{
 "cells": [
  {
   "cell_type": "markdown",
   "metadata": {},
   "source": [
    "# Averaged data"
   ]
  },
  {
   "cell_type": "code",
   "execution_count": 1,
   "metadata": {},
   "outputs": [],
   "source": [
    "from pandas import HDFStore, DataFrame, Series\n",
    "from tqdm.auto import tqdm\n",
    "from pandas import concat\n",
    "\n",
    "\n",
    "def load_averaged_data(path: str) -> tuple[DataFrame, Series, Series]:\n",
    "    loaded_data: dict[str, DataFrame] = {}\n",
    "\n",
    "    # Open the HDF5 file\n",
    "    with HDFStore(path) as store:\n",
    "        # Iterate through the keys (group names) in the HDF5 file\n",
    "        for key in tqdm(store.keys(), desc='Loading data'):\n",
    "            # Load each DataFrame and store it in the dictionary\n",
    "            loaded_data[key] = store[key]\n",
    "\n",
    "    concated_df_avgs = concat(\n",
    "        [loaded_data[key][(\"Average\", \"Balanced Accuracy\")] for key in loaded_data.keys()],\n",
    "        axis=1,\n",
    "        keys=[el[1:] for el in loaded_data.keys()],\n",
    "    )\n",
    "    concated_df_errs = concat(\n",
    "        [loaded_data[key][(\"Standard error\", \"Balanced Accuracy\")] for key in loaded_data.keys()],\n",
    "        axis=1,\n",
    "        keys=[el[1:] for el in loaded_data.keys()],\n",
    "    )\n",
    "    df_avgs = concated_df_avgs.unstack().reset_index()\n",
    "    df_avgs.columns = [\"side\", \"classifier\", \"Balanced Accuracy\"]\n",
    "\n",
    "    df_errs = concated_df_errs.unstack().reset_index()\n",
    "    df_errs.columns = [\"side\", \"classifier\", \"Balanced Accuracy\"]\n",
    "    upper_errs = df_errs[\"Balanced Accuracy\"]\n",
    "    lower_errs = df_errs[\"Balanced Accuracy\"]\n",
    "    return df_avgs, upper_errs, lower_errs, df_errs\n",
    "    \n",
    "def make_linerrorplot(data: DataFrame, lower_errs: Series, upper_errs: Series, path_to_save: str) -> None:\n",
    "    import seaborn as sns\n",
    "    import matplotlib.pyplot as plt\n",
    "    \n",
    "    \n",
    "    plt.figure(figsize=(3, 7))\n",
    "    sns.set_style(\"darkgrid\")\n",
    "    \n",
    "    palette = sns.color_palette(\"colorblind\")\n",
    "    # sns.scatterplot(data=df, x='side', y='Balanced Accuracy', hue='classifier')\n",
    "    plt.errorbar(\n",
    "        x=data[\"side\"],\n",
    "        y=data[\"Balanced Accuracy\"],\n",
    "        xerr=None,\n",
    "        yerr=(lower_errs, upper_errs),\n",
    "        # label=custom_label,\n",
    "        elinewidth=5,\n",
    "        linestyle=\"none\",\n",
    "        markersize=1,\n",
    "        marker=\".\",\n",
    "        color=palette[0],\n",
    "        ecolor=(*palette[0], 0.3),\n",
    "    )\n",
    "    plt.ylim(0.5, 1.0)\n",
    "    \n",
    "    plt.savefig(path_to_save, bbox_inches=\"tight\")\n",
    "    plt.show()\n",
    "    # legend off\n",
    "    # plt.legend(bbox_to_anchor=(1.05, 1), loc=2, borderaxespad=0.0)\n",
    "    # "
   ]
  },
  {
   "cell_type": "markdown",
   "metadata": {},
   "source": [
    "## USILaughs - all max resources"
   ]
  },
  {
   "cell_type": "code",
   "execution_count": 2,
   "metadata": {},
   "outputs": [
    {
     "data": {
      "application/vnd.jupyter.widget-view+json": {
       "model_id": "351fb8622b1d4681addb8017a613edef",
       "version_major": 2,
       "version_minor": 0
      },
      "text/plain": [
       "Loading data:   0%|          | 0/4 [00:00<?, ?it/s]"
      ]
     },
     "metadata": {},
     "output_type": "display_data"
    }
   ],
   "source": [
    "path_to_save_data_avgs = \"../data.nosync/usilaughs/results/nested_avg.h5\"\n",
    "# Create an empty dictionary to store the loaded DataFrames\n",
    "df_avgs, upper_errs, lower_errs, df_errs = load_averaged_data(path_to_save_data_avgs)"
   ]
  },
  {
   "cell_type": "code",
   "execution_count": 3,
   "metadata": {},
   "outputs": [
    {
     "data": {
      "text/html": [
       "<div>\n",
       "<style scoped>\n",
       "    .dataframe tbody tr th:only-of-type {\n",
       "        vertical-align: middle;\n",
       "    }\n",
       "\n",
       "    .dataframe tbody tr th {\n",
       "        vertical-align: top;\n",
       "    }\n",
       "\n",
       "    .dataframe thead th {\n",
       "        text-align: right;\n",
       "    }\n",
       "</style>\n",
       "<table border=\"1\" class=\"dataframe\">\n",
       "  <thead>\n",
       "    <tr style=\"text-align: right;\">\n",
       "      <th></th>\n",
       "      <th>side</th>\n",
       "      <th>classifier</th>\n",
       "      <th>Balanced Accuracy</th>\n",
       "    </tr>\n",
       "  </thead>\n",
       "  <tbody>\n",
       "    <tr>\n",
       "      <th>0</th>\n",
       "      <td>left</td>\n",
       "      <td>ExtraTreesClassifier</td>\n",
       "      <td>0.814360</td>\n",
       "    </tr>\n",
       "    <tr>\n",
       "      <th>1</th>\n",
       "      <td>left</td>\n",
       "      <td>LGBMClassifier</td>\n",
       "      <td>0.804527</td>\n",
       "    </tr>\n",
       "    <tr>\n",
       "      <th>2</th>\n",
       "      <td>left</td>\n",
       "      <td>BaggingClassifier</td>\n",
       "      <td>0.800624</td>\n",
       "    </tr>\n",
       "    <tr>\n",
       "      <th>3</th>\n",
       "      <td>left</td>\n",
       "      <td>RandomForestClassifier</td>\n",
       "      <td>0.798498</td>\n",
       "    </tr>\n",
       "    <tr>\n",
       "      <th>4</th>\n",
       "      <td>left</td>\n",
       "      <td>XGBClassifier</td>\n",
       "      <td>0.793731</td>\n",
       "    </tr>\n",
       "    <tr>\n",
       "      <th>...</th>\n",
       "      <td>...</td>\n",
       "      <td>...</td>\n",
       "      <td>...</td>\n",
       "    </tr>\n",
       "    <tr>\n",
       "      <th>99</th>\n",
       "      <td>rxlx</td>\n",
       "      <td>BernoulliNB</td>\n",
       "      <td>0.646002</td>\n",
       "    </tr>\n",
       "    <tr>\n",
       "      <th>100</th>\n",
       "      <td>rxlx</td>\n",
       "      <td>QuadraticDiscriminantAnalysis</td>\n",
       "      <td>0.669842</td>\n",
       "    </tr>\n",
       "    <tr>\n",
       "      <th>101</th>\n",
       "      <td>rxlx</td>\n",
       "      <td>Perceptron</td>\n",
       "      <td>0.617847</td>\n",
       "    </tr>\n",
       "    <tr>\n",
       "      <th>102</th>\n",
       "      <td>rxlx</td>\n",
       "      <td>GaussianNB</td>\n",
       "      <td>0.627251</td>\n",
       "    </tr>\n",
       "    <tr>\n",
       "      <th>103</th>\n",
       "      <td>rxlx</td>\n",
       "      <td>DummyClassifier</td>\n",
       "      <td>0.503111</td>\n",
       "    </tr>\n",
       "  </tbody>\n",
       "</table>\n",
       "<p>104 rows × 3 columns</p>\n",
       "</div>"
      ],
      "text/plain": [
       "     side                     classifier  Balanced Accuracy\n",
       "0    left           ExtraTreesClassifier           0.814360\n",
       "1    left                 LGBMClassifier           0.804527\n",
       "2    left              BaggingClassifier           0.800624\n",
       "3    left         RandomForestClassifier           0.798498\n",
       "4    left                  XGBClassifier           0.793731\n",
       "..    ...                            ...                ...\n",
       "99   rxlx                    BernoulliNB           0.646002\n",
       "100  rxlx  QuadraticDiscriminantAnalysis           0.669842\n",
       "101  rxlx                     Perceptron           0.617847\n",
       "102  rxlx                     GaussianNB           0.627251\n",
       "103  rxlx                DummyClassifier           0.503111\n",
       "\n",
       "[104 rows x 3 columns]"
      ]
     },
     "execution_count": 3,
     "metadata": {},
     "output_type": "execute_result"
    }
   ],
   "source": [
    "df_avgs"
   ]
  },
  {
   "cell_type": "code",
   "execution_count": 4,
   "metadata": {},
   "outputs": [
    {
     "data": {
      "text/plain": [
       "26"
      ]
     },
     "execution_count": 4,
     "metadata": {},
     "output_type": "execute_result"
    }
   ],
   "source": [
    "df_avgs['classifier'].nunique()"
   ]
  },
  {
   "cell_type": "code",
   "execution_count": 5,
   "metadata": {},
   "outputs": [
    {
     "data": {
      "text/plain": [
       "array(['ExtraTreesClassifier', 'LGBMClassifier', 'BaggingClassifier',\n",
       "       'RandomForestClassifier', 'XGBClassifier', 'KNeighborsClassifier',\n",
       "       'AdaBoostClassifier', 'LabelSpreading', 'LabelPropagation',\n",
       "       'DecisionTreeClassifier', 'NuSVC', 'SVC', 'ExtraTreeClassifier',\n",
       "       'LinearSVC', 'LogisticRegression', 'RidgeClassifierCV',\n",
       "       'RidgeClassifier', 'LinearDiscriminantAnalysis', 'SGDClassifier',\n",
       "       'PassiveAggressiveClassifier', 'NearestCentroid', 'BernoulliNB',\n",
       "       'QuadraticDiscriminantAnalysis', 'Perceptron', 'GaussianNB',\n",
       "       'DummyClassifier'], dtype=object)"
      ]
     },
     "execution_count": 5,
     "metadata": {},
     "output_type": "execute_result"
    }
   ],
   "source": [
    "df_avgs['classifier'].unique()"
   ]
  },
  {
   "cell_type": "code",
   "execution_count": 5,
   "metadata": {},
   "outputs": [
    {
     "data": {
      "text/html": [
       "<div>\n",
       "<style scoped>\n",
       "    .dataframe tbody tr th:only-of-type {\n",
       "        vertical-align: middle;\n",
       "    }\n",
       "\n",
       "    .dataframe tbody tr th {\n",
       "        vertical-align: top;\n",
       "    }\n",
       "\n",
       "    .dataframe thead tr th {\n",
       "        text-align: left;\n",
       "    }\n",
       "\n",
       "    .dataframe thead tr:last-of-type th {\n",
       "        text-align: right;\n",
       "    }\n",
       "</style>\n",
       "<table border=\"1\" class=\"dataframe\">\n",
       "  <thead>\n",
       "    <tr>\n",
       "      <th></th>\n",
       "      <th>errors</th>\n",
       "      <th colspan=\"2\" halign=\"left\">averages</th>\n",
       "    </tr>\n",
       "    <tr>\n",
       "      <th></th>\n",
       "      <th>Balanced Accuracy</th>\n",
       "      <th>classifier</th>\n",
       "      <th>Balanced Accuracy</th>\n",
       "    </tr>\n",
       "    <tr>\n",
       "      <th>(averages, side)</th>\n",
       "      <th></th>\n",
       "      <th></th>\n",
       "      <th></th>\n",
       "    </tr>\n",
       "  </thead>\n",
       "  <tbody>\n",
       "    <tr>\n",
       "      <th>left</th>\n",
       "      <td>0.247212</td>\n",
       "      <td>XGBClassifierXGBClassifierXGBClassifierXGBClas...</td>\n",
       "      <td>81.436000</td>\n",
       "    </tr>\n",
       "    <tr>\n",
       "      <th>lxrx</th>\n",
       "      <td>1.994914</td>\n",
       "      <td>XGBClassifierXGBClassifierXGBClassifierXGBClas...</td>\n",
       "      <td>79.429778</td>\n",
       "    </tr>\n",
       "    <tr>\n",
       "      <th>right</th>\n",
       "      <td>0.271477</td>\n",
       "      <td>XGBClassifierXGBClassifierXGBClassifierXGBClas...</td>\n",
       "      <td>85.199778</td>\n",
       "    </tr>\n",
       "    <tr>\n",
       "      <th>rxlx</th>\n",
       "      <td>1.109072</td>\n",
       "      <td>XGBClassifierXGBClassifierXGBClassifierXGBClas...</td>\n",
       "      <td>71.667111</td>\n",
       "    </tr>\n",
       "  </tbody>\n",
       "</table>\n",
       "</div>"
      ],
      "text/plain": [
       "                            errors  \\\n",
       "                 Balanced Accuracy   \n",
       "(averages, side)                     \n",
       "left                      0.247212   \n",
       "lxrx                      1.994914   \n",
       "right                     0.271477   \n",
       "rxlx                      1.109072   \n",
       "\n",
       "                                                           averages  \\\n",
       "                                                         classifier   \n",
       "(averages, side)                                                      \n",
       "left              XGBClassifierXGBClassifierXGBClassifierXGBClas...   \n",
       "lxrx              XGBClassifierXGBClassifierXGBClassifierXGBClas...   \n",
       "right             XGBClassifierXGBClassifierXGBClassifierXGBClas...   \n",
       "rxlx              XGBClassifierXGBClassifierXGBClassifierXGBClas...   \n",
       "\n",
       "                                    \n",
       "                 Balanced Accuracy  \n",
       "(averages, side)                    \n",
       "left                     81.436000  \n",
       "lxrx                     79.429778  \n",
       "right                    85.199778  \n",
       "rxlx                     71.667111  "
      ]
     },
     "metadata": {},
     "output_type": "display_data"
    }
   ],
   "source": [
    "display(\n",
    "    concat([df_errs[\"Balanced Accuracy\"], df_avgs], axis=1, keys=[\"errors\", \"averages\"])\n",
    "    .groupby((\"averages\", \"side\"))\n",
    "    .max()*100\n",
    ")\n"
   ]
  },
  {
   "cell_type": "markdown",
   "metadata": {},
   "source": [
    "## MWC2022"
   ]
  },
  {
   "cell_type": "code",
   "execution_count": 9,
   "metadata": {},
   "outputs": [
    {
     "data": {
      "application/vnd.jupyter.widget-view+json": {
       "model_id": "11b4732e5fec432db58570cba5212c0f",
       "version_major": 2,
       "version_minor": 0
      },
      "text/plain": [
       "Loading data:   0%|          | 0/4 [00:00<?, ?it/s]"
      ]
     },
     "metadata": {},
     "output_type": "display_data"
    }
   ],
   "source": [
    "path_to_save_data_avgs = \"../data.nosync/mwc2022/results/nested_avg.h5\"\n",
    "# Create an empty dictionary to store the loaded DataFrames\n",
    "df_avgs, upper_errs, lower_errs, df_errs = load_averaged_data(path_to_save_data_avgs)"
   ]
  },
  {
   "cell_type": "code",
   "execution_count": 10,
   "metadata": {},
   "outputs": [
    {
     "data": {
      "text/html": [
       "<div>\n",
       "<style scoped>\n",
       "    .dataframe tbody tr th:only-of-type {\n",
       "        vertical-align: middle;\n",
       "    }\n",
       "\n",
       "    .dataframe tbody tr th {\n",
       "        vertical-align: top;\n",
       "    }\n",
       "\n",
       "    .dataframe thead tr th {\n",
       "        text-align: left;\n",
       "    }\n",
       "\n",
       "    .dataframe thead tr:last-of-type th {\n",
       "        text-align: right;\n",
       "    }\n",
       "</style>\n",
       "<table border=\"1\" class=\"dataframe\">\n",
       "  <thead>\n",
       "    <tr>\n",
       "      <th></th>\n",
       "      <th>errors</th>\n",
       "      <th colspan=\"2\" halign=\"left\">averages</th>\n",
       "    </tr>\n",
       "    <tr>\n",
       "      <th></th>\n",
       "      <th>Balanced Accuracy</th>\n",
       "      <th>classifier</th>\n",
       "      <th>Balanced Accuracy</th>\n",
       "    </tr>\n",
       "    <tr>\n",
       "      <th>(averages, side)</th>\n",
       "      <th></th>\n",
       "      <th></th>\n",
       "      <th></th>\n",
       "    </tr>\n",
       "  </thead>\n",
       "  <tbody>\n",
       "    <tr>\n",
       "      <th>left</th>\n",
       "      <td>0.306181</td>\n",
       "      <td>XGBClassifierXGBClassifierXGBClassifierXGBClas...</td>\n",
       "      <td>83.953194</td>\n",
       "    </tr>\n",
       "    <tr>\n",
       "      <th>lxrx</th>\n",
       "      <td>0.676872</td>\n",
       "      <td>XGBClassifierXGBClassifierXGBClassifierXGBClas...</td>\n",
       "      <td>71.663898</td>\n",
       "    </tr>\n",
       "    <tr>\n",
       "      <th>right</th>\n",
       "      <td>0.284035</td>\n",
       "      <td>XGBClassifierXGBClassifierXGBClassifierXGBClas...</td>\n",
       "      <td>80.479842</td>\n",
       "    </tr>\n",
       "    <tr>\n",
       "      <th>rxlx</th>\n",
       "      <td>0.685272</td>\n",
       "      <td>XGBClassifierXGBClassifierXGBClassifierXGBClas...</td>\n",
       "      <td>75.558961</td>\n",
       "    </tr>\n",
       "  </tbody>\n",
       "</table>\n",
       "</div>"
      ],
      "text/plain": [
       "                            errors  \\\n",
       "                 Balanced Accuracy   \n",
       "(averages, side)                     \n",
       "left                      0.306181   \n",
       "lxrx                      0.676872   \n",
       "right                     0.284035   \n",
       "rxlx                      0.685272   \n",
       "\n",
       "                                                           averages  \\\n",
       "                                                         classifier   \n",
       "(averages, side)                                                      \n",
       "left              XGBClassifierXGBClassifierXGBClassifierXGBClas...   \n",
       "lxrx              XGBClassifierXGBClassifierXGBClassifierXGBClas...   \n",
       "right             XGBClassifierXGBClassifierXGBClassifierXGBClas...   \n",
       "rxlx              XGBClassifierXGBClassifierXGBClassifierXGBClas...   \n",
       "\n",
       "                                    \n",
       "                 Balanced Accuracy  \n",
       "(averages, side)                    \n",
       "left                     83.953194  \n",
       "lxrx                     71.663898  \n",
       "right                    80.479842  \n",
       "rxlx                     75.558961  "
      ]
     },
     "metadata": {},
     "output_type": "display_data"
    }
   ],
   "source": [
    "display(\n",
    "    concat([df_errs[\"Balanced Accuracy\"], df_avgs], axis=1, keys=[\"errors\", \"averages\"])\n",
    "    .groupby((\"averages\", \"side\"))\n",
    "    .max()*100\n",
    ")\n"
   ]
  },
  {
   "cell_type": "markdown",
   "metadata": {},
   "source": [
    "# Total data"
   ]
  },
  {
   "cell_type": "code",
   "execution_count": 1,
   "metadata": {},
   "outputs": [],
   "source": [
    "from pandas import DataFrame, concat, MultiIndex, Series\n",
    "from collections import defaultdict\n",
    "from pandas import concat\n",
    "from numpy import nanstd\n",
    "import seaborn as sns\n",
    "import matplotlib.pyplot as plt\n",
    "from statannotations.Annotator import Annotator\n",
    "import itertools\n",
    "from pandas import HDFStore, DataFrame\n",
    "from tqdm.auto import tqdm\n",
    "\n",
    "\n",
    "def calculate_fold_df(data: DataFrame):\n",
    "    avgs = concat(\n",
    "        [fold_res[\"Balanced Accuracy\"] for fold_res in data.values()],\n",
    "        axis=1,\n",
    "        keys=range(5),\n",
    "    ).mean(axis=1)\n",
    "    errs = concat(\n",
    "        [fold_res[\"Balanced Accuracy\"] for fold_res in data.values()],\n",
    "        axis=1,\n",
    "        keys=range(5),\n",
    "    ).apply(lambda x: nanstd(x) / ((len(x - 1)) ** 0.5) if len(x) > 1 else 1, axis=1)\n",
    "    return concat([avgs, errs], axis=1, keys=[\"Balanced Accuracy\", \"Standard Error\"])\n",
    "\n",
    "\n",
    "def concatenate_prepared_data(data: dict[str, DataFrame]) -> DataFrame:\n",
    "    concated_df_dict: dict[DataFrame, Series] = {}\n",
    "    sides: list[str] = [\"left\", \"right\", \"lxrx\", \"rxlx\"]\n",
    "    for side in sides:\n",
    "        concated_df_dict[side] = concat(\n",
    "            [\n",
    "                data[key][[\"Balanced Accuracy\", \"Standard Error\"]].sort_index()\n",
    "                for key in data.keys()\n",
    "                if side in key\n",
    "            ],\n",
    "            axis=0,\n",
    "            keys=[key[1:5] for key in data.keys() if side in key],\n",
    "        )\n",
    "        concated_df_dict[side].index = concated_df_dict[side].index.droplevel(0)\n",
    "\n",
    "    all_results = concat(\n",
    "        list(concated_df_dict.values()),\n",
    "        axis=0,\n",
    "        keys=sides,\n",
    "        # ignore_index=True,\n",
    "    )\n",
    "    all_results = all_results.reset_index()\n",
    "    all_results.columns = [\"Side\", \"Model\", \"Balanced Accuracy\", \"Standard Error\"]\n",
    "    return all_results\n",
    "\n",
    "\n",
    "def load_prepare_data(path_to_all_data: str) -> DataFrame:\n",
    "    loaded_data = defaultdict(lambda: defaultdict(lambda: dict()))\n",
    "\n",
    "    # Open the HDF5 file\n",
    "    with HDFStore(path_to_save_data_avgs) as store:\n",
    "        # Iterate through the keys (group names) in the HDF5 file\n",
    "        for key in tqdm(store.keys(), desc=\"Loading data\"):\n",
    "            # Load each DataFrame and store it in the dictionary\n",
    "            data = store[key]\n",
    "            split_key = key.split(\"_\")\n",
    "            loaded_data[split_key[0]][split_key[1]][split_key[2]] = data\n",
    "\n",
    "    loaded_data_correct = {\n",
    "        f\"{key1}_{key2}\": calculate_fold_df(loaded_data[key1][key2])\n",
    "        for key1 in loaded_data.keys()\n",
    "        for key2 in loaded_data[key1].keys()\n",
    "    }\n",
    "\n",
    "    return concatenate_prepared_data(data=loaded_data_correct)\n",
    "\n",
    "\n",
    "def remove_dummy(data: DataFrame) -> DataFrame:\n",
    "    return data[data[\"Model\"] != \"DummyClassifier\"]\n",
    "\n",
    "\n",
    "def make_violin_accuracy(\n",
    "    data: DataFrame,\n",
    "    sides: list[str],\n",
    "    path_to_save_fig: str,\n",
    "    small_fontsize: int = 14,\n",
    "    medium_fontsize: int = 18,\n",
    "    large_fontsize: int = 20,\n",
    "    xlim: tuple[float, float] | None = None,\n",
    "):\n",
    "    # set seaborn style\n",
    "    sns.set_style(\"darkgrid\")\n",
    "\n",
    "    # # set latex font\n",
    "    plt.rcParams[\"mathtext.fontset\"] = \"stix\"\n",
    "    plt.rcParams[\"font.family\"] = \"STIXGeneral\"\n",
    "    # plt.rcParams.update({\"font.size\": figsize *8})\n",
    "    plt.rcParams[\"axes.grid\"] = True\n",
    "\n",
    "    # increase font size\n",
    "    plt.rc(\"font\", size=small_fontsize)  # controls default text sizes\n",
    "    plt.rc(\"axes\", titlesize=medium_fontsize)  # fontsize of the axes title\n",
    "    plt.rc(\"axes\", labelsize=large_fontsize)  # fontsize of the x and y labels\n",
    "    plt.rc(\"xtick\", labelsize=small_fontsize)  # fontsize of the tick labels\n",
    "    plt.rc(\"ytick\", labelsize=small_fontsize)  # fontsize of the tick labels\n",
    "    plt.rc(\"legend\", fontsize=medium_fontsize)  # legend fontsize\n",
    "    plt.rc(\"figure\", titlesize=large_fontsize)  # fontsize of the figure title\n",
    "    plt.rcParams.update({\"font.size\": medium_fontsize})\n",
    "\n",
    "    ax = sns.violinplot(\n",
    "        data=data,\n",
    "        y=\"Train-Test\",\n",
    "        x=\"Balanced Accuracy\",\n",
    "        palette=\"colorblind\",\n",
    "        orient=\"h\",\n",
    "    )\n",
    "    # annotator = Annotator(\n",
    "    #     ax,\n",
    "    #     list(itertools.combinations(sides, 2)),\n",
    "    #     data=data,\n",
    "    #     x=\"Balanced Accuracy\",\n",
    "    #     y=\"Train-Test\",\n",
    "    #     orient=\"h\",\n",
    "    #     order=sides,\n",
    "    # )\n",
    "    # annotator.configure(\n",
    "    #     test=\"Wilcoxon\",\n",
    "    #     comparisons_correction=\"HB\",\n",
    "    #     text_format=\"star\",\n",
    "    #     loc=\"outside\",\n",
    "    # )\n",
    "    # annotator.apply_and_annotate()\n",
    "\n",
    "    # set vertical line at 0.5\n",
    "    plt.axvline(x=0.5, color=\"black\", linestyle=\"--\", linewidth=1)\n",
    "    if xlim:\n",
    "        plt.xlim(xlim)\n",
    "    plt.savefig(path_to_save_fig, bbox_inches=\"tight\")\n",
    "    plt.show()\n",
    "\n",
    "\n",
    "def clean_side_names(\n",
    "    data: DataFrame, renaming_dict: dict[str, str] | None = None\n",
    ") -> DataFrame:\n",
    "    if renaming_dict is None:\n",
    "        renaming_dict = {\n",
    "            \"left\": \"Left-Left\",\n",
    "            \"right\": \"Right-Right\",\n",
    "            \"lxrx\": \"Left-Right\",\n",
    "            \"rxlx\": \"Right-Left\",\n",
    "        }\n",
    "    renaming_dict: dict[str, str]\n",
    "    data.loc[:, \"Side\"] = data.loc[:, \"Side\"].map(renaming_dict)\n",
    "    return data.rename(columns={\"Side\": \"Train-Test\"}, inplace=False)\n"
   ]
  },
  {
   "cell_type": "markdown",
   "metadata": {},
   "source": [
    "## USILaughs"
   ]
  },
  {
   "cell_type": "code",
   "execution_count": 2,
   "metadata": {},
   "outputs": [
    {
     "data": {
      "application/vnd.jupyter.widget-view+json": {
       "model_id": "74d6035cc131483d98841b3d55c0abfb",
       "version_major": 2,
       "version_minor": 0
      },
      "text/plain": [
       "Loading data:   0%|          | 0/1500 [00:00<?, ?it/s]"
      ]
     },
     "metadata": {},
     "output_type": "display_data"
    },
    {
     "name": "stderr",
     "output_type": "stream",
     "text": [
      "/tmp/ipykernel_435275/2149678048.py:149: SettingWithCopyWarning: \n",
      "A value is trying to be set on a copy of a slice from a DataFrame.\n",
      "Try using .loc[row_indexer,col_indexer] = value instead\n",
      "\n",
      "See the caveats in the documentation: https://pandas.pydata.org/pandas-docs/stable/user_guide/indexing.html#returning-a-view-versus-a-copy\n",
      "  data.loc[:, \"Side\"] = data.loc[:, \"Side\"].map(renaming_dict)\n"
     ]
    }
   ],
   "source": [
    "path_to_save_data_avgs = \"../data.nosync/usilaughs/results/nested_all.h5\"\n",
    "\n",
    "order = [\n",
    "    \"Left-Left\",\n",
    "    \"Right-Right\",\n",
    "    \"Left-Right\",\n",
    "    \"Right-Left\",\n",
    "]\n",
    "# Create an empty dictionary to store the loaded DataFrames\n",
    "all_results = load_prepare_data(path_to_save_data_avgs)\n",
    "all_results_no_dummy = remove_dummy(data=all_results)\n",
    "all_results_no_dummy = clean_side_names(data=all_results_no_dummy)\n"
   ]
  },
  {
   "cell_type": "code",
   "execution_count": 3,
   "metadata": {},
   "outputs": [
    {
     "data": {
      "image/png": "[encoded data removed]",
      "text/plain": [
       "<Figure size 640x480 with 1 Axes>"
      ]
     },
     "metadata": {},
     "output_type": "display_data"
    }
   ],
   "source": [
    "make_violin_accuracy(\n",
    "    data=all_results_no_dummy,\n",
    "    sides=order,\n",
    "    path_to_save_fig=\"../final_visualizations/violin_nested_accuracy_usilaughs.pdf\",\n",
    "    xlim=(0.3,1),\n",
    "    small_fontsize=18, \n",
    "    medium_fontsize=24,\n",
    "    large_fontsize=25,\n",
    ")\n"
   ]
  },
  {
   "cell_type": "code",
   "execution_count": 10,
   "metadata": {},
   "outputs": [
    {
     "name": "stdout",
     "output_type": "stream",
     "text": [
      "Average accuracy for Left-Left side: 70.84 ± 0.11\n",
      "Average accuracy for Left-Right side: 71.61 ± 0.13\n",
      "Average accuracy for Right-Left side: 67.22 ± 0.06\n",
      "Average accuracy for Right-Right side: 78.81 ± 0.08\n"
     ]
    }
   ],
   "source": [
    "average_acc = all_results_no_dummy.groupby('Train-Test')['Balanced Accuracy'].mean()\n",
    "# NOTE: this error estimation is not actually correct.\n",
    "err_acc = all_results_no_dummy.groupby('Train-Test')['Balanced Accuracy'].std() / (all_results_no_dummy.groupby('Train-Test')['Balanced Accuracy'].count().apply(lambda x: x**0.5))\n",
    "for i in range(len(average_acc)):\n",
    "    # print accuracy with format '0.2f' (2 decimal places)\n",
    "    print('Average accuracy for {} side: {:.2f} ± {:.2f}'.format(average_acc.index[i], average_acc[i]*100, err_acc[i]*100))"
   ]
  },
  {
   "cell_type": "code",
   "execution_count": 7,
   "metadata": {},
   "outputs": [
    {
     "data": {
      "text/html": [
       "<div>\n",
       "<style scoped>\n",
       "    .dataframe tbody tr th:only-of-type {\n",
       "        vertical-align: middle;\n",
       "    }\n",
       "\n",
       "    .dataframe tbody tr th {\n",
       "        vertical-align: top;\n",
       "    }\n",
       "\n",
       "    .dataframe thead th {\n",
       "        text-align: right;\n",
       "    }\n",
       "</style>\n",
       "<table border=\"1\" class=\"dataframe\">\n",
       "  <thead>\n",
       "    <tr style=\"text-align: right;\">\n",
       "      <th></th>\n",
       "      <th>Model</th>\n",
       "      <th>Balanced Accuracy</th>\n",
       "      <th>Standard Error</th>\n",
       "    </tr>\n",
       "    <tr>\n",
       "      <th>Train-Test</th>\n",
       "      <th></th>\n",
       "      <th></th>\n",
       "      <th></th>\n",
       "    </tr>\n",
       "  </thead>\n",
       "  <tbody>\n",
       "    <tr>\n",
       "      <th>Left-Left</th>\n",
       "      <td>XGBClassifier</td>\n",
       "      <td>0.834444</td>\n",
       "      <td>0.068958</td>\n",
       "    </tr>\n",
       "    <tr>\n",
       "      <th>Left-Right</th>\n",
       "      <td>XGBClassifier</td>\n",
       "      <td>0.819722</td>\n",
       "      <td>1.000000</td>\n",
       "    </tr>\n",
       "    <tr>\n",
       "      <th>Right-Left</th>\n",
       "      <td>XGBClassifier</td>\n",
       "      <td>0.739444</td>\n",
       "      <td>1.000000</td>\n",
       "    </tr>\n",
       "    <tr>\n",
       "      <th>Right-Right</th>\n",
       "      <td>XGBClassifier</td>\n",
       "      <td>0.875833</td>\n",
       "      <td>0.088371</td>\n",
       "    </tr>\n",
       "  </tbody>\n",
       "</table>\n",
       "</div>"
      ],
      "text/plain": [
       "                     Model  Balanced Accuracy  Standard Error\n",
       "Train-Test                                                   \n",
       "Left-Left    XGBClassifier           0.834444        0.068958\n",
       "Left-Right   XGBClassifier           0.819722        1.000000\n",
       "Right-Left   XGBClassifier           0.739444        1.000000\n",
       "Right-Right  XGBClassifier           0.875833        0.088371"
      ]
     },
     "metadata": {},
     "output_type": "display_data"
    }
   ],
   "source": [
    "max_acc = all_results_no_dummy.groupby('Train-Test').max()\n",
    "display(max_acc)"
   ]
  },
  {
   "cell_type": "markdown",
   "metadata": {},
   "source": [
    "## MWC2022"
   ]
  },
  {
   "cell_type": "code",
   "execution_count": 4,
   "metadata": {},
   "outputs": [
    {
     "data": {
      "application/vnd.jupyter.widget-view+json": {
       "model_id": "50652d90b2ea49389901a6ded0970e00",
       "version_major": 2,
       "version_minor": 0
      },
      "text/plain": [
       "Loading data:   0%|          | 0/1500 [00:00<?, ?it/s]"
      ]
     },
     "metadata": {},
     "output_type": "display_data"
    },
    {
     "name": "stderr",
     "output_type": "stream",
     "text": [
      "/tmp/ipykernel_435275/2149678048.py:149: SettingWithCopyWarning: \n",
      "A value is trying to be set on a copy of a slice from a DataFrame.\n",
      "Try using .loc[row_indexer,col_indexer] = value instead\n",
      "\n",
      "See the caveats in the documentation: https://pandas.pydata.org/pandas-docs/stable/user_guide/indexing.html#returning-a-view-versus-a-copy\n",
      "  data.loc[:, \"Side\"] = data.loc[:, \"Side\"].map(renaming_dict)\n"
     ]
    }
   ],
   "source": [
    "path_to_save_data_avgs = \"../data.nosync/mwc2022/results/nested_all.h5\"\n",
    "\n",
    "order = [\n",
    "    \"Left-Left\",\n",
    "    \"Right-Right\",\n",
    "    \"Left-Right\",\n",
    "    \"Right-Left\",\n",
    "]\n",
    "# Create an empty dictionary to store the loaded DataFrames\n",
    "all_results = load_prepare_data(path_to_save_data_avgs)\n",
    "all_results_no_dummy = remove_dummy(data=all_results)\n",
    "all_results_no_dummy = clean_side_names(data=all_results_no_dummy)\n"
   ]
  },
  {
   "cell_type": "code",
   "execution_count": 5,
   "metadata": {},
   "outputs": [
    {
     "data": {
      "image/png": "[encoded data removed]",
      "text/plain": [
       "<Figure size 640x480 with 1 Axes>"
      ]
     },
     "metadata": {},
     "output_type": "display_data"
    }
   ],
   "source": [
    "make_violin_accuracy(\n",
    "    data=all_results_no_dummy,\n",
    "    sides=order,\n",
    "    path_to_save_fig=\"../final_visualizations/violin_nested_accuracy_mwc2022.pdf\",\n",
    "    xlim=(0.3,1),\n",
    "    small_fontsize=18, \n",
    "    medium_fontsize=24,\n",
    "    large_fontsize=25,\n",
    ")\n"
   ]
  },
  {
   "cell_type": "code",
   "execution_count": 10,
   "metadata": {},
   "outputs": [
    {
     "name": "stdout",
     "output_type": "stream",
     "text": [
      "Average accuracy for Left-Left side: 73.70 ± 0.09\n",
      "Average accuracy for Left-Right side: 67.00 ± 0.08\n",
      "Average accuracy for Right-Left side: 70.52 ± 0.09\n",
      "Average accuracy for Right-Right side: 70.18 ± 0.10\n"
     ]
    }
   ],
   "source": [
    "average_acc = all_results_no_dummy.groupby('Train-Test')['Balanced Accuracy'].mean()\n",
    "# NOTE: this error estimation is not actually correct.\n",
    "err_acc = all_results_no_dummy.groupby('Train-Test')['Balanced Accuracy'].std() / (all_results_no_dummy.groupby('Train-Test')['Balanced Accuracy'].count().apply(lambda x: x**0.5))\n",
    "for i in range(len(average_acc)):\n",
    "    # print accuracy with format '0.2f' (2 decimal places)\n",
    "    print('Average accuracy for {} side: {:.2f} ± {:.2f}'.format(average_acc.index[i], average_acc[i]*100, err_acc[i]*100))"
   ]
  },
  {
   "cell_type": "code",
   "execution_count": 11,
   "metadata": {},
   "outputs": [
    {
     "data": {
      "text/html": [
       "<div>\n",
       "<style scoped>\n",
       "    .dataframe tbody tr th:only-of-type {\n",
       "        vertical-align: middle;\n",
       "    }\n",
       "\n",
       "    .dataframe tbody tr th {\n",
       "        vertical-align: top;\n",
       "    }\n",
       "\n",
       "    .dataframe thead th {\n",
       "        text-align: right;\n",
       "    }\n",
       "</style>\n",
       "<table border=\"1\" class=\"dataframe\">\n",
       "  <thead>\n",
       "    <tr style=\"text-align: right;\">\n",
       "      <th></th>\n",
       "      <th>Model</th>\n",
       "      <th>Balanced Accuracy</th>\n",
       "      <th>Standard Error</th>\n",
       "    </tr>\n",
       "    <tr>\n",
       "      <th>Train-Test</th>\n",
       "      <th></th>\n",
       "      <th></th>\n",
       "      <th></th>\n",
       "    </tr>\n",
       "  </thead>\n",
       "  <tbody>\n",
       "    <tr>\n",
       "      <th>Left-Left</th>\n",
       "      <td>XGBClassifier</td>\n",
       "      <td>0.852486</td>\n",
       "      <td>0.060536</td>\n",
       "    </tr>\n",
       "    <tr>\n",
       "      <th>Left-Right</th>\n",
       "      <td>XGBClassifier</td>\n",
       "      <td>0.739617</td>\n",
       "      <td>1.000000</td>\n",
       "    </tr>\n",
       "    <tr>\n",
       "      <th>Right-Left</th>\n",
       "      <td>XGBClassifier</td>\n",
       "      <td>0.770070</td>\n",
       "      <td>1.000000</td>\n",
       "    </tr>\n",
       "    <tr>\n",
       "      <th>Right-Right</th>\n",
       "      <td>XGBClassifier</td>\n",
       "      <td>0.815008</td>\n",
       "      <td>0.066661</td>\n",
       "    </tr>\n",
       "  </tbody>\n",
       "</table>\n",
       "</div>"
      ],
      "text/plain": [
       "                     Model  Balanced Accuracy  Standard Error\n",
       "Train-Test                                                   \n",
       "Left-Left    XGBClassifier           0.852486        0.060536\n",
       "Left-Right   XGBClassifier           0.739617        1.000000\n",
       "Right-Left   XGBClassifier           0.770070        1.000000\n",
       "Right-Right  XGBClassifier           0.815008        0.066661"
      ]
     },
     "metadata": {},
     "output_type": "display_data"
    }
   ],
   "source": [
    "max_acc = all_results_no_dummy.groupby('Train-Test').max()\n",
    "display(max_acc)"
   ]
  },
  {
   "cell_type": "code",
   "execution_count": null,
   "metadata": {},
   "outputs": [],
   "source": []
  }
 ],
 "metadata": {
  "kernelspec": {
   "display_name": "laugh2",
   "language": "python",
   "name": "python3"
  },
  "language_info": {
   "codemirror_mode": {
    "name": "ipython",
    "version": 3
   },
   "file_extension": ".py",
   "mimetype": "text/x-python",
   "name": "python",
   "nbconvert_exporter": "python",
   "pygments_lexer": "ipython3",
   "version": "3.10.9"
  },
  "orig_nbformat": 4
 },
 "nbformat": 4,
 "nbformat_minor": 2
}
