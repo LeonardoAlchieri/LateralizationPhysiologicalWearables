{
 "cells": [
  {
   "cell_type": "markdown",
   "metadata": {},
   "source": [
    "# Averaged data"
   ]
  },
  {
   "cell_type": "code",
   "execution_count": 5,
   "metadata": {},
   "outputs": [],
   "source": [
    "from pandas import HDFStore, DataFrame, Series\n",
    "from tqdm.auto import tqdm\n",
    "from pandas import concat\n",
    "\n",
    "\n",
    "def load_averaged_data(path: str) -> tuple[DataFrame, Series, Series]:\n",
    "    loaded_data: dict[str, DataFrame] = {}\n",
    "\n",
    "    # Open the HDF5 file\n",
    "    with HDFStore(path) as store:\n",
    "        # Iterate through the keys (group names) in the HDF5 file\n",
    "        for key in tqdm(store.keys(), desc='Loading data'):\n",
    "            # Load each DataFrame and store it in the dictionary\n",
    "            loaded_data[key] = store[key]\n",
    "\n",
    "    concated_df_avgs = concat(\n",
    "        [loaded_data[key][(\"Average\", \"Balanced Accuracy\")] for key in loaded_data.keys()],\n",
    "        axis=1,\n",
    "        keys=[el[1:] for el in loaded_data.keys()],\n",
    "    )\n",
    "    concated_df_errs = concat(\n",
    "        [loaded_data[key][(\"Standard error\", \"Balanced Accuracy\")] for key in loaded_data.keys()],\n",
    "        axis=1,\n",
    "        keys=[el[1:] for el in loaded_data.keys()],\n",
    "    )\n",
    "    df_avgs = concated_df_avgs.unstack().reset_index()\n",
    "    df_avgs.columns = [\"side\", \"classifier\", \"accuracy\"]\n",
    "\n",
    "    df_errs = concated_df_errs.unstack().reset_index()\n",
    "    df_errs.columns = [\"side\", \"classifier\", \"accuracy\"]\n",
    "    upper_errs = df_errs[\"accuracy\"]\n",
    "    lower_errs = df_errs[\"accuracy\"]\n",
    "    return df_avgs, upper_errs, lower_errs, df_errs\n",
    "    \n",
    "def make_linerrorplot(data: DataFrame, lower_errs: Series, upper_errs: Series, path_to_save: str) -> None:\n",
    "    import seaborn as sns\n",
    "    import matplotlib.pyplot as plt\n",
    "    \n",
    "    \n",
    "    plt.figure(figsize=(3, 7))\n",
    "    sns.set_style(\"darkgrid\")\n",
    "    \n",
    "    palette = sns.color_palette(\"colorblind\")\n",
    "    # sns.scatterplot(data=df, x='side', y='accuracy', hue='classifier')\n",
    "    plt.errorbar(\n",
    "        x=data[\"side\"],\n",
    "        y=data[\"accuracy\"],\n",
    "        xerr=None,\n",
    "        yerr=(lower_errs, upper_errs),\n",
    "        # label=custom_label,\n",
    "        elinewidth=5,\n",
    "        linestyle=\"none\",\n",
    "        markersize=1,\n",
    "        marker=\".\",\n",
    "        color=palette[0],\n",
    "        ecolor=(*palette[0], 0.3),\n",
    "    )\n",
    "    plt.ylim(0.5, 1.0)\n",
    "    \n",
    "    plt.savefig(path_to_save, bbox_inches=\"tight\")\n",
    "    plt.show()\n",
    "    # legend off\n",
    "    # plt.legend(bbox_to_anchor=(1.05, 1), loc=2, borderaxespad=0.0)\n",
    "    # "
   ]
  },
  {
   "cell_type": "markdown",
   "metadata": {},
   "source": [
    "## USILaughs"
   ]
  },
  {
   "cell_type": "code",
   "execution_count": 7,
   "metadata": {},
   "outputs": [
    {
     "data": {
      "application/vnd.jupyter.widget-view+json": {
       "model_id": "a2130535163042df9bfe4bfe27753bf8",
       "version_major": 2,
       "version_minor": 0
      },
      "text/plain": [
       "Loading data:   0%|          | 0/4 [00:00<?, ?it/s]"
      ]
     },
     "metadata": {},
     "output_type": "display_data"
    }
   ],
   "source": [
    "path_to_save_data_avgs = \"../data.nosync/usilaughs/results/n_fold_fix_avg.h5\"\n",
    "# Create an empty dictionary to store the loaded DataFrames\n",
    "df_avgs, upper_errs, lower_errs, df_errs = load_averaged_data(path_to_save_data_avgs)"
   ]
  },
  {
   "cell_type": "code",
   "execution_count": 9,
   "metadata": {},
   "outputs": [
    {
     "data": {
      "text/plain": [
       "27"
      ]
     },
     "execution_count": 9,
     "metadata": {},
     "output_type": "execute_result"
    }
   ],
   "source": [
    "df_avgs['classifier'].nunique()"
   ]
  },
  {
   "cell_type": "code",
   "execution_count": 10,
   "metadata": {},
   "outputs": [
    {
     "data": {
      "text/plain": [
       "array(['ExtraTreesClassifier', 'LGBMClassifier', 'RandomForestClassifier',\n",
       "       'XGBClassifier', 'BaggingClassifier', 'SVC', 'NuSVC',\n",
       "       'DecisionTreeClassifier', 'AdaBoostClassifier',\n",
       "       'KNeighborsClassifier', 'LabelPropagation', 'LabelSpreading',\n",
       "       'BernoulliNB', 'CalibratedClassifierCV', 'NearestCentroid',\n",
       "       'LogisticRegression', 'SGDClassifier', 'LinearSVC',\n",
       "       'RidgeClassifier', 'LinearDiscriminantAnalysis',\n",
       "       'ExtraTreeClassifier', 'RidgeClassifierCV', 'GaussianNB',\n",
       "       'PassiveAggressiveClassifier', 'QuadraticDiscriminantAnalysis',\n",
       "       'Perceptron', 'DummyClassifier'], dtype=object)"
      ]
     },
     "execution_count": 10,
     "metadata": {},
     "output_type": "execute_result"
    }
   ],
   "source": [
    "df_avgs['classifier'].unique()"
   ]
  },
  {
   "cell_type": "code",
   "execution_count": 11,
   "metadata": {},
   "outputs": [
    {
     "data": {
      "text/html": [
       "<div>\n",
       "<style scoped>\n",
       "    .dataframe tbody tr th:only-of-type {\n",
       "        vertical-align: middle;\n",
       "    }\n",
       "\n",
       "    .dataframe tbody tr th {\n",
       "        vertical-align: top;\n",
       "    }\n",
       "\n",
       "    .dataframe thead tr th {\n",
       "        text-align: left;\n",
       "    }\n",
       "\n",
       "    .dataframe thead tr:last-of-type th {\n",
       "        text-align: right;\n",
       "    }\n",
       "</style>\n",
       "<table border=\"1\" class=\"dataframe\">\n",
       "  <thead>\n",
       "    <tr>\n",
       "      <th></th>\n",
       "      <th>errors</th>\n",
       "      <th colspan=\"2\" halign=\"left\">averages</th>\n",
       "    </tr>\n",
       "    <tr>\n",
       "      <th></th>\n",
       "      <th>accuracy</th>\n",
       "      <th>classifier</th>\n",
       "      <th>accuracy</th>\n",
       "    </tr>\n",
       "    <tr>\n",
       "      <th>(averages, side)</th>\n",
       "      <th></th>\n",
       "      <th></th>\n",
       "      <th></th>\n",
       "    </tr>\n",
       "  </thead>\n",
       "  <tbody>\n",
       "    <tr>\n",
       "      <th>left</th>\n",
       "      <td>2.395833</td>\n",
       "      <td>XGBClassifierXGBClassifierXGBClassifierXGBClas...</td>\n",
       "      <td>79.140625</td>\n",
       "    </tr>\n",
       "    <tr>\n",
       "      <th>lxrx</th>\n",
       "      <td>NaN</td>\n",
       "      <td>XGBClassifierXGBClassifierXGBClassifierXGBClas...</td>\n",
       "      <td>77.682292</td>\n",
       "    </tr>\n",
       "    <tr>\n",
       "      <th>right</th>\n",
       "      <td>3.359375</td>\n",
       "      <td>XGBClassifierXGBClassifierXGBClassifierXGBClas...</td>\n",
       "      <td>83.151042</td>\n",
       "    </tr>\n",
       "    <tr>\n",
       "      <th>rxlx</th>\n",
       "      <td>NaN</td>\n",
       "      <td>XGBClassifierXGBClassifierXGBClassifierXGBClas...</td>\n",
       "      <td>71.927083</td>\n",
       "    </tr>\n",
       "  </tbody>\n",
       "</table>\n",
       "</div>"
      ],
      "text/plain": [
       "                    errors                                           averages  \\\n",
       "                  accuracy                                         classifier   \n",
       "(averages, side)                                                                \n",
       "left              2.395833  XGBClassifierXGBClassifierXGBClassifierXGBClas...   \n",
       "lxrx                   NaN  XGBClassifierXGBClassifierXGBClassifierXGBClas...   \n",
       "right             3.359375  XGBClassifierXGBClassifierXGBClassifierXGBClas...   \n",
       "rxlx                   NaN  XGBClassifierXGBClassifierXGBClassifierXGBClas...   \n",
       "\n",
       "                             \n",
       "                   accuracy  \n",
       "(averages, side)             \n",
       "left              79.140625  \n",
       "lxrx              77.682292  \n",
       "right             83.151042  \n",
       "rxlx              71.927083  "
      ]
     },
     "metadata": {},
     "output_type": "display_data"
    }
   ],
   "source": [
    "display(\n",
    "    concat([df_errs[\"accuracy\"], df_avgs], axis=1, keys=[\"errors\", \"averages\"])\n",
    "    .groupby((\"averages\", \"side\"))\n",
    "    .max()*100\n",
    ")\n"
   ]
  },
  {
   "cell_type": "code",
   "execution_count": 3,
   "metadata": {},
   "outputs": [
    {
     "data": {
      "text/html": [
       "<div>\n",
       "<style scoped>\n",
       "    .dataframe tbody tr th:only-of-type {\n",
       "        vertical-align: middle;\n",
       "    }\n",
       "\n",
       "    .dataframe tbody tr th {\n",
       "        vertical-align: top;\n",
       "    }\n",
       "\n",
       "    .dataframe thead tr th {\n",
       "        text-align: left;\n",
       "    }\n",
       "\n",
       "    .dataframe thead tr:last-of-type th {\n",
       "        text-align: right;\n",
       "    }\n",
       "</style>\n",
       "<table border=\"1\" class=\"dataframe\">\n",
       "  <thead>\n",
       "    <tr>\n",
       "      <th></th>\n",
       "      <th>errors</th>\n",
       "      <th colspan=\"2\" halign=\"left\">averages</th>\n",
       "    </tr>\n",
       "    <tr>\n",
       "      <th></th>\n",
       "      <th>accuracy</th>\n",
       "      <th>classifier</th>\n",
       "      <th>accuracy</th>\n",
       "    </tr>\n",
       "    <tr>\n",
       "      <th>(averages, side)</th>\n",
       "      <th></th>\n",
       "      <th></th>\n",
       "      <th></th>\n",
       "    </tr>\n",
       "  </thead>\n",
       "  <tbody>\n",
       "    <tr>\n",
       "      <th>left</th>\n",
       "      <td>0.096634</td>\n",
       "      <td>XGBClassifierXGBClassifierXGBClassifierXGBClas...</td>\n",
       "      <td>80.272487</td>\n",
       "    </tr>\n",
       "    <tr>\n",
       "      <th>lxrx</th>\n",
       "      <td>0.847246</td>\n",
       "      <td>XGBClassifierXGBClassifierXGBClassifierXGBClas...</td>\n",
       "      <td>78.333333</td>\n",
       "    </tr>\n",
       "    <tr>\n",
       "      <th>right</th>\n",
       "      <td>0.108450</td>\n",
       "      <td>XGBClassifierXGBClassifierXGBClassifierXGBClas...</td>\n",
       "      <td>85.287515</td>\n",
       "    </tr>\n",
       "    <tr>\n",
       "      <th>rxlx</th>\n",
       "      <td>0.453284</td>\n",
       "      <td>XGBClassifierXGBClassifierXGBClassifierXGBClas...</td>\n",
       "      <td>71.888021</td>\n",
       "    </tr>\n",
       "  </tbody>\n",
       "</table>\n",
       "</div>"
      ],
      "text/plain": [
       "                    errors                                           averages  \\\n",
       "                  accuracy                                         classifier   \n",
       "(averages, side)                                                                \n",
       "left              0.096634  XGBClassifierXGBClassifierXGBClassifierXGBClas...   \n",
       "lxrx              0.847246  XGBClassifierXGBClassifierXGBClassifierXGBClas...   \n",
       "right             0.108450  XGBClassifierXGBClassifierXGBClassifierXGBClas...   \n",
       "rxlx              0.453284  XGBClassifierXGBClassifierXGBClassifierXGBClas...   \n",
       "\n",
       "                             \n",
       "                   accuracy  \n",
       "(averages, side)             \n",
       "left              80.272487  \n",
       "lxrx              78.333333  \n",
       "right             85.287515  \n",
       "rxlx              71.888021  "
      ]
     },
     "metadata": {},
     "output_type": "display_data"
    }
   ],
   "source": [
    "display(\n",
    "    concat([df_errs[\"accuracy\"], df_avgs], axis=1, keys=[\"errors\", \"averages\"])\n",
    "    .groupby((\"averages\", \"side\"))\n",
    "    .max()*100\n",
    ")\n"
   ]
  },
  {
   "cell_type": "markdown",
   "metadata": {},
   "source": [
    "## MWC2022"
   ]
  },
  {
   "cell_type": "code",
   "execution_count": 4,
   "metadata": {},
   "outputs": [
    {
     "data": {
      "application/vnd.jupyter.widget-view+json": {
       "model_id": "489e9b5176a142babbe37620cfbb1c12",
       "version_major": 2,
       "version_minor": 0
      },
      "text/plain": [
       "Loading data:   0%|          | 0/4 [00:00<?, ?it/s]"
      ]
     },
     "metadata": {},
     "output_type": "display_data"
    }
   ],
   "source": [
    "path_to_save_data_avgs = \"../data.nosync/mwc2022/results/n_fold_avg.h5\"\n",
    "# Create an empty dictionary to store the loaded DataFrames\n",
    "df_avgs, upper_errs, lower_errs, df_errs = load_averaged_data(path_to_save_data_avgs)"
   ]
  },
  {
   "cell_type": "code",
   "execution_count": 5,
   "metadata": {},
   "outputs": [
    {
     "data": {
      "text/html": [
       "<div>\n",
       "<style scoped>\n",
       "    .dataframe tbody tr th:only-of-type {\n",
       "        vertical-align: middle;\n",
       "    }\n",
       "\n",
       "    .dataframe tbody tr th {\n",
       "        vertical-align: top;\n",
       "    }\n",
       "\n",
       "    .dataframe thead tr th {\n",
       "        text-align: left;\n",
       "    }\n",
       "\n",
       "    .dataframe thead tr:last-of-type th {\n",
       "        text-align: right;\n",
       "    }\n",
       "</style>\n",
       "<table border=\"1\" class=\"dataframe\">\n",
       "  <thead>\n",
       "    <tr>\n",
       "      <th></th>\n",
       "      <th>errors</th>\n",
       "      <th colspan=\"2\" halign=\"left\">averages</th>\n",
       "    </tr>\n",
       "    <tr>\n",
       "      <th></th>\n",
       "      <th>accuracy</th>\n",
       "      <th>classifier</th>\n",
       "      <th>accuracy</th>\n",
       "    </tr>\n",
       "    <tr>\n",
       "      <th>(averages, side)</th>\n",
       "      <th></th>\n",
       "      <th></th>\n",
       "      <th></th>\n",
       "    </tr>\n",
       "  </thead>\n",
       "  <tbody>\n",
       "    <tr>\n",
       "      <th>left</th>\n",
       "      <td>0.099683</td>\n",
       "      <td>XGBClassifierXGBClassifierXGBClassifierXGBClas...</td>\n",
       "      <td>85.498009</td>\n",
       "    </tr>\n",
       "    <tr>\n",
       "      <th>lxrx</th>\n",
       "      <td>0.631455</td>\n",
       "      <td>XGBClassifierXGBClassifierXGBClassifierXGBClas...</td>\n",
       "      <td>73.583691</td>\n",
       "    </tr>\n",
       "    <tr>\n",
       "      <th>right</th>\n",
       "      <td>0.084519</td>\n",
       "      <td>XGBClassifierXGBClassifierXGBClassifierXGBClas...</td>\n",
       "      <td>82.092787</td>\n",
       "    </tr>\n",
       "    <tr>\n",
       "      <th>rxlx</th>\n",
       "      <td>0.785711</td>\n",
       "      <td>XGBClassifierXGBClassifierXGBClassifierXGBClas...</td>\n",
       "      <td>77.376609</td>\n",
       "    </tr>\n",
       "  </tbody>\n",
       "</table>\n",
       "</div>"
      ],
      "text/plain": [
       "                    errors                                           averages  \\\n",
       "                  accuracy                                         classifier   \n",
       "(averages, side)                                                                \n",
       "left              0.099683  XGBClassifierXGBClassifierXGBClassifierXGBClas...   \n",
       "lxrx              0.631455  XGBClassifierXGBClassifierXGBClassifierXGBClas...   \n",
       "right             0.084519  XGBClassifierXGBClassifierXGBClassifierXGBClas...   \n",
       "rxlx              0.785711  XGBClassifierXGBClassifierXGBClassifierXGBClas...   \n",
       "\n",
       "                             \n",
       "                   accuracy  \n",
       "(averages, side)             \n",
       "left              85.498009  \n",
       "lxrx              73.583691  \n",
       "right             82.092787  \n",
       "rxlx              77.376609  "
      ]
     },
     "metadata": {},
     "output_type": "display_data"
    }
   ],
   "source": [
    "display(\n",
    "    concat([df_errs[\"accuracy\"], df_avgs], axis=1, keys=[\"errors\", \"averages\"])\n",
    "    .groupby((\"averages\", \"side\"))\n",
    "    .max()*100\n",
    ")\n"
   ]
  },
  {
   "cell_type": "markdown",
   "metadata": {},
   "source": [
    "# Total data"
   ]
  },
  {
   "cell_type": "code",
   "execution_count": 2,
   "metadata": {},
   "outputs": [],
   "source": [
    "from pandas import DataFrame, concat, MultiIndex, Series\n",
    "from collections import defaultdict\n",
    "from pandas import concat\n",
    "from numpy import nanstd\n",
    "import seaborn as sns\n",
    "import matplotlib.pyplot as plt\n",
    "from statannotations.Annotator import Annotator\n",
    "import itertools\n",
    "from pandas import HDFStore, DataFrame\n",
    "from tqdm.auto import tqdm\n",
    "\n",
    "\n",
    "def calculate_fold_df(data: DataFrame):\n",
    "    avgs = concat(\n",
    "        [fold_res[\"Accuracy\"] for fold_res in data.values()],\n",
    "        axis=1,\n",
    "        keys=range(5),\n",
    "    ).mean(axis=1)\n",
    "    errs = concat(\n",
    "        [fold_res[\"Accuracy\"] for fold_res in data.values()],\n",
    "        axis=1,\n",
    "        keys=range(5),\n",
    "    ).apply(lambda x: nanstd(x) / ((len(x - 1)) ** 0.5) if len(x) > 1 else 1, axis=1)\n",
    "    return concat([avgs, errs], axis=1, keys=[\"Accuracy\", \"Standard Error\"])\n",
    "\n",
    "\n",
    "def concatenate_prepared_data(data: dict[str, DataFrame]) -> DataFrame:\n",
    "    concated_df_dict: dict[DataFrame, Series] = {}\n",
    "    sides: list[str] = [\"left\", \"right\", \"lxrx\", \"rxlx\"]\n",
    "    for side in sides:\n",
    "        concated_df_dict[side] = concat(\n",
    "            [\n",
    "                data[key][[\"Accuracy\", \"Standard Error\"]].sort_index()\n",
    "                for key in data.keys()\n",
    "                if side in key\n",
    "            ],\n",
    "            axis=0,\n",
    "            keys=[key[1:5] for key in data.keys() if side in key],\n",
    "        )\n",
    "        concated_df_dict[side].index = concated_df_dict[side].index.droplevel(0)\n",
    "\n",
    "    all_results = concat(\n",
    "        list(concated_df_dict.values()),\n",
    "        axis=0,\n",
    "        keys=sides,\n",
    "        # ignore_index=True,\n",
    "    )\n",
    "    all_results = all_results.reset_index()\n",
    "    all_results.columns = [\"Side\", \"Model\", \"Accuracy\", \"Standard Error\"]\n",
    "    return all_results\n",
    "\n",
    "\n",
    "def load_prepare_data(path_to_all_data: str) -> DataFrame:\n",
    "    loaded_data = defaultdict(lambda: defaultdict(lambda: dict()))\n",
    "\n",
    "    # Open the HDF5 file\n",
    "    with HDFStore(path_to_save_data_avgs) as store:\n",
    "        # Iterate through the keys (group names) in the HDF5 file\n",
    "        for key in tqdm(store.keys(), desc=\"Loading data\"):\n",
    "            # Load each DataFrame and store it in the dictionary\n",
    "            data = store[key]\n",
    "            split_key = key.split(\"_\")\n",
    "            loaded_data[split_key[0]][split_key[1]][split_key[2]] = data\n",
    "\n",
    "    loaded_data_correct = {\n",
    "        f\"{key1}_{key2}\": calculate_fold_df(loaded_data[key1][key2])\n",
    "        for key1 in loaded_data.keys()\n",
    "        for key2 in loaded_data[key1].keys()\n",
    "    }\n",
    "\n",
    "    return concatenate_prepared_data(data=loaded_data_correct)\n",
    "\n",
    "\n",
    "def remove_dummy(data: DataFrame) -> DataFrame:\n",
    "    return data[data[\"Model\"] != \"DummyClassifier\"]\n",
    "\n",
    "\n",
    "def make_violin_accuracy(\n",
    "    data: DataFrame,\n",
    "    sides: list[str],\n",
    "    path_to_save_fig: str,\n",
    "    small_fontsize: int = 14,\n",
    "    medium_fontsize: int = 18,\n",
    "    large_fontsize: int = 20,\n",
    "    xlim: tuple[float, float] | None = None,\n",
    "):\n",
    "    # set seaborn style\n",
    "    sns.set_style(\"darkgrid\")\n",
    "\n",
    "    # # set latex font\n",
    "    plt.rcParams[\"mathtext.fontset\"] = \"stix\"\n",
    "    plt.rcParams[\"font.family\"] = \"STIXGeneral\"\n",
    "    # plt.rcParams.update({\"font.size\": figsize *8})\n",
    "    plt.rcParams[\"axes.grid\"] = True\n",
    "\n",
    "    # increase font size\n",
    "    plt.rc(\"font\", size=small_fontsize)  # controls default text sizes\n",
    "    plt.rc(\"axes\", titlesize=medium_fontsize)  # fontsize of the axes title\n",
    "    plt.rc(\"axes\", labelsize=large_fontsize)  # fontsize of the x and y labels\n",
    "    plt.rc(\"xtick\", labelsize=small_fontsize)  # fontsize of the tick labels\n",
    "    plt.rc(\"ytick\", labelsize=small_fontsize)  # fontsize of the tick labels\n",
    "    plt.rc(\"legend\", fontsize=medium_fontsize)  # legend fontsize\n",
    "    plt.rc(\"figure\", titlesize=large_fontsize)  # fontsize of the figure title\n",
    "    plt.rcParams.update({\"font.size\": medium_fontsize})\n",
    "\n",
    "    ax = sns.violinplot(\n",
    "        data=data,\n",
    "        y=\"Train-Test\",\n",
    "        x=\"Accuracy\",\n",
    "        palette=\"colorblind\",\n",
    "        orient=\"h\",\n",
    "    )\n",
    "    annotator = Annotator(\n",
    "        ax,\n",
    "        list(itertools.combinations(sides, 2)),\n",
    "        data=data,\n",
    "        x=\"Accuracy\",\n",
    "        y=\"Train-Test\",\n",
    "        orient=\"h\",\n",
    "        order=sides,\n",
    "    )\n",
    "    annotator.configure(\n",
    "        test=\"Mann-Whitney\",\n",
    "        comparisons_correction=\"BH\",\n",
    "        text_format=\"star\",\n",
    "        loc=\"outside\",\n",
    "    )\n",
    "    annotator.apply_and_annotate()\n",
    "\n",
    "    # set vertical line at 0.5\n",
    "    plt.axvline(x=0.5, color=\"black\", linestyle=\"--\", linewidth=1)\n",
    "    if xlim:\n",
    "        plt.xlim(xlim)\n",
    "    plt.savefig(path_to_save_fig, bbox_inches=\"tight\")\n",
    "    plt.show()\n",
    "\n",
    "\n",
    "def clean_side_names(\n",
    "    data: DataFrame, renaming_dict: dict[str, str] | None = None\n",
    ") -> DataFrame:\n",
    "    if renaming_dict is None:\n",
    "        renaming_dict = {\n",
    "            \"left\": \"Left-Left\",\n",
    "            \"right\": \"Right-Right\",\n",
    "            \"lxrx\": \"Left-Right\",\n",
    "            \"rxlx\": \"Right-Left\",\n",
    "        }\n",
    "    renaming_dict: dict[str, str]\n",
    "    data.loc[:, \"Side\"] = data.loc[:, \"Side\"].map(renaming_dict)\n",
    "    return data.rename(columns={\"Side\": \"Train-Test\"}, inplace=False)\n"
   ]
  },
  {
   "cell_type": "markdown",
   "metadata": {},
   "source": [
    "## USILaughs"
   ]
  },
  {
   "cell_type": "code",
   "execution_count": 3,
   "metadata": {},
   "outputs": [
    {
     "data": {
      "application/vnd.jupyter.widget-view+json": {
       "model_id": "528dbffeb84a4147b392ef40a20d7b53",
       "version_major": 2,
       "version_minor": 0
      },
      "text/plain": [
       "Loading data:   0%|          | 0/10200 [00:00<?, ?it/s]"
      ]
     },
     "metadata": {},
     "output_type": "display_data"
    },
    {
     "name": "stderr",
     "output_type": "stream",
     "text": [
      "/var/folders/rc/t3h_b88s3vbg5dcd4pnlgskr0000gp/T/ipykernel_215/1615981044.py:149: SettingWithCopyWarning: \n",
      "A value is trying to be set on a copy of a slice from a DataFrame.\n",
      "Try using .loc[row_indexer,col_indexer] = value instead\n",
      "\n",
      "See the caveats in the documentation: https://pandas.pydata.org/pandas-docs/stable/user_guide/indexing.html#returning-a-view-versus-a-copy\n",
      "  data.loc[:, \"Side\"] = data.loc[:, \"Side\"].map(renaming_dict)\n"
     ]
    }
   ],
   "source": [
    "path_to_save_data_avgs = \"../data.nosync/usilaughs/results/n_fold_all.h5\"\n",
    "\n",
    "order = [\n",
    "    \"Left-Left\",\n",
    "    \"Right-Right\",\n",
    "    \"Left-Right\",\n",
    "    \"Right-Left\",\n",
    "]\n",
    "# Create an empty dictionary to store the loaded DataFrames\n",
    "all_results = load_prepare_data(path_to_save_data_avgs)\n",
    "all_results_no_dummy = remove_dummy(data=all_results)\n",
    "all_results_no_dummy = clean_side_names(data=all_results_no_dummy)\n"
   ]
  },
  {
   "cell_type": "code",
   "execution_count": 5,
   "metadata": {},
   "outputs": [
    {
     "name": "stdout",
     "output_type": "stream",
     "text": [
      "p-value annotation legend:\n",
      "      ns: p <= 1.00e+00\n",
      "       *: 1.00e-02 < p <= 5.00e-02\n",
      "      **: 1.00e-03 < p <= 1.00e-02\n",
      "     ***: 1.00e-04 < p <= 1.00e-03\n",
      "    ****: p <= 1.00e-04\n",
      "\n",
      "Left-Left vs. Right-Right: Mann-Whitney-Wilcoxon test two-sided with Benjamini-Hochberg correction, P_val:0.000e+00 U_stat=1.607e+08\n",
      "Right-Right vs. Left-Right: Mann-Whitney-Wilcoxon test two-sided with Benjamini-Hochberg correction, P_val:0.000e+00 U_stat=4.967e+07\n",
      "Left-Right vs. Right-Left: Mann-Whitney-Wilcoxon test two-sided with Benjamini-Hochberg correction, P_val:8.196e-109 U_stat=4.579e+06\n",
      "Left-Left vs. Left-Right: Mann-Whitney-Wilcoxon test two-sided with Benjamini-Hochberg correction, P_val:2.663e-35 U_stat=2.882e+07\n",
      "Right-Right vs. Right-Left: Mann-Whitney-Wilcoxon test two-sided with Benjamini-Hochberg correction, P_val:0.000e+00 U_stat=5.985e+07\n",
      "Left-Left vs. Right-Left: Mann-Whitney-Wilcoxon test two-sided with Benjamini-Hochberg correction, P_val:1.175e-11 U_stat=3.652e+07\n"
     ]
    },
    {
     "data": {
      "image/png": "[encoded data removed]",
      "text/plain": [
       "<Figure size 640x480 with 1 Axes>"
      ]
     },
     "metadata": {},
     "output_type": "display_data"
    }
   ],
   "source": [
    "make_violin_accuracy(\n",
    "    data=all_results_no_dummy,\n",
    "    sides=order,\n",
    "    path_to_save_fig=\"../final_visualizations/violin_n_fold_accuracy_usilaughs.pdf\",\n",
    "    xlim=(0.3,1),\n",
    "    small_fontsize=18, \n",
    "    medium_fontsize=24,\n",
    "    large_fontsize=25,\n",
    ")\n"
   ]
  },
  {
   "cell_type": "code",
   "execution_count": 20,
   "metadata": {},
   "outputs": [
    {
     "name": "stdout",
     "output_type": "stream",
     "text": [
      "Average accuracy for Left-Left side: 67.01 ± 1.17\n",
      "Average accuracy for Left-Right side: 68.71 ± 1.20\n",
      "Average accuracy for Right-Left side: 65.42 ± 0.71\n",
      "Average accuracy for Right-Right side: 74.35 ± 0.87\n"
     ]
    }
   ],
   "source": [
    "average_acc = all_results_no_dummy.groupby('Train-Test')['Accuracy'].mean()\n",
    "# NOTE: this error estimation is not actually correct.\n",
    "err_acc = all_results_no_dummy.groupby('Train-Test')['Accuracy'].std() / (all_results_no_dummy.groupby('Train-Test')['Accuracy'].count().apply(lambda x: x**0.5))\n",
    "for i in range(len(average_acc)):\n",
    "    # print accuracy with format '0.2f' (2 decimal places)\n",
    "    print('Average accuracy for {} side: {:.2f} ± {:.2f}'.format(average_acc.index[i], average_acc[i]*100, err_acc[i]*100))"
   ]
  },
  {
   "cell_type": "code",
   "execution_count": 4,
   "metadata": {},
   "outputs": [
    {
     "name": "stdout",
     "output_type": "stream",
     "text": [
      "Average accuracy for Left-Left side: 67.23 ± 0.05\n",
      "Average accuracy for Left-Right side: 68.29 ± 0.13\n",
      "Average accuracy for Right-Left side: 65.38 ± 0.08\n",
      "Average accuracy for Right-Right side: 74.41 ± 0.04\n"
     ]
    }
   ],
   "source": [
    "average_acc = all_results_no_dummy.groupby('Train-Test')['Accuracy'].mean()\n",
    "# NOTE: this error estimation is not actually correct.\n",
    "err_acc = all_results_no_dummy.groupby('Train-Test')['Accuracy'].std() / (all_results_no_dummy.groupby('Train-Test')['Accuracy'].count().apply(lambda x: x**0.5))\n",
    "for i in range(len(average_acc)):\n",
    "    # print accuracy with format '0.2f' (2 decimal places)\n",
    "    print('Average accuracy for {} side: {:.2f} ± {:.2f}'.format(average_acc.index[i], average_acc[i]*100, err_acc[i]*100))"
   ]
  },
  {
   "cell_type": "code",
   "execution_count": 21,
   "metadata": {},
   "outputs": [
    {
     "data": {
      "text/html": [
       "<div>\n",
       "<style scoped>\n",
       "    .dataframe tbody tr th:only-of-type {\n",
       "        vertical-align: middle;\n",
       "    }\n",
       "\n",
       "    .dataframe tbody tr th {\n",
       "        vertical-align: top;\n",
       "    }\n",
       "\n",
       "    .dataframe thead th {\n",
       "        text-align: right;\n",
       "    }\n",
       "</style>\n",
       "<table border=\"1\" class=\"dataframe\">\n",
       "  <thead>\n",
       "    <tr style=\"text-align: right;\">\n",
       "      <th></th>\n",
       "      <th>Model</th>\n",
       "      <th>Accuracy</th>\n",
       "      <th>Standard Error</th>\n",
       "    </tr>\n",
       "    <tr>\n",
       "      <th>Train-Test</th>\n",
       "      <th></th>\n",
       "      <th></th>\n",
       "      <th></th>\n",
       "    </tr>\n",
       "  </thead>\n",
       "  <tbody>\n",
       "    <tr>\n",
       "      <th>Left-Left</th>\n",
       "      <td>XGBClassifier</td>\n",
       "      <td>0.784722</td>\n",
       "      <td>0.020460</td>\n",
       "    </tr>\n",
       "    <tr>\n",
       "      <th>Left-Right</th>\n",
       "      <td>XGBClassifier</td>\n",
       "      <td>0.777778</td>\n",
       "      <td>1.000000</td>\n",
       "    </tr>\n",
       "    <tr>\n",
       "      <th>Right-Left</th>\n",
       "      <td>XGBClassifier</td>\n",
       "      <td>0.719907</td>\n",
       "      <td>1.000000</td>\n",
       "    </tr>\n",
       "    <tr>\n",
       "      <th>Right-Right</th>\n",
       "      <td>XGBClassifier</td>\n",
       "      <td>0.831019</td>\n",
       "      <td>0.022915</td>\n",
       "    </tr>\n",
       "  </tbody>\n",
       "</table>\n",
       "</div>"
      ],
      "text/plain": [
       "                     Model  Accuracy  Standard Error\n",
       "Train-Test                                          \n",
       "Left-Left    XGBClassifier  0.784722        0.020460\n",
       "Left-Right   XGBClassifier  0.777778        1.000000\n",
       "Right-Left   XGBClassifier  0.719907        1.000000\n",
       "Right-Right  XGBClassifier  0.831019        0.022915"
      ]
     },
     "metadata": {},
     "output_type": "display_data"
    }
   ],
   "source": [
    "max_acc = all_results_no_dummy.groupby('Train-Test').max()\n",
    "display(max_acc)"
   ]
  },
  {
   "cell_type": "code",
   "execution_count": 5,
   "metadata": {},
   "outputs": [
    {
     "data": {
      "text/html": [
       "<div>\n",
       "<style scoped>\n",
       "    .dataframe tbody tr th:only-of-type {\n",
       "        vertical-align: middle;\n",
       "    }\n",
       "\n",
       "    .dataframe tbody tr th {\n",
       "        vertical-align: top;\n",
       "    }\n",
       "\n",
       "    .dataframe thead th {\n",
       "        text-align: right;\n",
       "    }\n",
       "</style>\n",
       "<table border=\"1\" class=\"dataframe\">\n",
       "  <thead>\n",
       "    <tr style=\"text-align: right;\">\n",
       "      <th></th>\n",
       "      <th>Model</th>\n",
       "      <th>Accuracy</th>\n",
       "      <th>Standard Error</th>\n",
       "    </tr>\n",
       "    <tr>\n",
       "      <th>Train-Test</th>\n",
       "      <th></th>\n",
       "      <th></th>\n",
       "      <th></th>\n",
       "    </tr>\n",
       "  </thead>\n",
       "  <tbody>\n",
       "    <tr>\n",
       "      <th>Left-Left</th>\n",
       "      <td>XGBClassifier</td>\n",
       "      <td>0.830761</td>\n",
       "      <td>0.057205</td>\n",
       "    </tr>\n",
       "    <tr>\n",
       "      <th>Left-Right</th>\n",
       "      <td>XGBClassifier</td>\n",
       "      <td>0.811198</td>\n",
       "      <td>1.000000</td>\n",
       "    </tr>\n",
       "    <tr>\n",
       "      <th>Right-Left</th>\n",
       "      <td>XGBClassifier</td>\n",
       "      <td>0.729167</td>\n",
       "      <td>1.000000</td>\n",
       "    </tr>\n",
       "    <tr>\n",
       "      <th>Right-Right</th>\n",
       "      <td>XGBClassifier</td>\n",
       "      <td>0.877549</td>\n",
       "      <td>0.067099</td>\n",
       "    </tr>\n",
       "  </tbody>\n",
       "</table>\n",
       "</div>"
      ],
      "text/plain": [
       "                     Model  Accuracy  Standard Error\n",
       "Train-Test                                          \n",
       "Left-Left    XGBClassifier  0.830761        0.057205\n",
       "Left-Right   XGBClassifier  0.811198        1.000000\n",
       "Right-Left   XGBClassifier  0.729167        1.000000\n",
       "Right-Right  XGBClassifier  0.877549        0.067099"
      ]
     },
     "metadata": {},
     "output_type": "display_data"
    }
   ],
   "source": [
    "max_acc = all_results_no_dummy.groupby('Train-Test').max()\n",
    "display(max_acc)"
   ]
  },
  {
   "cell_type": "markdown",
   "metadata": {},
   "source": [
    "## MWC2022"
   ]
  },
  {
   "cell_type": "code",
   "execution_count": 4,
   "metadata": {},
   "outputs": [
    {
     "data": {
      "application/vnd.jupyter.widget-view+json": {
       "model_id": "09b53efbd7e74e91920c0ad742d288af",
       "version_major": 2,
       "version_minor": 0
      },
      "text/plain": [
       "Loading data:   0%|          | 0/10200 [00:00<?, ?it/s]"
      ]
     },
     "metadata": {},
     "output_type": "display_data"
    },
    {
     "name": "stderr",
     "output_type": "stream",
     "text": [
      "/var/folders/rc/t3h_b88s3vbg5dcd4pnlgskr0000gp/T/ipykernel_57015/1615981044.py:149: SettingWithCopyWarning: \n",
      "A value is trying to be set on a copy of a slice from a DataFrame.\n",
      "Try using .loc[row_indexer,col_indexer] = value instead\n",
      "\n",
      "See the caveats in the documentation: https://pandas.pydata.org/pandas-docs/stable/user_guide/indexing.html#returning-a-view-versus-a-copy\n",
      "  data.loc[:, \"Side\"] = data.loc[:, \"Side\"].map(renaming_dict)\n"
     ]
    }
   ],
   "source": [
    "path_to_save_data_avgs = \"../data.nosync/mwc2022/results/n_fold_all.h5\"\n",
    "\n",
    "order = [\n",
    "    \"Left-Left\",\n",
    "    \"Right-Right\",\n",
    "    \"Left-Right\",\n",
    "    \"Right-Left\",\n",
    "]\n",
    "# Create an empty dictionary to store the loaded DataFrames\n",
    "all_results = load_prepare_data(path_to_save_data_avgs)\n",
    "all_results_no_dummy = remove_dummy(data=all_results)\n",
    "all_results_no_dummy = clean_side_names(data=all_results_no_dummy)\n"
   ]
  },
  {
   "cell_type": "code",
   "execution_count": 5,
   "metadata": {},
   "outputs": [
    {
     "name": "stdout",
     "output_type": "stream",
     "text": [
      "p-value annotation legend:\n",
      "      ns: p <= 1.00e+00\n",
      "       *: 1.00e-02 < p <= 5.00e-02\n",
      "      **: 1.00e-03 < p <= 1.00e-02\n",
      "     ***: 1.00e-04 < p <= 1.00e-03\n",
      "    ****: p <= 1.00e-04\n",
      "\n",
      "Left-Left vs. Right-Right: Mann-Whitney-Wilcoxon test two-sided with Benjamini-Hochberg correction, P_val:0.000e+00 U_stat=4.500e+08\n",
      "Right-Right vs. Left-Right: Mann-Whitney-Wilcoxon test two-sided with Benjamini-Hochberg correction, P_val:3.086e-148 U_stat=4.421e+07\n",
      "Left-Right vs. Right-Left: Mann-Whitney-Wilcoxon test two-sided with Benjamini-Hochberg correction, P_val:2.727e-216 U_stat=1.681e+06\n",
      "Left-Left vs. Left-Right: Mann-Whitney-Wilcoxon test two-sided with Benjamini-Hochberg correction, P_val:0.000e+00 U_stat=5.404e+07\n",
      "Right-Right vs. Right-Left: Mann-Whitney-Wilcoxon test two-sided with Benjamini-Hochberg correction, P_val:4.132e-36 U_stat=2.876e+07\n",
      "Left-Left vs. Right-Left: Mann-Whitney-Wilcoxon test two-sided with Benjamini-Hochberg correction, P_val:7.487e-114 U_stat=4.290e+07\n"
     ]
    },
    {
     "data": {
      "image/png": "[encoded data removed]",
      "text/plain": [
       "<Figure size 640x480 with 1 Axes>"
      ]
     },
     "metadata": {},
     "output_type": "display_data"
    }
   ],
   "source": [
    "make_violin_accuracy(\n",
    "    data=all_results_no_dummy,\n",
    "    sides=order,\n",
    "    path_to_save_fig=\"../final_visualizations/violin_n_fold_accuracy_mwc2022.pdf\",\n",
    "    xlim=(0.3,1),\n",
    "    small_fontsize=18, \n",
    "    medium_fontsize=24,\n",
    "    large_fontsize=25,\n",
    ")\n"
   ]
  },
  {
   "cell_type": "code",
   "execution_count": 8,
   "metadata": {},
   "outputs": [
    {
     "name": "stdout",
     "output_type": "stream",
     "text": [
      "Average accuracy for Left-Left side: 74.00 ± 0.04\n",
      "Average accuracy for Left-Right side: 67.60 ± 0.10\n",
      "Average accuracy for Right-Left side: 71.65 ± 0.09\n",
      "Average accuracy for Right-Right side: 70.66 ± 0.04\n"
     ]
    }
   ],
   "source": [
    "average_acc = all_results_no_dummy.groupby('Train-Test')['Accuracy'].mean()\n",
    "# NOTE: this error estimation is not actually correct.\n",
    "err_acc = all_results_no_dummy.groupby('Train-Test')['Accuracy'].std() / (all_results_no_dummy.groupby('Train-Test')['Accuracy'].count().apply(lambda x: x**0.5))\n",
    "for i in range(len(average_acc)):\n",
    "    # print accuracy with format '0.2f' (2 decimal places)\n",
    "    print('Average accuracy for {} side: {:.2f} ± {:.2f}'.format(average_acc.index[i], average_acc[i]*100, err_acc[i]*100))"
   ]
  },
  {
   "cell_type": "code",
   "execution_count": 9,
   "metadata": {},
   "outputs": [
    {
     "data": {
      "text/html": [
       "<div>\n",
       "<style scoped>\n",
       "    .dataframe tbody tr th:only-of-type {\n",
       "        vertical-align: middle;\n",
       "    }\n",
       "\n",
       "    .dataframe tbody tr th {\n",
       "        vertical-align: top;\n",
       "    }\n",
       "\n",
       "    .dataframe thead th {\n",
       "        text-align: right;\n",
       "    }\n",
       "</style>\n",
       "<table border=\"1\" class=\"dataframe\">\n",
       "  <thead>\n",
       "    <tr style=\"text-align: right;\">\n",
       "      <th></th>\n",
       "      <th>Model</th>\n",
       "      <th>Accuracy</th>\n",
       "      <th>Standard Error</th>\n",
       "    </tr>\n",
       "    <tr>\n",
       "      <th>Train-Test</th>\n",
       "      <th></th>\n",
       "      <th></th>\n",
       "      <th></th>\n",
       "    </tr>\n",
       "  </thead>\n",
       "  <tbody>\n",
       "    <tr>\n",
       "      <th>Left-Left</th>\n",
       "      <td>XGBClassifier</td>\n",
       "      <td>0.870701</td>\n",
       "      <td>0.067039</td>\n",
       "    </tr>\n",
       "    <tr>\n",
       "      <th>Left-Right</th>\n",
       "      <td>XGBClassifier</td>\n",
       "      <td>0.746245</td>\n",
       "      <td>1.000000</td>\n",
       "    </tr>\n",
       "    <tr>\n",
       "      <th>Right-Left</th>\n",
       "      <td>XGBClassifier</td>\n",
       "      <td>0.786481</td>\n",
       "      <td>1.000000</td>\n",
       "    </tr>\n",
       "    <tr>\n",
       "      <th>Right-Right</th>\n",
       "      <td>XGBClassifier</td>\n",
       "      <td>0.835317</td>\n",
       "      <td>0.060214</td>\n",
       "    </tr>\n",
       "  </tbody>\n",
       "</table>\n",
       "</div>"
      ],
      "text/plain": [
       "                     Model  Accuracy  Standard Error\n",
       "Train-Test                                          \n",
       "Left-Left    XGBClassifier  0.870701        0.067039\n",
       "Left-Right   XGBClassifier  0.746245        1.000000\n",
       "Right-Left   XGBClassifier  0.786481        1.000000\n",
       "Right-Right  XGBClassifier  0.835317        0.060214"
      ]
     },
     "metadata": {},
     "output_type": "display_data"
    }
   ],
   "source": [
    "max_acc = all_results_no_dummy.groupby('Train-Test').max()\n",
    "display(max_acc)"
   ]
  },
  {
   "cell_type": "code",
   "execution_count": null,
   "metadata": {},
   "outputs": [],
   "source": []
  }
 ],
 "metadata": {
  "kernelspec": {
   "display_name": "laugh2",
   "language": "python",
   "name": "python3"
  },
  "language_info": {
   "codemirror_mode": {
    "name": "ipython",
    "version": 3
   },
   "file_extension": ".py",
   "mimetype": "text/x-python",
   "name": "python",
   "nbconvert_exporter": "python",
   "pygments_lexer": "ipython3",
   "version": "3.10.9"
  },
  "orig_nbformat": 4
 },
 "nbformat": 4,
 "nbformat_minor": 2
}
