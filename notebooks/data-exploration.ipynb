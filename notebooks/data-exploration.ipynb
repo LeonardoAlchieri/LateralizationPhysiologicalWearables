{
 "cells": [
  {
   "attachments": {},
   "cell_type": "markdown",
   "metadata": {},
   "source": [
    "# Intro\n",
    "\n",
    "This notebook is intended to provide data exploration for all datasets concerning this Lateralization study. As the moment, the datasets impemented are:\n",
    "* USILaughs\n",
    "* MWC2022 study\n",
    "\n",
    "More should follow"
   ]
  },
  {
   "attachments": {},
   "cell_type": "markdown",
   "metadata": {},
   "source": [
    "# MWC 2022"
   ]
  },
  {
   "attachments": {},
   "cell_type": "markdown",
   "metadata": {},
   "source": [
    "## Sleep Info"
   ]
  },
  {
   "attachments": {},
   "cell_type": "markdown",
   "metadata": {},
   "source": [
    "For the moment, I shall consider the self-reports for the sleep data."
   ]
  },
  {
   "cell_type": "code",
   "execution_count": 3,
   "metadata": {},
   "outputs": [],
   "source": [
    "from pandas import read_csv, to_datetime"
   ]
  },
  {
   "cell_type": "code",
   "execution_count": 4,
   "metadata": {},
   "outputs": [],
   "source": [
    "experiment_info = read_csv('../data/all_experimento_info.csv', index_col=[0,1])\n",
    "experiment_info['bed_time'] = experiment_info['bed_time'].apply(to_datetime)\n",
    "experiment_info['wake_up_time'] = experiment_info['wake_up_time'].apply(to_datetime)\n",
    "experiment_info['bed_time'] = experiment_info['bed_time'].dt.tz_localize('Europe/Rome')\n",
    "experiment_info['wake_up_time'] = experiment_info['wake_up_time'].dt.tz_localize('Europe/Rome')"
   ]
  },
  {
   "attachments": {},
   "cell_type": "markdown",
   "metadata": {},
   "source": [
    "At the moment, I am excluding sessions with weird bed and wake up times, since they do not make sense."
   ]
  },
  {
   "cell_type": "code",
   "execution_count": 5,
   "metadata": {},
   "outputs": [
    {
     "data": {
      "text/html": [
       "<div>\n",
       "<style scoped>\n",
       "    .dataframe tbody tr th:only-of-type {\n",
       "        vertical-align: middle;\n",
       "    }\n",
       "\n",
       "    .dataframe tbody tr th {\n",
       "        vertical-align: top;\n",
       "    }\n",
       "\n",
       "    .dataframe thead th {\n",
       "        text-align: right;\n",
       "    }\n",
       "</style>\n",
       "<table border=\"1\" class=\"dataframe\">\n",
       "  <thead>\n",
       "    <tr style=\"text-align: right;\">\n",
       "      <th></th>\n",
       "      <th></th>\n",
       "      <th>index</th>\n",
       "      <th>bed_time</th>\n",
       "      <th>latency</th>\n",
       "      <th>wake_up_time</th>\n",
       "      <th>awakening</th>\n",
       "      <th>awakening_duration</th>\n",
       "      <th>disturbance_reasons</th>\n",
       "      <th>recovery</th>\n",
       "      <th>sleep_quality</th>\n",
       "      <th>morning_comments</th>\n",
       "      <th>actual_bed_time</th>\n",
       "    </tr>\n",
       "    <tr>\n",
       "      <th>participant_id</th>\n",
       "      <th>Date</th>\n",
       "      <th></th>\n",
       "      <th></th>\n",
       "      <th></th>\n",
       "      <th></th>\n",
       "      <th></th>\n",
       "      <th></th>\n",
       "      <th></th>\n",
       "      <th></th>\n",
       "      <th></th>\n",
       "      <th></th>\n",
       "      <th></th>\n",
       "    </tr>\n",
       "  </thead>\n",
       "  <tbody>\n",
       "    <tr>\n",
       "      <th>U06</th>\n",
       "      <th>2022-11-23</th>\n",
       "      <td>99</td>\n",
       "      <td>2022-11-23 13:00:41+01:00</td>\n",
       "      <td>5.0</td>\n",
       "      <td>2022-11-23 08:02:14+01:00</td>\n",
       "      <td>2.0</td>\n",
       "      <td>00:01:00</td>\n",
       "      <td>cold</td>\n",
       "      <td>8.0</td>\n",
       "      <td>7.0</td>\n",
       "      <td>nothing</td>\n",
       "      <td>2022-11-22 13:05:41</td>\n",
       "    </tr>\n",
       "    <tr>\n",
       "      <th>U08</th>\n",
       "      <th>2022-12-07</th>\n",
       "      <td>258</td>\n",
       "      <td>2022-12-07 12:29:55+01:00</td>\n",
       "      <td>0.0</td>\n",
       "      <td>2022-12-07 08:00:06+01:00</td>\n",
       "      <td>0.0</td>\n",
       "      <td>00:00:00</td>\n",
       "      <td>No</td>\n",
       "      <td>4.0</td>\n",
       "      <td>6.0</td>\n",
       "      <td>No</td>\n",
       "      <td>2022-12-06 12:29:55</td>\n",
       "    </tr>\n",
       "    <tr>\n",
       "      <th rowspan=\"2\" valign=\"top\">U11</th>\n",
       "      <th>2022-11-28</th>\n",
       "      <td>285</td>\n",
       "      <td>2022-11-28 12:30:32+01:00</td>\n",
       "      <td>5.0</td>\n",
       "      <td>2022-11-28 05:45:50+01:00</td>\n",
       "      <td>0.0</td>\n",
       "      <td>00:00:00</td>\n",
       "      <td>no</td>\n",
       "      <td>3.0</td>\n",
       "      <td>9.0</td>\n",
       "      <td>slept in the same bed with my bf</td>\n",
       "      <td>2022-11-27 12:35:32</td>\n",
       "    </tr>\n",
       "    <tr>\n",
       "      <th>2022-12-08</th>\n",
       "      <td>295</td>\n",
       "      <td>2022-12-08 13:00:43+01:00</td>\n",
       "      <td>4.0</td>\n",
       "      <td>2022-12-08 21:32:55+01:00</td>\n",
       "      <td>0.0</td>\n",
       "      <td>00:00:00</td>\n",
       "      <td>no</td>\n",
       "      <td>6.0</td>\n",
       "      <td>8.0</td>\n",
       "      <td>I slept in the same bed as my bf</td>\n",
       "      <td>2022-12-07 13:04:43</td>\n",
       "    </tr>\n",
       "  </tbody>\n",
       "</table>\n",
       "</div>"
      ],
      "text/plain": [
       "                           index                  bed_time latency  \\\n",
       "participant_id Date                                                  \n",
       "U06            2022-11-23     99 2022-11-23 13:00:41+01:00     5.0   \n",
       "U08            2022-12-07    258 2022-12-07 12:29:55+01:00     0.0   \n",
       "U11            2022-11-28    285 2022-11-28 12:30:32+01:00     5.0   \n",
       "               2022-12-08    295 2022-12-08 13:00:43+01:00     4.0   \n",
       "\n",
       "                                       wake_up_time awakening  \\\n",
       "participant_id Date                                             \n",
       "U06            2022-11-23 2022-11-23 08:02:14+01:00       2.0   \n",
       "U08            2022-12-07 2022-12-07 08:00:06+01:00       0.0   \n",
       "U11            2022-11-28 2022-11-28 05:45:50+01:00       0.0   \n",
       "               2022-12-08 2022-12-08 21:32:55+01:00       0.0   \n",
       "\n",
       "                          awakening_duration disturbance_reasons  recovery  \\\n",
       "participant_id Date                                                          \n",
       "U06            2022-11-23           00:01:00                cold       8.0   \n",
       "U08            2022-12-07           00:00:00                  No       4.0   \n",
       "U11            2022-11-28           00:00:00                  no       3.0   \n",
       "               2022-12-08           00:00:00                  no       6.0   \n",
       "\n",
       "                           sleep_quality                  morning_comments  \\\n",
       "participant_id Date                                                          \n",
       "U06            2022-11-23            7.0                           nothing   \n",
       "U08            2022-12-07            6.0                                No   \n",
       "U11            2022-11-28            9.0  slept in the same bed with my bf   \n",
       "               2022-12-08            8.0  I slept in the same bed as my bf   \n",
       "\n",
       "                               actual_bed_time  \n",
       "participant_id Date                             \n",
       "U06            2022-11-23  2022-11-22 13:05:41  \n",
       "U08            2022-12-07  2022-12-06 12:29:55  \n",
       "U11            2022-11-28  2022-11-27 12:35:32  \n",
       "               2022-12-08  2022-12-07 13:04:43  "
      ]
     },
     "execution_count": 5,
     "metadata": {},
     "output_type": "execute_result"
    }
   ],
   "source": [
    "weird_times_mask = (\n",
    "    (\n",
    "        experiment_info[\"bed_time\"].apply(lambda x: x.time())\n",
    "        < to_datetime(\"15:00:00\").time()\n",
    "    )\n",
    "    & (\n",
    "        experiment_info[\"bed_time\"].apply(lambda x: x.time())\n",
    "        > to_datetime(\"10:00:00\").time()\n",
    "    )\n",
    ") | (\n",
    "    (\n",
    "        experiment_info[\"wake_up_time\"].apply(lambda x: x.time())\n",
    "        < to_datetime(\"02:00:00\").time()\n",
    "    )\n",
    "    & (\n",
    "        experiment_info[\"wake_up_time\"].apply(lambda x: x.time())\n",
    "        > to_datetime(\"15:00:00\").time()\n",
    "    )\n",
    ")\n",
    "experiment_info[weird_times_mask]\n"
   ]
  },
  {
   "cell_type": "code",
   "execution_count": 6,
   "metadata": {},
   "outputs": [],
   "source": [
    "experiment_info = experiment_info[~weird_times_mask]"
   ]
  },
  {
   "cell_type": "code",
   "execution_count": 7,
   "metadata": {},
   "outputs": [
    {
     "data": {
      "text/html": [
       "<div>\n",
       "<style scoped>\n",
       "    .dataframe tbody tr th:only-of-type {\n",
       "        vertical-align: middle;\n",
       "    }\n",
       "\n",
       "    .dataframe tbody tr th {\n",
       "        vertical-align: top;\n",
       "    }\n",
       "\n",
       "    .dataframe thead th {\n",
       "        text-align: right;\n",
       "    }\n",
       "</style>\n",
       "<table border=\"1\" class=\"dataframe\">\n",
       "  <thead>\n",
       "    <tr style=\"text-align: right;\">\n",
       "      <th></th>\n",
       "      <th></th>\n",
       "      <th>index</th>\n",
       "      <th>bed_time</th>\n",
       "      <th>latency</th>\n",
       "      <th>wake_up_time</th>\n",
       "      <th>awakening</th>\n",
       "      <th>awakening_duration</th>\n",
       "      <th>disturbance_reasons</th>\n",
       "      <th>recovery</th>\n",
       "      <th>sleep_quality</th>\n",
       "      <th>morning_comments</th>\n",
       "      <th>actual_bed_time</th>\n",
       "    </tr>\n",
       "    <tr>\n",
       "      <th>participant_id</th>\n",
       "      <th>Date</th>\n",
       "      <th></th>\n",
       "      <th></th>\n",
       "      <th></th>\n",
       "      <th></th>\n",
       "      <th></th>\n",
       "      <th></th>\n",
       "      <th></th>\n",
       "      <th></th>\n",
       "      <th></th>\n",
       "      <th></th>\n",
       "      <th></th>\n",
       "    </tr>\n",
       "  </thead>\n",
       "  <tbody>\n",
       "    <tr>\n",
       "      <th rowspan=\"5\" valign=\"top\">U01</th>\n",
       "      <th>2022-11-22</th>\n",
       "      <td>163</td>\n",
       "      <td>2022-11-22 01:46:00+01:00</td>\n",
       "      <td>15</td>\n",
       "      <td>2022-11-22 07:30:00+01:00</td>\n",
       "      <td>3</td>\n",
       "      <td>15</td>\n",
       "      <td>NaN</td>\n",
       "      <td>6.0</td>\n",
       "      <td>4.0</td>\n",
       "      <td>NaN</td>\n",
       "      <td>2022-11-22 02:01:00</td>\n",
       "    </tr>\n",
       "    <tr>\n",
       "      <th>2022-11-23</th>\n",
       "      <td>165</td>\n",
       "      <td>2022-11-23 02:00:00+01:00</td>\n",
       "      <td>5</td>\n",
       "      <td>2022-11-23 07:00:00+01:00</td>\n",
       "      <td>2</td>\n",
       "      <td>NaN</td>\n",
       "      <td>NaN</td>\n",
       "      <td>3.0</td>\n",
       "      <td>6.0</td>\n",
       "      <td>NaN</td>\n",
       "      <td>2022-11-23 02:05:00</td>\n",
       "    </tr>\n",
       "    <tr>\n",
       "      <th>2022-11-24</th>\n",
       "      <td>167</td>\n",
       "      <td>2022-11-24 01:00:00+01:00</td>\n",
       "      <td>10</td>\n",
       "      <td>2022-11-24 07:30:00+01:00</td>\n",
       "      <td>3</td>\n",
       "      <td>NaN</td>\n",
       "      <td>NaN</td>\n",
       "      <td>7.0</td>\n",
       "      <td>6.0</td>\n",
       "      <td>NaN</td>\n",
       "      <td>2022-11-24 01:10:00</td>\n",
       "    </tr>\n",
       "    <tr>\n",
       "      <th>2022-11-25</th>\n",
       "      <td>169</td>\n",
       "      <td>2022-11-25 00:30:00+01:00</td>\n",
       "      <td>10</td>\n",
       "      <td>2022-11-25 05:15:00+01:00</td>\n",
       "      <td>3</td>\n",
       "      <td>NaN</td>\n",
       "      <td>NaN</td>\n",
       "      <td>3.0</td>\n",
       "      <td>4.0</td>\n",
       "      <td>NaN</td>\n",
       "      <td>2022-11-25 00:40:00</td>\n",
       "    </tr>\n",
       "    <tr>\n",
       "      <th>2022-11-26</th>\n",
       "      <td>171</td>\n",
       "      <td>2022-11-26 23:30:00+01:00</td>\n",
       "      <td>10</td>\n",
       "      <td>2022-11-26 07:00:00+01:00</td>\n",
       "      <td>3</td>\n",
       "      <td>NaN</td>\n",
       "      <td>feeling too hot (1)</td>\n",
       "      <td>9.0</td>\n",
       "      <td>6.0</td>\n",
       "      <td>slept in a different bed</td>\n",
       "      <td>2022-11-25 23:40:00</td>\n",
       "    </tr>\n",
       "    <tr>\n",
       "      <th>...</th>\n",
       "      <th>...</th>\n",
       "      <td>...</td>\n",
       "      <td>...</td>\n",
       "      <td>...</td>\n",
       "      <td>...</td>\n",
       "      <td>...</td>\n",
       "      <td>...</td>\n",
       "      <td>...</td>\n",
       "      <td>...</td>\n",
       "      <td>...</td>\n",
       "      <td>...</td>\n",
       "      <td>...</td>\n",
       "    </tr>\n",
       "    <tr>\n",
       "      <th rowspan=\"5\" valign=\"top\">U13</th>\n",
       "      <th>2022-12-19</th>\n",
       "      <td>44</td>\n",
       "      <td>2022-12-19 23:07:51+01:00</td>\n",
       "      <td>10.0</td>\n",
       "      <td>2022-12-19 07:38:01+01:00</td>\n",
       "      <td>3.0</td>\n",
       "      <td>00:47:00</td>\n",
       "      <td>Could not sleep for headache</td>\n",
       "      <td>3.0</td>\n",
       "      <td>1.0</td>\n",
       "      <td>Nope</td>\n",
       "      <td>2022-12-18 23:17:51</td>\n",
       "    </tr>\n",
       "    <tr>\n",
       "      <th>2022-12-20</th>\n",
       "      <td>45</td>\n",
       "      <td>2022-12-20 23:30:37+01:00</td>\n",
       "      <td>10.0</td>\n",
       "      <td>2022-12-20 07:40:47+01:00</td>\n",
       "      <td>2.0</td>\n",
       "      <td>00:25:00</td>\n",
       "      <td>Not feeling well</td>\n",
       "      <td>3.0</td>\n",
       "      <td>5.0</td>\n",
       "      <td>Nope</td>\n",
       "      <td>2022-12-19 23:40:37</td>\n",
       "    </tr>\n",
       "    <tr>\n",
       "      <th>2022-12-21</th>\n",
       "      <td>46</td>\n",
       "      <td>2022-12-21 03:12:22+01:00</td>\n",
       "      <td>10.0</td>\n",
       "      <td>2022-12-21 06:48:31+01:00</td>\n",
       "      <td>1.0</td>\n",
       "      <td>00:16:00</td>\n",
       "      <td>Worked before going to sleep. Very cold in the...</td>\n",
       "      <td>0.0</td>\n",
       "      <td>5.0</td>\n",
       "      <td>Nope</td>\n",
       "      <td>2022-12-21 03:22:22</td>\n",
       "    </tr>\n",
       "    <tr>\n",
       "      <th>2022-12-22</th>\n",
       "      <td>47</td>\n",
       "      <td>2022-12-22 23:05:00+01:00</td>\n",
       "      <td>4.0</td>\n",
       "      <td>2022-12-22 08:02:07+01:00</td>\n",
       "      <td>1.0</td>\n",
       "      <td>00:09:00</td>\n",
       "      <td>Nope</td>\n",
       "      <td>7.0</td>\n",
       "      <td>7.0</td>\n",
       "      <td>Nope</td>\n",
       "      <td>2022-12-21 23:09:00</td>\n",
       "    </tr>\n",
       "    <tr>\n",
       "      <th>2022-12-23</th>\n",
       "      <td>48</td>\n",
       "      <td>2022-12-23 23:18:18+01:00</td>\n",
       "      <td>3.0</td>\n",
       "      <td>2022-12-23 08:04:28+01:00</td>\n",
       "      <td>0.0</td>\n",
       "      <td>00:00:00</td>\n",
       "      <td>Nope</td>\n",
       "      <td>7.0</td>\n",
       "      <td>7.0</td>\n",
       "      <td>Nope</td>\n",
       "      <td>2022-12-22 23:21:18</td>\n",
       "    </tr>\n",
       "  </tbody>\n",
       "</table>\n",
       "<p>226 rows × 11 columns</p>\n",
       "</div>"
      ],
      "text/plain": [
       "                           index                  bed_time latency  \\\n",
       "participant_id Date                                                  \n",
       "U01            2022-11-22    163 2022-11-22 01:46:00+01:00      15   \n",
       "               2022-11-23    165 2022-11-23 02:00:00+01:00       5   \n",
       "               2022-11-24    167 2022-11-24 01:00:00+01:00      10   \n",
       "               2022-11-25    169 2022-11-25 00:30:00+01:00      10   \n",
       "               2022-11-26    171 2022-11-26 23:30:00+01:00      10   \n",
       "...                          ...                       ...     ...   \n",
       "U13            2022-12-19     44 2022-12-19 23:07:51+01:00    10.0   \n",
       "               2022-12-20     45 2022-12-20 23:30:37+01:00    10.0   \n",
       "               2022-12-21     46 2022-12-21 03:12:22+01:00    10.0   \n",
       "               2022-12-22     47 2022-12-22 23:05:00+01:00     4.0   \n",
       "               2022-12-23     48 2022-12-23 23:18:18+01:00     3.0   \n",
       "\n",
       "                                       wake_up_time awakening  \\\n",
       "participant_id Date                                             \n",
       "U01            2022-11-22 2022-11-22 07:30:00+01:00         3   \n",
       "               2022-11-23 2022-11-23 07:00:00+01:00         2   \n",
       "               2022-11-24 2022-11-24 07:30:00+01:00         3   \n",
       "               2022-11-25 2022-11-25 05:15:00+01:00         3   \n",
       "               2022-11-26 2022-11-26 07:00:00+01:00         3   \n",
       "...                                             ...       ...   \n",
       "U13            2022-12-19 2022-12-19 07:38:01+01:00       3.0   \n",
       "               2022-12-20 2022-12-20 07:40:47+01:00       2.0   \n",
       "               2022-12-21 2022-12-21 06:48:31+01:00       1.0   \n",
       "               2022-12-22 2022-12-22 08:02:07+01:00       1.0   \n",
       "               2022-12-23 2022-12-23 08:04:28+01:00       0.0   \n",
       "\n",
       "                          awakening_duration  \\\n",
       "participant_id Date                            \n",
       "U01            2022-11-22                 15   \n",
       "               2022-11-23                NaN   \n",
       "               2022-11-24                NaN   \n",
       "               2022-11-25                NaN   \n",
       "               2022-11-26                NaN   \n",
       "...                                      ...   \n",
       "U13            2022-12-19           00:47:00   \n",
       "               2022-12-20           00:25:00   \n",
       "               2022-12-21           00:16:00   \n",
       "               2022-12-22           00:09:00   \n",
       "               2022-12-23           00:00:00   \n",
       "\n",
       "                                                         disturbance_reasons  \\\n",
       "participant_id Date                                                            \n",
       "U01            2022-11-22                                                NaN   \n",
       "               2022-11-23                                                NaN   \n",
       "               2022-11-24                                                NaN   \n",
       "               2022-11-25                                                NaN   \n",
       "               2022-11-26                                feeling too hot (1)   \n",
       "...                                                                      ...   \n",
       "U13            2022-12-19                       Could not sleep for headache   \n",
       "               2022-12-20                                   Not feeling well   \n",
       "               2022-12-21  Worked before going to sleep. Very cold in the...   \n",
       "               2022-12-22                                               Nope   \n",
       "               2022-12-23                                               Nope   \n",
       "\n",
       "                           recovery  sleep_quality          morning_comments  \\\n",
       "participant_id Date                                                            \n",
       "U01            2022-11-22       6.0            4.0                       NaN   \n",
       "               2022-11-23       3.0            6.0                       NaN   \n",
       "               2022-11-24       7.0            6.0                       NaN   \n",
       "               2022-11-25       3.0            4.0                       NaN   \n",
       "               2022-11-26       9.0            6.0  slept in a different bed   \n",
       "...                             ...            ...                       ...   \n",
       "U13            2022-12-19       3.0            1.0                      Nope   \n",
       "               2022-12-20       3.0            5.0                      Nope   \n",
       "               2022-12-21       0.0            5.0                      Nope   \n",
       "               2022-12-22       7.0            7.0                      Nope   \n",
       "               2022-12-23       7.0            7.0                      Nope   \n",
       "\n",
       "                               actual_bed_time  \n",
       "participant_id Date                             \n",
       "U01            2022-11-22  2022-11-22 02:01:00  \n",
       "               2022-11-23  2022-11-23 02:05:00  \n",
       "               2022-11-24  2022-11-24 01:10:00  \n",
       "               2022-11-25  2022-11-25 00:40:00  \n",
       "               2022-11-26  2022-11-25 23:40:00  \n",
       "...                                        ...  \n",
       "U13            2022-12-19  2022-12-18 23:17:51  \n",
       "               2022-12-20  2022-12-19 23:40:37  \n",
       "               2022-12-21  2022-12-21 03:22:22  \n",
       "               2022-12-22  2022-12-21 23:09:00  \n",
       "               2022-12-23  2022-12-22 23:21:18  \n",
       "\n",
       "[226 rows x 11 columns]"
      ]
     },
     "execution_count": 7,
     "metadata": {},
     "output_type": "execute_result"
    }
   ],
   "source": [
    "experiment_info.sort_index()"
   ]
  },
  {
   "attachments": {},
   "cell_type": "markdown",
   "metadata": {},
   "source": [
    "## Physiological Data"
   ]
  },
  {
   "cell_type": "code",
   "execution_count": 8,
   "metadata": {},
   "outputs": [],
   "source": [
    "from pandas import read_csv, read_parquet\n",
    "from glob import glob\n",
    "from collections import defaultdict\n",
    "from pandas import Series\n",
    "from tqdm import tqdm\n",
    "from plotly.subplots import make_subplots\n",
    "from plotly.graph_objects import Figure, Scatter\n",
    "from random import choice as choose_randomly\n",
    "from pandas import Timestamp\n",
    "from pandas.core.indexes.base import Index\n",
    "from tqdm.notebook import tqdm\n",
    "from pandas import DataFrame, IndexSlice\n",
    "from gc import collect as garbage_collect"
   ]
  },
  {
   "cell_type": "code",
   "execution_count": 9,
   "metadata": {},
   "outputs": [],
   "source": [
    "eda_data_base_path: str = \"../data/filtered/*/EDA/*.parquet\"\n",
    "eda_data_paths: list[str] = glob(eda_data_base_path)"
   ]
  },
  {
   "cell_type": "code",
   "execution_count": 10,
   "metadata": {},
   "outputs": [
    {
     "data": {
      "application/vnd.jupyter.widget-view+json": {
       "model_id": "e780b07a5bf746ebb48e216187f79713",
       "version_major": 2,
       "version_minor": 0
      },
      "text/plain": [
       "Loading EDA data:   0%|          | 0/19 [00:00<?, ?it/s]"
      ]
     },
     "metadata": {},
     "output_type": "display_data"
    }
   ],
   "source": [
    "eda_data: defaultdict[str, defaultdict[str, Series]] = defaultdict(lambda: defaultdict())\n",
    "for file in tqdm(eda_data_paths, desc='Loading EDA data'):\n",
    "    side_name = file.split(\"/\")[-3]\n",
    "    user_name = file.split(\"/\")[-1].split(\".\")[0]\n",
    "    eda_data[side_name][user_name] = read_parquet(file)"
   ]
  },
  {
   "cell_type": "code",
   "execution_count": 11,
   "metadata": {},
   "outputs": [],
   "source": [
    "bvp_data_base_path: str = \"../data/filtered/*/BVP/*.parquet\"\n",
    "bvp_data_paths: list[str] = glob(bvp_data_base_path)\n",
    "bvp_data = None"
   ]
  },
  {
   "cell_type": "code",
   "execution_count": 37,
   "metadata": {},
   "outputs": [
    {
     "data": {
      "application/vnd.jupyter.widget-view+json": {
       "model_id": "2976c5b40f7147b3b46d9ad59d750040",
       "version_major": 2,
       "version_minor": 0
      },
      "text/plain": [
       "Loading BVP data:   0%|          | 0/19 [00:00<?, ?it/s]"
      ]
     },
     "metadata": {},
     "output_type": "display_data"
    }
   ],
   "source": [
    "bvp_data: defaultdict[str, defaultdict[str, Series]] = defaultdict(lambda: defaultdict())\n",
    "for file in tqdm(bvp_data_paths, desc='Loading BVP data'):\n",
    "    side_name = file.split(\"/\")[-3]\n",
    "    user_name = file.split(\"/\")[-1].split(\".\")[0]\n",
    "    bvp_data[side_name][user_name] = read_parquet(file)"
   ]
  },
  {
   "cell_type": "code",
   "execution_count": 12,
   "metadata": {},
   "outputs": [
    {
     "data": {
      "text/plain": [
       "778"
      ]
     },
     "execution_count": 12,
     "metadata": {},
     "output_type": "execute_result"
    }
   ],
   "source": [
    "physiological_data: dict[str, defaultdict[str, defaultdict[str, Series]]] = {\n",
    "    \"EDA\": eda_data,\n",
    "    \"BVP\": bvp_data,\n",
    "}\n",
    "del eda_data\n",
    "del bvp_data\n",
    "garbage_collect()"
   ]
  },
  {
   "cell_type": "code",
   "execution_count": 13,
   "metadata": {},
   "outputs": [
    {
     "data": {
      "text/html": [
       "<div>\n",
       "<style scoped>\n",
       "    .dataframe tbody tr th:only-of-type {\n",
       "        vertical-align: middle;\n",
       "    }\n",
       "\n",
       "    .dataframe tbody tr th {\n",
       "        vertical-align: top;\n",
       "    }\n",
       "\n",
       "    .dataframe thead th {\n",
       "        text-align: right;\n",
       "    }\n",
       "</style>\n",
       "<table border=\"1\" class=\"dataframe\">\n",
       "  <thead>\n",
       "    <tr style=\"text-align: right;\">\n",
       "      <th></th>\n",
       "      <th></th>\n",
       "      <th>mixed-EDA</th>\n",
       "      <th>phasic-EDA</th>\n",
       "    </tr>\n",
       "    <tr>\n",
       "      <th>session</th>\n",
       "      <th>timestamp</th>\n",
       "      <th></th>\n",
       "      <th></th>\n",
       "    </tr>\n",
       "  </thead>\n",
       "  <tbody>\n",
       "    <tr>\n",
       "      <th rowspan=\"5\" valign=\"top\">2022-11-17</th>\n",
       "      <th>2022-11-17 00:29:38+01:00</th>\n",
       "      <td>-0.356251</td>\n",
       "      <td>-0.179237</td>\n",
       "    </tr>\n",
       "    <tr>\n",
       "      <th>2022-11-17 00:29:38.250000+01:00</th>\n",
       "      <td>-0.333540</td>\n",
       "      <td>-0.179237</td>\n",
       "    </tr>\n",
       "    <tr>\n",
       "      <th>2022-11-17 00:29:38.500000+01:00</th>\n",
       "      <td>-0.311632</td>\n",
       "      <td>-0.131899</td>\n",
       "    </tr>\n",
       "    <tr>\n",
       "      <th>2022-11-17 00:29:38.750000+01:00</th>\n",
       "      <td>-0.295311</td>\n",
       "      <td>-0.090009</td>\n",
       "    </tr>\n",
       "    <tr>\n",
       "      <th>2022-11-17 00:29:39+01:00</th>\n",
       "      <td>-0.284433</td>\n",
       "      <td>-0.067429</td>\n",
       "    </tr>\n",
       "    <tr>\n",
       "      <th>...</th>\n",
       "      <th>...</th>\n",
       "      <td>...</td>\n",
       "      <td>...</td>\n",
       "    </tr>\n",
       "    <tr>\n",
       "      <th rowspan=\"5\" valign=\"top\">2022-12-22</th>\n",
       "      <th>2022-12-22 08:10:29.750000+01:00</th>\n",
       "      <td>-0.717994</td>\n",
       "      <td>3.498308</td>\n",
       "    </tr>\n",
       "    <tr>\n",
       "      <th>2022-12-22 08:10:30+01:00</th>\n",
       "      <td>-0.727297</td>\n",
       "      <td>3.469839</td>\n",
       "    </tr>\n",
       "    <tr>\n",
       "      <th>2022-12-22 08:10:30.250000+01:00</th>\n",
       "      <td>-0.732028</td>\n",
       "      <td>3.448389</td>\n",
       "    </tr>\n",
       "    <tr>\n",
       "      <th>2022-12-22 08:10:30.500000+01:00</th>\n",
       "      <td>-0.736577</td>\n",
       "      <td>3.433078</td>\n",
       "    </tr>\n",
       "    <tr>\n",
       "      <th>2022-12-22 08:10:30.750000+01:00</th>\n",
       "      <td>-0.740937</td>\n",
       "      <td>3.343001</td>\n",
       "    </tr>\n",
       "  </tbody>\n",
       "</table>\n",
       "<p>4410792 rows × 2 columns</p>\n",
       "</div>"
      ],
      "text/plain": [
       "                                             mixed-EDA  phasic-EDA\n",
       "session    timestamp                                              \n",
       "2022-11-17 2022-11-17 00:29:38+01:00         -0.356251   -0.179237\n",
       "           2022-11-17 00:29:38.250000+01:00  -0.333540   -0.179237\n",
       "           2022-11-17 00:29:38.500000+01:00  -0.311632   -0.131899\n",
       "           2022-11-17 00:29:38.750000+01:00  -0.295311   -0.090009\n",
       "           2022-11-17 00:29:39+01:00         -0.284433   -0.067429\n",
       "...                                                ...         ...\n",
       "2022-12-22 2022-12-22 08:10:29.750000+01:00  -0.717994    3.498308\n",
       "           2022-12-22 08:10:30+01:00         -0.727297    3.469839\n",
       "           2022-12-22 08:10:30.250000+01:00  -0.732028    3.448389\n",
       "           2022-12-22 08:10:30.500000+01:00  -0.736577    3.433078\n",
       "           2022-12-22 08:10:30.750000+01:00  -0.740937    3.343001\n",
       "\n",
       "[4410792 rows x 2 columns]"
      ]
     },
     "execution_count": 13,
     "metadata": {},
     "output_type": "execute_result"
    }
   ],
   "source": [
    "physiological_data['EDA']['right']['U13']"
   ]
  },
  {
   "cell_type": "code",
   "execution_count": 10,
   "metadata": {},
   "outputs": [],
   "source": [
    "# from pandas import Timedelta, to_datetime\n",
    "\n",
    "\n",
    "# def make_biometrics_plots_together_plotly(\n",
    "#     data: defaultdict[str, defaultdict[str, defaultdict[str, Series]]],\n",
    "#     user_id: str,\n",
    "#     session_ids: dict[str, str],\n",
    "#     experiment_info: DataFrame,\n",
    "#     **kwargs\n",
    "# ) -> None:\n",
    "#     fig = make_subplots(rows=len(data.keys()), cols=1, shared_xaxes=True)\n",
    "\n",
    "#     for n, (data_type, physiological_data) in tqdm(\n",
    "#         enumerate(data.items()), desc=\"Plotting data\", total=len(data.keys())\n",
    "#     ):\n",
    "#         for side, specific_side_data in physiological_data.items():\n",
    "#             user_data: DataFrame = specific_side_data[user_id]\n",
    "\n",
    "#             if data_type == \"EDA\":\n",
    "#                 eda_type: str = kwargs[\"eda_type\"]\n",
    "#                 data_to_plot = user_data[eda_type]\n",
    "#             else:\n",
    "#                 data_to_plot = user_data.iloc[:, 0]\n",
    "\n",
    "#             data_to_plot = data_to_plot.loc[IndexSlice[session_ids[side], :]]\n",
    "\n",
    "#             fig.add_trace(\n",
    "#                 Scatter(\n",
    "#                     x=data_to_plot.index,\n",
    "#                     y=data_to_plot.values,\n",
    "#                     mode=\"lines\",\n",
    "#                     name=side,\n",
    "#                 ),\n",
    "#                 row=n + 1,\n",
    "#                 col=1,\n",
    "#             )\n",
    "\n",
    "#             # del data_to_plot\n",
    "#             # garbage_collect()\n",
    "\n",
    "#         session_id_corrected: Timestamp = to_datetime(session_ids[\"left\"].split(\"-\")[0], format='%y%m%d') + Timedelta(\n",
    "#             \"1D\"\n",
    "#         )\n",
    "#         session_id_corrected: str = str(session_id_corrected.date())\n",
    "#         start_exp = Timestamp(\n",
    "#             experiment_info.loc[\n",
    "#                 IndexSlice[user_id, session_id_corrected], \"actual_bed_time\"\n",
    "#             ]\n",
    "#         )\n",
    "#         end_exp = Timestamp(\n",
    "#             experiment_info.loc[\n",
    "#                 IndexSlice[user_id, session_id_corrected], \"wake_up_time\"\n",
    "#             ]\n",
    "#         )\n",
    "#         start_exp = start_exp.tz_localize(\"Europe/Rome\")\n",
    "#         end_exp = end_exp.tz_localize(\"Europe/Rome\")\n",
    "\n",
    "#         fig.add_vrect(\n",
    "#             x0=start_exp,\n",
    "#             x1=end_exp,\n",
    "#             fillcolor=\"#828282\",\n",
    "#             opacity=0.3,\n",
    "#             line_width=0,\n",
    "#             name=\"experiment time\",\n",
    "#             row=n + 1,\n",
    "#             col=1,\n",
    "#         )\n",
    "\n",
    "#     fig.update_layout(autosize=False, width=800, height=1600)\n",
    "#     fig.show()\n",
    "\n",
    "\n",
    "# user_id = \"U13\"\n",
    "# session_ids = {\"left\": \"221129-221810\", \"right\": \"221129-221752\"}\n",
    "\n",
    "# make_biometrics_plots_together(\n",
    "#     data=physiological_data,\n",
    "#     user_id=user_id,\n",
    "#     session_ids=session_ids,\n",
    "#     experiment_info=experiment_info,\n",
    "#     eda_type=\"phasic-EDA\",\n",
    "# )\n"
   ]
  },
  {
   "cell_type": "code",
   "execution_count": 99,
   "metadata": {},
   "outputs": [
    {
     "data": {
      "application/vnd.jupyter.widget-view+json": {
       "model_id": "91a919b148e04627a6c73d8d499d8a65",
       "version_major": 2,
       "version_minor": 0
      },
      "text/plain": [
       "Dropdown(description='User:', options=('U01', 'U02', 'U03', 'U04', 'U06', 'U09', 'U10', 'U13'), value='U01')"
      ]
     },
     "metadata": {},
     "output_type": "display_data"
    }
   ],
   "source": [
    "from pandas import Timedelta, to_datetime\n",
    "from matplotlib.pyplot import subplots, savefig, show, legend\n",
    "\n",
    "subset_data: bool = False\n",
    "\n",
    "def make_biometrics_plots_together_matplotlib(\n",
    "    data: defaultdict[str, defaultdict[str, defaultdict[str, Series]]],\n",
    "    user_id: str,\n",
    "    session_id: str,\n",
    "    experiment_info: DataFrame,\n",
    "    **kwargs\n",
    ") -> None:\n",
    "    data = {key: val for key, val in data.items() if val is not None}\n",
    "    fig, axs = subplots(len(data.keys()), 1, figsize=(14, 11 * len(data.keys())), sharex=True)\n",
    "    if len(data.keys()) == 1:\n",
    "        axs = [axs]\n",
    "\n",
    "    for n, (data_type, physiological_data) in tqdm(\n",
    "        enumerate(data.items()), desc=\"Plotting data\", total=len(data.keys())\n",
    "    ):\n",
    "        if physiological_data is None:\n",
    "            continue\n",
    "        \n",
    "        for side, specific_side_data in physiological_data.items():\n",
    "            user_data: DataFrame = specific_side_data[user_id]\n",
    "\n",
    "            if data_type == \"EDA\":\n",
    "                eda_type: str = kwargs[\"eda_type\"]\n",
    "                data_to_plot = user_data[eda_type]\n",
    "            else:\n",
    "                data_to_plot = user_data.iloc[:, 0]\n",
    "\n",
    "            data_to_plot = data_to_plot.loc[IndexSlice[session_id, :]]\n",
    "            if subset_data: \n",
    "                data_to_plot = data_to_plot[:1000]\n",
    "\n",
    "            data_to_plot.index = to_datetime(data_to_plot.index)\n",
    "            axs[n].plot(\n",
    "                data_to_plot.index,\n",
    "                data_to_plot.values,\n",
    "                label=side,\n",
    "                linestyle='-',\n",
    "            )\n",
    "            axs[n].set_title(data_type)\n",
    "\n",
    "            # del data_to_plot\n",
    "            # garbage_collect()\n",
    "\n",
    "        # session_id_corrected: Timestamp = to_datetime(\n",
    "        #     session_ids[\"left\"].split(\"-\")[0], format=\"%y%m%d\"\n",
    "        # )  + Timedelta(\"1D\")\n",
    "        # session_id_corrected: str = str(session_id_corrected.date())\n",
    "        \n",
    "        start_exp = Timestamp(\n",
    "            experiment_info.loc[\n",
    "                IndexSlice[user_id, session_id], \"actual_bed_time\"\n",
    "            ]\n",
    "        )\n",
    "        end_exp = Timestamp(\n",
    "            experiment_info.loc[\n",
    "                IndexSlice[user_id, session_id], \"wake_up_time\"\n",
    "            ]\n",
    "        )\n",
    "        start_exp = start_exp.tz_localize(\"Europe/Rome\")\n",
    "        end_exp = end_exp.tz_localize(\"Europe/Rome\")\n",
    "\n",
    "        \n",
    "        axs[n].axvspan(xmin=start_exp, \n",
    "                        xmax=end_exp, \n",
    "                        color='#828282', \n",
    "                        alpha=0.3, \n",
    "                        label='sleep time')\n",
    "        axs[n].set_ylabel(f'Time')\n",
    "        axs[n].set_ylabel(f'{data_type}')\n",
    "\n",
    "    handles, labels = axs[-1].get_legend_handles_labels()\n",
    "    fig.legend(handles, \n",
    "               labels, \n",
    "               fontsize='x-large', \n",
    "               title='Side', \n",
    "               title_fontsize='xx-large', \n",
    "               loc=(0.801, 0.92))\n",
    "    # legend()\n",
    "    fig.suptitle(f'Plots for all singals for user {user_id}, session {session_id}', fontsize=30, y=0.97)\n",
    "    savefig(f'../visualizations/{user_id}_{session_id}.pdf')\n",
    "    show()\n",
    "    \n",
    "    return start_exp, end_exp\n",
    "\n",
    "import ipywidgets as widgets\n",
    "\n",
    "users_left = physiological_data[\"EDA\"][\"left\"].keys()\n",
    "users_right = physiological_data[\"EDA\"][\"right\"].keys()\n",
    "users = list(set(users_left) & set(users_right))\n",
    "\n",
    "user_selection = widgets.Dropdown(\n",
    "    options=sorted(users),\n",
    "    value=users[0],\n",
    "    description='User:',\n",
    "    disabled=False,\n",
    ")\n",
    "display(user_selection)"
   ]
  },
  {
   "cell_type": "code",
   "execution_count": 100,
   "metadata": {},
   "outputs": [
    {
     "data": {
      "application/vnd.jupyter.widget-view+json": {
       "model_id": "0dffb56428c0492f99c0b34304611472",
       "version_major": 2,
       "version_minor": 0
      },
      "text/plain": [
       "Dropdown(description='Session:', index=3, options=('2022-11-18', '2022-11-19', '2022-11-20', '2022-11-21', '20…"
      ]
     },
     "metadata": {},
     "output_type": "display_data"
    }
   ],
   "source": [
    "user = user_selection.value\n",
    "\n",
    "sessions_right = physiological_data[\"EDA\"][\"left\"][user].index.get_level_values(0).unique()\n",
    "sessions_left = physiological_data[\"EDA\"][\"right\"][user].index.get_level_values(0).unique()\n",
    "sessions = list(set(sessions_right) & set(sessions_left))\n",
    "    \n",
    "if user not in experiment_info.index.get_level_values(0).unique():\n",
    "    print(f'{user} not in experiment info. Skipping')\n",
    "morning_survey_sessions = experiment_info.loc[IndexSlice[user, :], :].index.get_level_values(1).unique()\n",
    "\n",
    "\n",
    "sessions_all = list(set(sessions) & set(morning_survey_sessions))\n",
    "if len(sessions_all) == 0:\n",
    "    raise ValueError(f'No sessions for user {user} found')\n",
    "session_selection = widgets.Dropdown(\n",
    "    options=sorted(sessions_all),\n",
    "    value=sessions_all[0],\n",
    "    description='Session:',\n",
    "    disabled=False,)\n",
    "display(session_selection)"
   ]
  },
  {
   "cell_type": "code",
   "execution_count": 101,
   "metadata": {},
   "outputs": [
    {
     "data": {
      "application/vnd.jupyter.widget-view+json": {
       "model_id": "300b7a0f4d4b4476bfbd99a755ec1144",
       "version_major": 2,
       "version_minor": 0
      },
      "text/plain": [
       "Plotting data:   0%|          | 0/1 [00:00<?, ?it/s]"
      ]
     },
     "metadata": {},
     "output_type": "display_data"
    },
    {
     "data": {
      "image/png": "[encoded data removed]",
      "text/plain": [
       "<Figure size 1400x1100 with 1 Axes>"
      ]
     },
     "metadata": {},
     "output_type": "display_data"
    },
    {
     "data": {
      "text/plain": [
       "(Timestamp('2022-12-13 01:30:00+0100', tz='Europe/Rome'),\n",
       " Timestamp('2022-12-13 09:20:00+0100', tz='Europe/Rome'))"
      ]
     },
     "execution_count": 101,
     "metadata": {},
     "output_type": "execute_result"
    }
   ],
   "source": [
    "session = session_selection.value\n",
    "    \n",
    "make_biometrics_plots_together_matplotlib(\n",
    "    data=physiological_data,\n",
    "    user_id=user,\n",
    "    session_id=session,\n",
    "    experiment_info=experiment_info,\n",
    "    eda_type=\"mixed-EDA\",\n",
    ")\n"
   ]
  },
  {
   "cell_type": "code",
   "execution_count": 102,
   "metadata": {},
   "outputs": [
    {
     "data": {
      "application/vnd.jupyter.widget-view+json": {
       "model_id": "2acb7949ee1b4122a22319b8896f2d2f",
       "version_major": 2,
       "version_minor": 0
      },
      "text/plain": [
       "Exploring dataset:   0%|          | 0/8 [00:00<?, ?it/s]"
      ]
     },
     "metadata": {},
     "output_type": "display_data"
    }
   ],
   "source": [
    "dataset_exloration = {}\n",
    "for user in tqdm(sorted(users), desc='Exploring dataset'):\n",
    "    sessions_right = physiological_data[\"EDA\"][\"left\"][user].index.get_level_values(0).unique()\n",
    "    sessions_left = physiological_data[\"EDA\"][\"right\"][user].index.get_level_values(0).unique()\n",
    "    sessions = list(set(sessions_right) & set(sessions_left))\n",
    "    \n",
    "    if user not in experiment_info.index.get_level_values(0).unique():\n",
    "        print(f'{user} not in experiment info. Skipping')\n",
    "        continue\n",
    "    morning_survey_sessions = experiment_info.loc[IndexSlice[user, :], :].index.get_level_values(1).unique()\n",
    "    \n",
    "    sessions_all = list(set(sessions) & set(morning_survey_sessions))\n",
    "    dataset_exloration[user] = {'lx & rx': len(sessions), \n",
    "                                'lx': len(sessions_left),\n",
    "                                'rx': len(sessions_right),\n",
    "                                'm_survey': len(morning_survey_sessions),\n",
    "                                'lx & rx & m_survey': len(sessions_all),\n",
    "                                }\n",
    "    \n"
   ]
  },
  {
   "cell_type": "code",
   "execution_count": 103,
   "metadata": {},
   "outputs": [
    {
     "data": {
      "text/html": [
       "<div>\n",
       "<style scoped>\n",
       "    .dataframe tbody tr th:only-of-type {\n",
       "        vertical-align: middle;\n",
       "    }\n",
       "\n",
       "    .dataframe tbody tr th {\n",
       "        vertical-align: top;\n",
       "    }\n",
       "\n",
       "    .dataframe thead th {\n",
       "        text-align: right;\n",
       "    }\n",
       "</style>\n",
       "<table border=\"1\" class=\"dataframe\">\n",
       "  <thead>\n",
       "    <tr style=\"text-align: right;\">\n",
       "      <th></th>\n",
       "      <th>U01</th>\n",
       "      <th>U02</th>\n",
       "      <th>U03</th>\n",
       "      <th>U04</th>\n",
       "      <th>U06</th>\n",
       "      <th>U09</th>\n",
       "      <th>U10</th>\n",
       "      <th>U13</th>\n",
       "    </tr>\n",
       "  </thead>\n",
       "  <tbody>\n",
       "    <tr>\n",
       "      <th>lx &amp; rx</th>\n",
       "      <td>12</td>\n",
       "      <td>0</td>\n",
       "      <td>17</td>\n",
       "      <td>14</td>\n",
       "      <td>8</td>\n",
       "      <td>19</td>\n",
       "      <td>7</td>\n",
       "      <td>33</td>\n",
       "    </tr>\n",
       "    <tr>\n",
       "      <th>lx</th>\n",
       "      <td>13</td>\n",
       "      <td>1</td>\n",
       "      <td>17</td>\n",
       "      <td>15</td>\n",
       "      <td>9</td>\n",
       "      <td>22</td>\n",
       "      <td>10</td>\n",
       "      <td>36</td>\n",
       "    </tr>\n",
       "    <tr>\n",
       "      <th>rx</th>\n",
       "      <td>12</td>\n",
       "      <td>19</td>\n",
       "      <td>17</td>\n",
       "      <td>14</td>\n",
       "      <td>11</td>\n",
       "      <td>19</td>\n",
       "      <td>8</td>\n",
       "      <td>33</td>\n",
       "    </tr>\n",
       "    <tr>\n",
       "      <th>m_survey</th>\n",
       "      <td>18</td>\n",
       "      <td>24</td>\n",
       "      <td>24</td>\n",
       "      <td>18</td>\n",
       "      <td>8</td>\n",
       "      <td>22</td>\n",
       "      <td>25</td>\n",
       "      <td>37</td>\n",
       "    </tr>\n",
       "    <tr>\n",
       "      <th>lx &amp; rx &amp; m_survey</th>\n",
       "      <td>10</td>\n",
       "      <td>0</td>\n",
       "      <td>16</td>\n",
       "      <td>11</td>\n",
       "      <td>4</td>\n",
       "      <td>19</td>\n",
       "      <td>7</td>\n",
       "      <td>33</td>\n",
       "    </tr>\n",
       "  </tbody>\n",
       "</table>\n",
       "</div>"
      ],
      "text/plain": [
       "                    U01  U02  U03  U04  U06  U09  U10  U13\n",
       "lx & rx              12    0   17   14    8   19    7   33\n",
       "lx                   13    1   17   15    9   22   10   36\n",
       "rx                   12   19   17   14   11   19    8   33\n",
       "m_survey             18   24   24   18    8   22   25   37\n",
       "lx & rx & m_survey   10    0   16   11    4   19    7   33"
      ]
     },
     "metadata": {},
     "output_type": "display_data"
    }
   ],
   "source": [
    "dataset_exloration = DataFrame(dataset_exloration)\n",
    "display(dataset_exloration)"
   ]
  },
  {
   "cell_type": "code",
   "execution_count": 104,
   "metadata": {},
   "outputs": [
    {
     "data": {
      "text/plain": [
       "<Axes: ylabel='lx & rx & m_survey'>"
      ]
     },
     "execution_count": 104,
     "metadata": {},
     "output_type": "execute_result"
    },
    {
     "data": {
      "image/png": "[encoded data removed]",
      "text/plain": [
       "<Figure size 640x480 with 1 Axes>"
      ]
     },
     "metadata": {},
     "output_type": "display_data"
    }
   ],
   "source": [
    "dataset_exloration.T['lx & rx & m_survey'].plot(kind='pie')"
   ]
  },
  {
   "attachments": {},
   "cell_type": "markdown",
   "metadata": {},
   "source": [
    "# Segmentation"
   ]
  },
  {
   "cell_type": "code",
   "execution_count": 14,
   "metadata": {},
   "outputs": [],
   "source": [
    "def remove_usr_from_idx(df: DataFrame, key: str) -> DataFrame:\n",
    "    df = df.loc[IndexSlice[key, :], :]\n",
    "    df.index = df.index.droplevel(0)\n",
    "    return df\n",
    "    \n",
    "experiment_info_as_dict = {participant: remove_usr_from_idx(df=experiment_info, key=participant)\n",
    "                           for participant in list(experiment_info.index.get_level_values(0).unique())}"
   ]
  },
  {
   "cell_type": "code",
   "execution_count": 15,
   "metadata": {},
   "outputs": [],
   "source": [
    "segment_size_in_mins = 10\n",
    "segment_size_in_secs = segment_size_in_mins * 60\n",
    "eda_sample_rate = 4\n",
    "segment_size_in_sampling_rate: int = segment_size_in_secs * eda_sample_rate"
   ]
  },
  {
   "cell_type": "code",
   "execution_count": 23,
   "metadata": {},
   "outputs": [],
   "source": [
    "eda_data = physiological_data['EDA']"
   ]
  },
  {
   "cell_type": "code",
   "execution_count": 17,
   "metadata": {},
   "outputs": [],
   "source": [
    "# user = \"U13\"\n",
    "# info = experiment_info_as_dict[user]\n",
    "# data = eda_data['left'][user]"
   ]
  },
  {
   "cell_type": "code",
   "execution_count": 33,
   "metadata": {},
   "outputs": [
    {
     "data": {
      "application/vnd.jupyter.widget-view+json": {
       "model_id": "f4c2fe53d2904c48a82fe3dc9dc68698",
       "version_major": 2,
       "version_minor": 0
      },
      "text/plain": [
       "Splitting user='U02'. Sessions progress:: 0it [00:00, ?it/s]"
      ]
     },
     "metadata": {},
     "output_type": "display_data"
    },
    {
     "data": {
      "application/vnd.jupyter.widget-view+json": {
       "model_id": "7f0ea3aa514e47cc9c1a36a0ef24fdfd",
       "version_major": 2,
       "version_minor": 0
      },
      "text/plain": [
       "Splitting user='U13'. Sessions progress::   0%|          | 0/33 [00:00<?, ?it/s]"
      ]
     },
     "metadata": {},
     "output_type": "display_data"
    },
    {
     "data": {
      "application/vnd.jupyter.widget-view+json": {
       "model_id": "4ab6fd1ba4594e578541e5cac517df38",
       "version_major": 2,
       "version_minor": 0
      },
      "text/plain": [
       "Splitting user='U10'. Sessions progress::   0%|          | 0/7 [00:00<?, ?it/s]"
      ]
     },
     "metadata": {},
     "output_type": "display_data"
    },
    {
     "data": {
      "application/vnd.jupyter.widget-view+json": {
       "model_id": "92872c25bff64280a941365e3e8da1cf",
       "version_major": 2,
       "version_minor": 0
      },
      "text/plain": [
       "Splitting user='U06'. Sessions progress::   0%|          | 0/4 [00:00<?, ?it/s]"
      ]
     },
     "metadata": {},
     "output_type": "display_data"
    },
    {
     "data": {
      "application/vnd.jupyter.widget-view+json": {
       "model_id": "bdb32b1174a14b5c9e121b2ba3031be9",
       "version_major": 2,
       "version_minor": 0
      },
      "text/plain": [
       "Splitting user='U09'. Sessions progress::   0%|          | 0/19 [00:00<?, ?it/s]"
      ]
     },
     "metadata": {},
     "output_type": "display_data"
    },
    {
     "data": {
      "application/vnd.jupyter.widget-view+json": {
       "model_id": "ffbbd8b9987047d8a4fc795abb52c0fd",
       "version_major": 2,
       "version_minor": 0
      },
      "text/plain": [
       "Splitting user='U03'. Sessions progress::   0%|          | 0/16 [00:00<?, ?it/s]"
      ]
     },
     "metadata": {},
     "output_type": "display_data"
    },
    {
     "data": {
      "application/vnd.jupyter.widget-view+json": {
       "model_id": "f300741fe79d4988baeb4c18abba2577",
       "version_major": 2,
       "version_minor": 0
      },
      "text/plain": [
       "Splitting user='U04'. Sessions progress::   0%|          | 0/11 [00:00<?, ?it/s]"
      ]
     },
     "metadata": {},
     "output_type": "display_data"
    },
    {
     "data": {
      "application/vnd.jupyter.widget-view+json": {
       "model_id": "03156bce350845a9896aa3e8a233b059",
       "version_major": 2,
       "version_minor": 0
      },
      "text/plain": [
       "Splitting user='U01'. Sessions progress::   0%|          | 0/10 [00:00<?, ?it/s]"
      ]
     },
     "metadata": {},
     "output_type": "display_data"
    }
   ],
   "source": [
    "from numpy import nan, ndarray\n",
    "from pandas import Timedelta\n",
    "\n",
    "\n",
    "def get_session_moment(start: Timestamp, end: Timestamp, info: Series) -> int | float:\n",
    "    # this method gives 0 if the person is awake and 1 if the person is\n",
    "    if (start < info[\"bed_time\"] and end < info[\"bed_time\"]) or (\n",
    "        start > info[\"wake_up_time\"] and end > info[\"wake_up_time\"]\n",
    "    ):\n",
    "        return 0\n",
    "    elif (start < info[\"bed_time\"] and end > info[\"bed_time\"]) or (\n",
    "        start < info[\"wake_up_time\"] and end > info[\"wake_up_time\"]\n",
    "    ):\n",
    "        return nan\n",
    "    else:\n",
    "        return 1\n",
    "\n",
    "\n",
    "data_segmented_left: list[tuple] = []\n",
    "data_segmented_right: list[tuple] = []\n",
    "users = list(set(eda_data[\"left\"].keys()) & set(eda_data[\"right\"].keys()))\n",
    "\n",
    "\n",
    "for user in users:\n",
    "    data_left = eda_data[\"left\"][user]\n",
    "    data_right = eda_data[\"right\"][user]\n",
    "    info = experiment_info_as_dict[user]\n",
    "    sessions = list(\n",
    "        set(data_left.index.get_level_values(0).unique())\n",
    "        & set(data_right.index.get_level_values(0).unique())\n",
    "    )\n",
    "    morning_survey_sessions = (\n",
    "        experiment_info.loc[IndexSlice[user, :], :].index.get_level_values(1).unique()\n",
    "    )\n",
    "\n",
    "    sessions_all = list(set(sessions) & set(morning_survey_sessions))\n",
    "\n",
    "    for session in tqdm(sessions_all, desc=f\"Splitting {user=}. Sessions progress:\"):\n",
    "        session_data_left: DataFrame = data_left.loc[IndexSlice[session, :], :]\n",
    "        session_data_right: DataFrame = data_right.loc[IndexSlice[session, :], :]\n",
    "\n",
    "        session_info = info.loc[session, :]\n",
    "\n",
    "        starts_left = session_data_left[\n",
    "            ::segment_size_in_sampling_rate\n",
    "        ].index.get_level_values(1)\n",
    "        starts_right = session_data_right[\n",
    "            ::segment_size_in_sampling_rate\n",
    "        ].index.get_level_values(1)\n",
    "\n",
    "        ends_left = (\n",
    "            session_data_left[::segment_size_in_sampling_rate].index.get_level_values(1)\n",
    "            + Timedelta(f\"{segment_size_in_mins}min\")\n",
    "            - Timedelta(f\"{1/eda_sample_rate}s\")\n",
    "        )\n",
    "        ends_right = (\n",
    "            session_data_right[::segment_size_in_sampling_rate].index.get_level_values(\n",
    "                1\n",
    "            )\n",
    "            + Timedelta(f\"{segment_size_in_mins}min\")\n",
    "            - Timedelta(f\"{1/eda_sample_rate}s\")\n",
    "        )\n",
    "\n",
    "        segments_left = [\n",
    "            (\n",
    "                session_data_left.loc[\n",
    "                    IndexSlice[session, start:end],\n",
    "                    \"mixed-EDA\",\n",
    "                ].values,\n",
    "                get_session_moment(start, end, session_info),\n",
    "            )\n",
    "            for start, end in zip(starts_left, ends_left)\n",
    "        ]\n",
    "        segments_right = [\n",
    "            (\n",
    "                session_data_right.loc[\n",
    "                    IndexSlice[session, start:end],\n",
    "                    \"mixed-EDA\",\n",
    "                ].values,\n",
    "                get_session_moment(start, end, session_info),\n",
    "            )\n",
    "            for start, end in zip(starts_right, ends_right)\n",
    "        ]\n",
    "        data_segmented_left.append(segments_left)\n",
    "        data_segmented_right.append(segments_right)\n"
   ]
  },
  {
   "cell_type": "code",
   "execution_count": 36,
   "metadata": {},
   "outputs": [
    {
     "data": {
      "text/plain": [
       "(array([-1.43763099, -1.34308514, -1.26062914, ..., -1.12697309,\n",
       "        -1.13063412, -1.13110145]),\n",
       " 0)"
      ]
     },
     "execution_count": 36,
     "metadata": {},
     "output_type": "execute_result"
    }
   ],
   "source": [
    "data_segmented_left[0][0]"
   ]
  },
  {
   "cell_type": "code",
   "execution_count": 48,
   "metadata": {},
   "outputs": [],
   "source": [
    "values_left = [\n",
    "    val[0]\n",
    "    for segments in data_segmented_left\n",
    "    for val in segments\n",
    "]\n",
    "values_right = [\n",
    "    val[0]\n",
    "    for segments in data_segmented_right\n",
    "    for val in segments\n",
    "]\n",
    "\n",
    "labels_left = [\n",
    "    val[1]\n",
    "    for segments in data_segmented_left\n",
    "    for val in segments\n",
    "]\n",
    "labels_right = [\n",
    "    val[1]\n",
    "    for segments in data_segmented_right\n",
    "    for val in segments\n",
    "]\n"
   ]
  }
 ],
 "metadata": {
  "kernelspec": {
   "display_name": "laugh",
   "language": "python",
   "name": "python3"
  },
  "language_info": {
   "codemirror_mode": {
    "name": "ipython",
    "version": 3
   },
   "file_extension": ".py",
   "mimetype": "text/x-python",
   "name": "python",
   "nbconvert_exporter": "python",
   "pygments_lexer": "ipython3",
   "version": "3.10.6"
  },
  "orig_nbformat": 4,
  "vscode": {
   "interpreter": {
    "hash": "b871d98d507e3147b3f5e848d066dc0d4f8baa12957fe46e3e27ad3334811607"
   }
  }
 },
 "nbformat": 4,
 "nbformat_minor": 2
}
