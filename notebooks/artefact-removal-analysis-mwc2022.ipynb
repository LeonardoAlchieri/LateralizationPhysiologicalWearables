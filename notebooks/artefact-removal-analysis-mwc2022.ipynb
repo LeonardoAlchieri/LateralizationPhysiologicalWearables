{
 "cells": [
  {
   "cell_type": "code",
   "execution_count": 1,
   "metadata": {},
   "outputs": [],
   "source": [
    "from sys import path\n",
    "\n",
    "path.append(\"../\")\n",
    "\n",
    "from gc import collect as garbage_collect\n",
    "\n",
    "from src.utils.experiment_info import ExperimentInfo\n",
    "from src.utils.io import load_processed_data"
   ]
  },
  {
   "cell_type": "code",
   "execution_count": 3,
   "metadata": {},
   "outputs": [],
   "source": [
    "path_to_experiment_info: str = \"../data.nosync/mwc2022/all_experimento_info.csv\"\n",
    "experiment_info = ExperimentInfo(path=path_to_experiment_info, mode=2)"
   ]
  },
  {
   "cell_type": "code",
   "execution_count": 6,
   "metadata": {},
   "outputs": [
    {
     "data": {
      "application/vnd.jupyter.widget-view+json": {
       "model_id": "0ab7456a5cd24b118712a6c5f24fe60b",
       "version_major": 2,
       "version_minor": 0
      },
      "text/plain": [
       "Loading data:   0%|          | 0/19 [00:00<?, ?it/s]"
      ]
     },
     "metadata": {},
     "output_type": "display_data"
    },
    {
     "data": {
      "text/plain": [
       "1588"
      ]
     },
     "execution_count": 6,
     "metadata": {},
     "output_type": "execute_result"
    }
   ],
   "source": [
    "eda_data_base_path: str = \"../data.nosync/mwc2022/filtered_artifacts/*/EDA/*.parquet\"\n",
    "acc_data_base_path: str = \"../data.nosync/mwc2022/filtered_artifacts/*/ACC/*.parquet\"\n",
    "\n",
    "eda_data = load_processed_data(path=eda_data_base_path, file_format=\"parquet\")\n",
    "garbage_collect()"
   ]
  },
  {
   "cell_type": "code",
   "execution_count": 7,
   "metadata": {},
   "outputs": [],
   "source": [
    "artifact_data = {\n",
    "        side : {user: eda_data[side][user]['Artifact']\n",
    "         for user in eda_data[side].keys()}\n",
    "    for side in eda_data.keys()\n",
    "}\n",
    "del eda_data"
   ]
  },
  {
   "cell_type": "code",
   "execution_count": 8,
   "metadata": {},
   "outputs": [],
   "source": [
    "# count the number of artifacts, per user and per side, by doing the sum of the series\n",
    "# and then divide it by the length of the series\n",
    "artifact_count = {\n",
    "    side : {user: artifact_data[side][user].sum() / len(artifact_data[side][user])\n",
    "            for user in artifact_data[side].keys()}\n",
    "    for side in artifact_data.keys()\n",
    "}"
   ]
  },
  {
   "cell_type": "code",
   "execution_count": 9,
   "metadata": {},
   "outputs": [],
   "source": [
    "import pandas as pd\n",
    "\n",
    "artifact_count = pd.DataFrame.from_dict(artifact_count)\n",
    "# make left and right into values in the column \"side\"\n",
    "# artifact_count = artifact_count.reset_index().melt(id_vars=\"index\", var_name=\"side\", value_name=\"artifact_count\")"
   ]
  },
  {
   "cell_type": "code",
   "execution_count": 10,
   "metadata": {},
   "outputs": [],
   "source": [
    "artifact_count['sum'] = artifact_count['left'] + artifact_count['right']\n",
    "# remove values who sum is 0\n",
    "artifact_count = artifact_count[artifact_count['sum'] > 0.01]\n",
    "artifact_count = artifact_count.drop(columns=['sum'], inplace=False)\n",
    "artifact_count = artifact_count.reset_index().melt(id_vars=\"index\", var_name=\"side\", value_name=\"artifact_count\")\n",
    "artifact_count = artifact_count.rename(columns={'index': 'user'}, inplace=False)"
   ]
  },
  {
   "cell_type": "code",
   "execution_count": 11,
   "metadata": {},
   "outputs": [],
   "source": [
    "artifact_count = artifact_count.sort_values(by=['user'], inplace=False)"
   ]
  },
  {
   "cell_type": "code",
   "execution_count": 12,
   "metadata": {},
   "outputs": [
    {
     "data": {
      "image/png": "[encoded data removed]",
      "text/plain": [
       "<Figure size 512.593x316.8 with 1 Axes>"
      ]
     },
     "metadata": {
      "needs_background": "light"
     },
     "output_type": "display_data"
    }
   ],
   "source": [
    "import matplotlib.pyplot as plt\n",
    "import seaborn as sns\n",
    "\n",
    "golden_ratio = (1 + 5 ** 0.5) / 2\n",
    "\n",
    "# Set golden ratio figure size\n",
    "figsize = 4.4\n",
    "plt.figure(figsize=(figsize * golden_ratio, figsize))\n",
    "\n",
    "# Set seaborn style\n",
    "sns.set_style(\"darkgrid\")\n",
    "\n",
    "# Get a color palette\n",
    "palette = sns.color_palette(\"colorblind\", n_colors=4)\n",
    "\n",
    "sns.set(font_scale=1)\n",
    "plt.rcParams[\"mathtext.fontset\"] = \"stix\"\n",
    "plt.rcParams[\"font.family\"] = \"STIXGeneral\"\n",
    "\n",
    "\n",
    "# Plot the barplot\n",
    "ax = sns.barplot(data=artifact_count, x=\"user\", y=\"artifact_count\", hue=\"side\")\n",
    "plt.legend()\n",
    "plt.title(\"Percentage of artifacts per user\")\n",
    "plt.xlabel(\"User\")\n",
    "plt.ylabel(\"Percentage of artifacts\")\n",
    "\n",
    "# Add vertical bars\n",
    "for i in range(len(artifact_count[\"user\"].unique()) - 1):\n",
    "    plt.axvline(i + 0.5, color=\"white\", linewidth=0.5)\n",
    "\n",
    "\n",
    "plt.legend(title='Side')\n",
    "plt.savefig(\"../final_visualizations/artifacts_mwc2022.pdf\", bbox_inches=\"tight\")\n",
    "plt.show()\n"
   ]
  },
  {
   "cell_type": "code",
   "execution_count": null,
   "metadata": {},
   "outputs": [],
   "source": []
  },
  {
   "cell_type": "code",
   "execution_count": null,
   "metadata": {},
   "outputs": [],
   "source": []
  }
 ],
 "metadata": {
  "kernelspec": {
   "display_name": "laugh",
   "language": "python",
   "name": "python3"
  },
  "language_info": {
   "codemirror_mode": {
    "name": "ipython",
    "version": 3
   },
   "file_extension": ".py",
   "mimetype": "text/x-python",
   "name": "python",
   "nbconvert_exporter": "python",
   "pygments_lexer": "ipython3",
   "version": "3.10.6"
  },
  "orig_nbformat": 4
 },
 "nbformat": 4,
 "nbformat_minor": 2
}
