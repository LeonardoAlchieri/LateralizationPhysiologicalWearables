{
 "cells": [
  {
   "cell_type": "code",
   "execution_count": 5,
   "metadata": {},
   "outputs": [],
   "source": [
    "from sys import path\n",
    "\n",
    "path.append(\"../\")\n",
    "\n",
    "from gc import collect as garbage_collect\n",
    "\n",
    "from joblib import Parallel, delayed\n",
    "from numpy import ndarray, stack\n",
    "from pandas import DataFrame, Series, option_context as pandas_option_context\n",
    "from tqdm.auto import tqdm\n",
    "from lazypredict.Supervised import LazyClassifier\n",
    "\n",
    "from src.feature_extraction.eda import get_eda_features\n",
    "from src.utils.experiment_info import ExperimentInfo\n",
    "from src.utils.io import load_processed_data\n",
    "from src.utils.misc import get_all_users\n",
    "from src.utils.plots import (\n",
    "    make_biometrics_plots_together_matplotlib,\n",
    "    plot_binary_labels,\n",
    ")\n",
    "from src.utils.segmentation import segment\n",
    "from src.utils.misc import get_labels_counts\n",
    "from src.ml import resampling, local_resampling\n",
    "from src.ml.cv import run_cross_validation_prediction\n",
    "\n",
    "from src.ml.loso import run_same_side_classifications, run_different_classifications"
   ]
  },
  {
   "attachments": {},
   "cell_type": "markdown",
   "metadata": {},
   "source": [
    "# Intro\n",
    "\n",
    "In this notebook, I analyse the artefact data. The idea is to identify which users might have more artefacts, and if they coincide with users having lower performance during the ML part."
   ]
  },
  {
   "attachments": {},
   "cell_type": "markdown",
   "metadata": {},
   "source": [
    "# Data Preparation"
   ]
  },
  {
   "attachments": {},
   "cell_type": "markdown",
   "metadata": {},
   "source": [
    "The artefacts scripts have been moved inside the EDA filtering."
   ]
  },
  {
   "attachments": {},
   "cell_type": "markdown",
   "metadata": {},
   "source": [
    "## Cognitive Load Info"
   ]
  },
  {
   "cell_type": "code",
   "execution_count": 6,
   "metadata": {},
   "outputs": [],
   "source": [
    "path_to_experiment_info: str = \"../data.nosync/mwc2022/all_experimento_info.csv\"\n",
    "experiment_info = ExperimentInfo(path=path_to_experiment_info, mode=2)"
   ]
  },
  {
   "attachments": {},
   "cell_type": "markdown",
   "metadata": {},
   "source": [
    "## Physiological Data"
   ]
  },
  {
   "cell_type": "code",
   "execution_count": 16,
   "metadata": {},
   "outputs": [
    {
     "data": {
      "application/vnd.jupyter.widget-view+json": {
       "model_id": "35137de71d614b23bda5f9cfb31f4891",
       "version_major": 2,
       "version_minor": 0
      },
      "text/plain": [
       "Loading data:   0%|          | 0/19 [00:00<?, ?it/s]"
      ]
     },
     "metadata": {},
     "output_type": "display_data"
    },
    {
     "data": {
      "text/plain": [
       "21"
      ]
     },
     "execution_count": 16,
     "metadata": {},
     "output_type": "execute_result"
    }
   ],
   "source": [
    "eda_data_base_path: str = \"../data.nosync/mwc2022/filtered_artifacts/*/EDA/*.parquet\"\n",
    "acc_data_base_path: str = \"../data.nosync/mwc2022/filtered_artifacts/*/ACC/*.parquet\"\n",
    "\n",
    "artifacts_data = load_processed_data(path=eda_data_base_path, file_format=\"parquet\")\n",
    "garbage_collect()"
   ]
  },
  {
   "cell_type": "code",
   "execution_count": 19,
   "metadata": {},
   "outputs": [],
   "source": [
    "from pandas import to_datetime, Timedelta, DatetimeIndex, MultiIndex\n",
    "\n",
    "\n",
    "def correct_session_idx(session_name: str):\n",
    "    session_time: str = session_name.split(\"-\")[1]\n",
    "    if session_time[0] == \"0\":\n",
    "        session_id_corrected: Timestamp = to_datetime(\n",
    "            session_name.split(\"-\")[0], format=\"%y%m%d\"\n",
    "        )\n",
    "    else:\n",
    "        session_id_corrected: Timestamp = to_datetime(\n",
    "            session_name.split(\"-\")[0], format=\"%y%m%d\"\n",
    "        ) + Timedelta(\"1D\")\n",
    "    session_id_corrected: str = str(session_id_corrected.date())\n",
    "    return session_id_corrected\n",
    "\n",
    "\n",
    "def super_correct_session_idx(idx):\n",
    "    correct = [correct_session_idx(el) for el in idx]\n",
    "    if len(correct) > len(set(correct)):\n",
    "        new_correct = []\n",
    "        i = 0\n",
    "        for el in correct:\n",
    "            if el in new_correct:\n",
    "                new_correct.append(el + f\"_{i}\")\n",
    "                i += 1\n",
    "            else:\n",
    "                new_correct.append(el)\n",
    "                i = 0\n",
    "        correct = new_correct\n",
    "    return correct\n",
    "\n",
    "\n",
    "def correct_session_names(df: DataFrame):\n",
    "    df.index = df.index.set_levels(\n",
    "        super_correct_session_idx(df.index.levels[0]), level=0\n",
    "    )\n",
    "    return df\n"
   ]
  },
  {
   "cell_type": "code",
   "execution_count": 21,
   "metadata": {},
   "outputs": [
    {
     "data": {
      "application/vnd.jupyter.widget-view+json": {
       "model_id": "8201a97519b649119b923786c1bd45ab",
       "version_major": 2,
       "version_minor": 0
      },
      "text/plain": [
       "User progress:   0%|          | 0/9 [00:00<?, ?it/s]"
      ]
     },
     "metadata": {},
     "output_type": "display_data"
    },
    {
     "data": {
      "application/vnd.jupyter.widget-view+json": {
       "model_id": "92410f620e5f455cb2d1533295bdbf95",
       "version_major": 2,
       "version_minor": 0
      },
      "text/plain": [
       "User progress:   0%|          | 0/10 [00:00<?, ?it/s]"
      ]
     },
     "metadata": {},
     "output_type": "display_data"
    }
   ],
   "source": [
    "artifacts_data = {side: {\n",
    "    user: correct_session_names(user_data)\n",
    "    for user, user_data in tqdm(side_data.items(), desc='User progress')\n",
    "}\n",
    "for side, side_data in artifacts_data.items()}"
   ]
  },
  {
   "cell_type": "code",
   "execution_count": 28,
   "metadata": {},
   "outputs": [],
   "source": [
    "test1 = artifacts_data['right']['U09']['Artifact']"
   ]
  },
  {
   "cell_type": "code",
   "execution_count": 25,
   "metadata": {},
   "outputs": [
    {
     "data": {
      "application/vnd.jupyter.widget-view+json": {
       "model_id": "160c0fedaa5d41a3ade5ff3b9c881139",
       "version_major": 2,
       "version_minor": 0
      },
      "text/plain": [
       "Loading data:   0%|          | 0/19 [00:00<?, ?it/s]"
      ]
     },
     "metadata": {},
     "output_type": "display_data"
    },
    {
     "data": {
      "text/plain": [
       "653"
      ]
     },
     "execution_count": 25,
     "metadata": {},
     "output_type": "execute_result"
    }
   ],
   "source": [
    "eda_data_base_path: str = \"../data.nosync/mwc2022/filtered/*/EDA/*.parquet\"\n",
    "acc_data_base_path: str = \"../data.nosync/mwc2022/filtered/*/ACC/*.parquet\"\n",
    "\n",
    "eda_data = load_processed_data(path=eda_data_base_path, file_format=\"parquet\")\n",
    "garbage_collect()"
   ]
  },
  {
   "cell_type": "code",
   "execution_count": 38,
   "metadata": {},
   "outputs": [],
   "source": [
    "test2 = eda_data['right']['U09']"
   ]
  },
  {
   "cell_type": "code",
   "execution_count": 40,
   "metadata": {},
   "outputs": [
    {
     "data": {
      "text/html": [
       "<div>\n",
       "<style scoped>\n",
       "    .dataframe tbody tr th:only-of-type {\n",
       "        vertical-align: middle;\n",
       "    }\n",
       "\n",
       "    .dataframe tbody tr th {\n",
       "        vertical-align: top;\n",
       "    }\n",
       "\n",
       "    .dataframe thead th {\n",
       "        text-align: right;\n",
       "    }\n",
       "</style>\n",
       "<table border=\"1\" class=\"dataframe\">\n",
       "  <thead>\n",
       "    <tr style=\"text-align: right;\">\n",
       "      <th></th>\n",
       "      <th></th>\n",
       "      <th>mixed-EDA</th>\n",
       "      <th>phasic-EDA</th>\n",
       "    </tr>\n",
       "    <tr>\n",
       "      <th>session</th>\n",
       "      <th>timestamp</th>\n",
       "      <th></th>\n",
       "      <th></th>\n",
       "    </tr>\n",
       "  </thead>\n",
       "  <tbody>\n",
       "    <tr>\n",
       "      <th rowspan=\"5\" valign=\"top\">2022-11-18</th>\n",
       "      <th>0</th>\n",
       "      <td>-0.87</td>\n",
       "      <td>-0.40</td>\n",
       "    </tr>\n",
       "    <tr>\n",
       "      <th>1</th>\n",
       "      <td>-0.85</td>\n",
       "      <td>-0.40</td>\n",
       "    </tr>\n",
       "    <tr>\n",
       "      <th>2</th>\n",
       "      <td>-0.84</td>\n",
       "      <td>-0.27</td>\n",
       "    </tr>\n",
       "    <tr>\n",
       "      <th>3</th>\n",
       "      <td>-0.83</td>\n",
       "      <td>-0.13</td>\n",
       "    </tr>\n",
       "    <tr>\n",
       "      <th>4</th>\n",
       "      <td>-0.83</td>\n",
       "      <td>-0.05</td>\n",
       "    </tr>\n",
       "    <tr>\n",
       "      <th>...</th>\n",
       "      <th>...</th>\n",
       "      <td>...</td>\n",
       "      <td>...</td>\n",
       "    </tr>\n",
       "    <tr>\n",
       "      <th rowspan=\"5\" valign=\"top\">2022-12-21</th>\n",
       "      <th>105751</th>\n",
       "      <td>-0.41</td>\n",
       "      <td>-0.26</td>\n",
       "    </tr>\n",
       "    <tr>\n",
       "      <th>105752</th>\n",
       "      <td>-0.40</td>\n",
       "      <td>-0.27</td>\n",
       "    </tr>\n",
       "    <tr>\n",
       "      <th>105753</th>\n",
       "      <td>-0.40</td>\n",
       "      <td>-0.27</td>\n",
       "    </tr>\n",
       "    <tr>\n",
       "      <th>105754</th>\n",
       "      <td>-0.40</td>\n",
       "      <td>-0.27</td>\n",
       "    </tr>\n",
       "    <tr>\n",
       "      <th>105755</th>\n",
       "      <td>-0.39</td>\n",
       "      <td>-0.28</td>\n",
       "    </tr>\n",
       "  </tbody>\n",
       "</table>\n",
       "<p>2736804 rows × 2 columns</p>\n",
       "</div>"
      ],
      "text/plain": [
       "                      mixed-EDA  phasic-EDA\n",
       "session    timestamp                       \n",
       "2022-11-18 0              -0.87       -0.40\n",
       "           1              -0.85       -0.40\n",
       "           2              -0.84       -0.27\n",
       "           3              -0.83       -0.13\n",
       "           4              -0.83       -0.05\n",
       "...                         ...         ...\n",
       "2022-12-21 105751         -0.41       -0.26\n",
       "           105752         -0.40       -0.27\n",
       "           105753         -0.40       -0.27\n",
       "           105754         -0.40       -0.27\n",
       "           105755         -0.39       -0.28\n",
       "\n",
       "[2736804 rows x 2 columns]"
      ]
     },
     "metadata": {},
     "output_type": "display_data"
    }
   ],
   "source": [
    "import pandas as pd\n",
    "\n",
    "old_second_level_idx = test2.index.levels[1]\n",
    "test2.index = pd.MultiIndex.from_arrays(\n",
    "    [test2.index.get_level_values(0), test2.groupby(level=0).cumcount()],\n",
    "    names=['session', 'timestamp'])\n",
    "\n",
    "pd.merge(test1, test2, how='right', right_index=True, left_index=True)"
   ]
  },
  {
   "cell_type": "code",
   "execution_count": 9,
   "metadata": {},
   "outputs": [
    {
     "name": "stdout",
     "output_type": "stream",
     "text": [
      "Number of users with both left and right hand data: 8\n"
     ]
    }
   ],
   "source": [
    "users_in_left_side = set(eda_data['left'].keys())\n",
    "users_in_right_side = set(eda_data['right'].keys())\n",
    "print(f\"Number of users with both left and right hand data: {len(users_in_left_side & users_in_right_side)}\")"
   ]
  },
  {
   "attachments": {},
   "cell_type": "markdown",
   "metadata": {},
   "source": [
    "## Segmentation"
   ]
  },
  {
   "attachments": {},
   "cell_type": "markdown",
   "metadata": {},
   "source": [
    "The segmentation will be performed over `baseline_1` and `cognitive_load` periods. Other baselines are not considered, since they were very short periods performed after some activity, one of which was cognitive load itself. As such, brian phenomena from those activites might propagate in the EDA signal and make the classification harded."
   ]
  },
  {
   "cell_type": "code",
   "execution_count": 10,
   "metadata": {},
   "outputs": [],
   "source": [
    "segment_size_in_mins = 10\n",
    "segment_size_in_secs = segment_size_in_mins * 60\n",
    "eda_sample_rate = 4\n",
    "segment_size_in_sampling_rate: int = segment_size_in_secs * eda_sample_rate\n",
    "\n",
    "experiment_info_as_dict = experiment_info.to_dict()"
   ]
  },
  {
   "cell_type": "code",
   "execution_count": 11,
   "metadata": {},
   "outputs": [
    {
     "data": {
      "application/vnd.jupyter.widget-view+json": {
       "model_id": "198cc0c8318f493faf12c94e4d02df15",
       "version_major": 2,
       "version_minor": 0
      },
      "text/plain": [
       "User progress:   0%|          | 0/8 [00:00<?, ?it/s]"
      ]
     },
     "metadata": {},
     "output_type": "display_data"
    }
   ],
   "source": [
    "(\n",
    "    values_left,\n",
    "    values_right,\n",
    "    labels_left,\n",
    "    labels_right,\n",
    "    groups_left,\n",
    "    groups_right,\n",
    ") = segment(\n",
    "    data=eda_data,\n",
    "    experiment_info_as_dict=experiment_info.to_dict(),\n",
    "    segment_size_in_sampling_rate=segment_size_in_sampling_rate,\n",
    "    segment_size_in_secs=segment_size_in_secs,\n",
    "    data_sample_rate=eda_sample_rate,\n",
    "    mode=experiment_info.get_mode(),\n",
    ")"
   ]
  },
  {
   "cell_type": "code",
   "execution_count": 19,
   "metadata": {},
   "outputs": [
    {
     "data": {
      "text/html": [
       "<div>\n",
       "<style scoped>\n",
       "    .dataframe tbody tr th:only-of-type {\n",
       "        vertical-align: middle;\n",
       "    }\n",
       "\n",
       "    .dataframe tbody tr th {\n",
       "        vertical-align: top;\n",
       "    }\n",
       "\n",
       "    .dataframe thead th {\n",
       "        text-align: right;\n",
       "    }\n",
       "</style>\n",
       "<table border=\"1\" class=\"dataframe\">\n",
       "  <thead>\n",
       "    <tr style=\"text-align: right;\">\n",
       "      <th></th>\n",
       "      <th></th>\n",
       "      <th>index</th>\n",
       "      <th>bed_time</th>\n",
       "      <th>latency</th>\n",
       "      <th>wake_up_time</th>\n",
       "      <th>awakening</th>\n",
       "      <th>awakening_duration</th>\n",
       "      <th>disturbance_reasons</th>\n",
       "      <th>recovery</th>\n",
       "      <th>sleep_quality</th>\n",
       "      <th>morning_comments</th>\n",
       "      <th>actual_bed_time</th>\n",
       "    </tr>\n",
       "    <tr>\n",
       "      <th>participant_id</th>\n",
       "      <th>Date</th>\n",
       "      <th></th>\n",
       "      <th></th>\n",
       "      <th></th>\n",
       "      <th></th>\n",
       "      <th></th>\n",
       "      <th></th>\n",
       "      <th></th>\n",
       "      <th></th>\n",
       "      <th></th>\n",
       "      <th></th>\n",
       "      <th></th>\n",
       "    </tr>\n",
       "  </thead>\n",
       "  <tbody>\n",
       "    <tr>\n",
       "      <th rowspan=\"22\" valign=\"top\">U09</th>\n",
       "      <th>2022-11-20</th>\n",
       "      <td>239</td>\n",
       "      <td>2022-11-20 01:45:00</td>\n",
       "      <td>15</td>\n",
       "      <td>2022-11-20 08:45:00+01:00</td>\n",
       "      <td>1</td>\n",
       "      <td>2</td>\n",
       "      <td>NaN</td>\n",
       "      <td>6.00</td>\n",
       "      <td>6.00</td>\n",
       "      <td>NaN</td>\n",
       "      <td>2022-11-20 02:00:00+01:00</td>\n",
       "    </tr>\n",
       "    <tr>\n",
       "      <th>2022-11-18</th>\n",
       "      <td>235</td>\n",
       "      <td>2022-11-18 00:15:00</td>\n",
       "      <td>15</td>\n",
       "      <td>2022-11-18 07:38:00+01:00</td>\n",
       "      <td>2</td>\n",
       "      <td>2</td>\n",
       "      <td>feeling too hot (2)</td>\n",
       "      <td>7.00</td>\n",
       "      <td>8.00</td>\n",
       "      <td>NaN</td>\n",
       "      <td>2022-11-18 00:30:00+01:00</td>\n",
       "    </tr>\n",
       "    <tr>\n",
       "      <th>2022-11-27</th>\n",
       "      <td>253</td>\n",
       "      <td>2022-11-27 03:05:00</td>\n",
       "      <td>10</td>\n",
       "      <td>2022-11-27 09:43:00+01:00</td>\n",
       "      <td>0</td>\n",
       "      <td>0</td>\n",
       "      <td>NaN</td>\n",
       "      <td>6.00</td>\n",
       "      <td>6.00</td>\n",
       "      <td>NaN</td>\n",
       "      <td>2022-11-27 03:15:00+01:00</td>\n",
       "    </tr>\n",
       "    <tr>\n",
       "      <th>2022-11-29</th>\n",
       "      <td>257</td>\n",
       "      <td>2022-11-29 23:42:00</td>\n",
       "      <td>30</td>\n",
       "      <td>2022-11-29 07:45:00+01:00</td>\n",
       "      <td>0</td>\n",
       "      <td>0</td>\n",
       "      <td>NaN</td>\n",
       "      <td>6.00</td>\n",
       "      <td>6.00</td>\n",
       "      <td>NaN</td>\n",
       "      <td>2022-11-30 00:12:00+01:00</td>\n",
       "    </tr>\n",
       "    <tr>\n",
       "      <th>2022-11-28</th>\n",
       "      <td>255</td>\n",
       "      <td>2022-11-28 00:33:00</td>\n",
       "      <td>21</td>\n",
       "      <td>2022-11-28 08:08:00+01:00</td>\n",
       "      <td>0</td>\n",
       "      <td>0</td>\n",
       "      <td>NaN</td>\n",
       "      <td>7.00</td>\n",
       "      <td>7.00</td>\n",
       "      <td>NaN</td>\n",
       "      <td>2022-11-28 00:54:00+01:00</td>\n",
       "    </tr>\n",
       "    <tr>\n",
       "      <th>2022-11-19</th>\n",
       "      <td>237</td>\n",
       "      <td>2022-11-19 00:55:00</td>\n",
       "      <td>5</td>\n",
       "      <td>2022-11-19 09:03:00+01:00</td>\n",
       "      <td>0</td>\n",
       "      <td>0</td>\n",
       "      <td>NaN</td>\n",
       "      <td>5.00</td>\n",
       "      <td>8.00</td>\n",
       "      <td>NaN</td>\n",
       "      <td>2022-11-19 01:00:00+01:00</td>\n",
       "    </tr>\n",
       "    <tr>\n",
       "      <th>2022-11-26</th>\n",
       "      <td>251</td>\n",
       "      <td>2022-11-26 01:20:00</td>\n",
       "      <td>35</td>\n",
       "      <td>2022-11-26 09:12:00+01:00</td>\n",
       "      <td>0</td>\n",
       "      <td>0</td>\n",
       "      <td>NaN</td>\n",
       "      <td>7.00</td>\n",
       "      <td>8.00</td>\n",
       "      <td>NaN</td>\n",
       "      <td>2022-11-26 01:55:00+01:00</td>\n",
       "    </tr>\n",
       "    <tr>\n",
       "      <th>2022-11-21</th>\n",
       "      <td>241</td>\n",
       "      <td>2022-11-21 01:40:00</td>\n",
       "      <td>40</td>\n",
       "      <td>2022-11-21 08:20:00+01:00</td>\n",
       "      <td>0</td>\n",
       "      <td>0</td>\n",
       "      <td>NaN</td>\n",
       "      <td>7.00</td>\n",
       "      <td>6.00</td>\n",
       "      <td>NaN</td>\n",
       "      <td>2022-11-21 02:20:00+01:00</td>\n",
       "    </tr>\n",
       "    <tr>\n",
       "      <th>2022-12-15</th>\n",
       "      <td>265</td>\n",
       "      <td>2022-12-15 23:34:00</td>\n",
       "      <td>10</td>\n",
       "      <td>2022-12-15 08:23:00+01:00</td>\n",
       "      <td>0</td>\n",
       "      <td>0</td>\n",
       "      <td>NaN</td>\n",
       "      <td>7.00</td>\n",
       "      <td>6.00</td>\n",
       "      <td>NaN</td>\n",
       "      <td>2022-12-14 23:44:00+01:00</td>\n",
       "    </tr>\n",
       "    <tr>\n",
       "      <th>2022-12-13</th>\n",
       "      <td>261</td>\n",
       "      <td>2022-12-13 01:20:00</td>\n",
       "      <td>10</td>\n",
       "      <td>2022-12-13 09:20:00+01:00</td>\n",
       "      <td>0</td>\n",
       "      <td>0</td>\n",
       "      <td>NaN</td>\n",
       "      <td>6.00</td>\n",
       "      <td>5.00</td>\n",
       "      <td>NaN</td>\n",
       "      <td>2022-12-13 01:30:00+01:00</td>\n",
       "    </tr>\n",
       "    <tr>\n",
       "      <th>2022-12-14</th>\n",
       "      <td>263</td>\n",
       "      <td>2022-12-14 23:25:00</td>\n",
       "      <td>5</td>\n",
       "      <td>2022-12-14 06:50:00+01:00</td>\n",
       "      <td>0</td>\n",
       "      <td>0</td>\n",
       "      <td>NaN</td>\n",
       "      <td>8.00</td>\n",
       "      <td>7.00</td>\n",
       "      <td>NaN</td>\n",
       "      <td>2022-12-13 23:30:00+01:00</td>\n",
       "    </tr>\n",
       "    <tr>\n",
       "      <th>2022-11-24</th>\n",
       "      <td>247</td>\n",
       "      <td>2022-11-24 00:45:00</td>\n",
       "      <td>25</td>\n",
       "      <td>2022-11-24 08:12:00+01:00</td>\n",
       "      <td>0</td>\n",
       "      <td>0</td>\n",
       "      <td>NaN</td>\n",
       "      <td>7.00</td>\n",
       "      <td>6.00</td>\n",
       "      <td>NaN</td>\n",
       "      <td>2022-11-24 01:10:00+01:00</td>\n",
       "    </tr>\n",
       "    <tr>\n",
       "      <th>2022-11-23</th>\n",
       "      <td>245</td>\n",
       "      <td>2022-11-23 23:00:00</td>\n",
       "      <td>15</td>\n",
       "      <td>2022-11-23 07:25:00+01:00</td>\n",
       "      <td>0</td>\n",
       "      <td>0</td>\n",
       "      <td>NaN</td>\n",
       "      <td>7.00</td>\n",
       "      <td>6.00</td>\n",
       "      <td>NaN</td>\n",
       "      <td>2022-11-22 23:15:00+01:00</td>\n",
       "    </tr>\n",
       "    <tr>\n",
       "      <th>2022-11-22</th>\n",
       "      <td>243</td>\n",
       "      <td>2022-11-22 23:45:00</td>\n",
       "      <td>5</td>\n",
       "      <td>2022-11-22 09:30:00+01:00</td>\n",
       "      <td>1</td>\n",
       "      <td>1</td>\n",
       "      <td>NaN</td>\n",
       "      <td>8.00</td>\n",
       "      <td>6.00</td>\n",
       "      <td>NaN</td>\n",
       "      <td>2022-11-21 23:50:00+01:00</td>\n",
       "    </tr>\n",
       "    <tr>\n",
       "      <th>2022-11-25</th>\n",
       "      <td>249</td>\n",
       "      <td>2022-11-25 23:25:00</td>\n",
       "      <td>10</td>\n",
       "      <td>2022-11-25 06:38:00+01:00</td>\n",
       "      <td>0</td>\n",
       "      <td>0</td>\n",
       "      <td>NaN</td>\n",
       "      <td>5.00</td>\n",
       "      <td>8.00</td>\n",
       "      <td>NaN</td>\n",
       "      <td>2022-11-24 23:35:00+01:00</td>\n",
       "    </tr>\n",
       "    <tr>\n",
       "      <th>2022-12-20</th>\n",
       "      <td>275</td>\n",
       "      <td>2022-12-20 00:48:00</td>\n",
       "      <td>5</td>\n",
       "      <td>2022-12-20 08:17:00+01:00</td>\n",
       "      <td>0</td>\n",
       "      <td>0</td>\n",
       "      <td>NaN</td>\n",
       "      <td>5.00</td>\n",
       "      <td>5.00</td>\n",
       "      <td>NaN</td>\n",
       "      <td>2022-12-20 00:53:00+01:00</td>\n",
       "    </tr>\n",
       "    <tr>\n",
       "      <th>2022-12-18</th>\n",
       "      <td>271</td>\n",
       "      <td>2022-12-18 03:43:00</td>\n",
       "      <td>2</td>\n",
       "      <td>2022-12-18 10:03:00+01:00</td>\n",
       "      <td>0</td>\n",
       "      <td>0</td>\n",
       "      <td>NaN</td>\n",
       "      <td>6.00</td>\n",
       "      <td>7.00</td>\n",
       "      <td>NaN</td>\n",
       "      <td>2022-12-18 03:45:00+01:00</td>\n",
       "    </tr>\n",
       "    <tr>\n",
       "      <th>2022-12-11</th>\n",
       "      <td>259</td>\n",
       "      <td>2022-12-11 00:45:00</td>\n",
       "      <td>20</td>\n",
       "      <td>2022-12-11 10:11:00+01:00</td>\n",
       "      <td>0</td>\n",
       "      <td>0</td>\n",
       "      <td>NaN</td>\n",
       "      <td>8.00</td>\n",
       "      <td>8.00</td>\n",
       "      <td>NaN</td>\n",
       "      <td>2022-12-11 01:05:00+01:00</td>\n",
       "    </tr>\n",
       "    <tr>\n",
       "      <th>2022-12-16</th>\n",
       "      <td>267</td>\n",
       "      <td>2022-12-16 00:00:00</td>\n",
       "      <td>5</td>\n",
       "      <td>2022-12-16 06:52:00+01:00</td>\n",
       "      <td>0</td>\n",
       "      <td>0</td>\n",
       "      <td>NaN</td>\n",
       "      <td>6.00</td>\n",
       "      <td>6.00</td>\n",
       "      <td>NaN</td>\n",
       "      <td>2022-12-16 00:05:00+01:00</td>\n",
       "    </tr>\n",
       "    <tr>\n",
       "      <th>2022-12-17</th>\n",
       "      <td>269</td>\n",
       "      <td>2022-12-17 01:26:00</td>\n",
       "      <td>4</td>\n",
       "      <td>2022-12-17 09:11:00+01:00</td>\n",
       "      <td>0</td>\n",
       "      <td>0</td>\n",
       "      <td>NaN</td>\n",
       "      <td>7.00</td>\n",
       "      <td>6.00</td>\n",
       "      <td>NaN</td>\n",
       "      <td>2022-12-17 01:30:00+01:00</td>\n",
       "    </tr>\n",
       "    <tr>\n",
       "      <th>2022-12-19</th>\n",
       "      <td>273</td>\n",
       "      <td>2022-12-19 01:07:00</td>\n",
       "      <td>5</td>\n",
       "      <td>2022-12-19 09:30:00+01:00</td>\n",
       "      <td>0</td>\n",
       "      <td>0</td>\n",
       "      <td>NaN</td>\n",
       "      <td>6.00</td>\n",
       "      <td>6.00</td>\n",
       "      <td>NaN</td>\n",
       "      <td>2022-12-19 01:12:00+01:00</td>\n",
       "    </tr>\n",
       "    <tr>\n",
       "      <th>2022-12-21</th>\n",
       "      <td>277</td>\n",
       "      <td>2022-12-21 23:52:00</td>\n",
       "      <td>2</td>\n",
       "      <td>2022-12-21 06:20:00+01:00</td>\n",
       "      <td>0</td>\n",
       "      <td>0</td>\n",
       "      <td>NaN</td>\n",
       "      <td>7.00</td>\n",
       "      <td>8.00</td>\n",
       "      <td>NaN</td>\n",
       "      <td>2022-12-20 23:54:00+01:00</td>\n",
       "    </tr>\n",
       "  </tbody>\n",
       "</table>\n",
       "</div>"
      ],
      "text/plain": [
       "                           index             bed_time latency  \\\n",
       "participant_id Date                                             \n",
       "U09            2022-11-20    239  2022-11-20 01:45:00      15   \n",
       "               2022-11-18    235  2022-11-18 00:15:00      15   \n",
       "               2022-11-27    253  2022-11-27 03:05:00      10   \n",
       "               2022-11-29    257  2022-11-29 23:42:00      30   \n",
       "               2022-11-28    255  2022-11-28 00:33:00      21   \n",
       "               2022-11-19    237  2022-11-19 00:55:00       5   \n",
       "               2022-11-26    251  2022-11-26 01:20:00      35   \n",
       "               2022-11-21    241  2022-11-21 01:40:00      40   \n",
       "               2022-12-15    265  2022-12-15 23:34:00      10   \n",
       "               2022-12-13    261  2022-12-13 01:20:00      10   \n",
       "               2022-12-14    263  2022-12-14 23:25:00       5   \n",
       "               2022-11-24    247  2022-11-24 00:45:00      25   \n",
       "               2022-11-23    245  2022-11-23 23:00:00      15   \n",
       "               2022-11-22    243  2022-11-22 23:45:00       5   \n",
       "               2022-11-25    249  2022-11-25 23:25:00      10   \n",
       "               2022-12-20    275  2022-12-20 00:48:00       5   \n",
       "               2022-12-18    271  2022-12-18 03:43:00       2   \n",
       "               2022-12-11    259  2022-12-11 00:45:00      20   \n",
       "               2022-12-16    267  2022-12-16 00:00:00       5   \n",
       "               2022-12-17    269  2022-12-17 01:26:00       4   \n",
       "               2022-12-19    273  2022-12-19 01:07:00       5   \n",
       "               2022-12-21    277  2022-12-21 23:52:00       2   \n",
       "\n",
       "                                       wake_up_time awakening  \\\n",
       "participant_id Date                                             \n",
       "U09            2022-11-20 2022-11-20 08:45:00+01:00         1   \n",
       "               2022-11-18 2022-11-18 07:38:00+01:00         2   \n",
       "               2022-11-27 2022-11-27 09:43:00+01:00         0   \n",
       "               2022-11-29 2022-11-29 07:45:00+01:00         0   \n",
       "               2022-11-28 2022-11-28 08:08:00+01:00         0   \n",
       "               2022-11-19 2022-11-19 09:03:00+01:00         0   \n",
       "               2022-11-26 2022-11-26 09:12:00+01:00         0   \n",
       "               2022-11-21 2022-11-21 08:20:00+01:00         0   \n",
       "               2022-12-15 2022-12-15 08:23:00+01:00         0   \n",
       "               2022-12-13 2022-12-13 09:20:00+01:00         0   \n",
       "               2022-12-14 2022-12-14 06:50:00+01:00         0   \n",
       "               2022-11-24 2022-11-24 08:12:00+01:00         0   \n",
       "               2022-11-23 2022-11-23 07:25:00+01:00         0   \n",
       "               2022-11-22 2022-11-22 09:30:00+01:00         1   \n",
       "               2022-11-25 2022-11-25 06:38:00+01:00         0   \n",
       "               2022-12-20 2022-12-20 08:17:00+01:00         0   \n",
       "               2022-12-18 2022-12-18 10:03:00+01:00         0   \n",
       "               2022-12-11 2022-12-11 10:11:00+01:00         0   \n",
       "               2022-12-16 2022-12-16 06:52:00+01:00         0   \n",
       "               2022-12-17 2022-12-17 09:11:00+01:00         0   \n",
       "               2022-12-19 2022-12-19 09:30:00+01:00         0   \n",
       "               2022-12-21 2022-12-21 06:20:00+01:00         0   \n",
       "\n",
       "                          awakening_duration  disturbance_reasons  recovery  \\\n",
       "participant_id Date                                                           \n",
       "U09            2022-11-20                  2                  NaN      6.00   \n",
       "               2022-11-18                  2  feeling too hot (2)      7.00   \n",
       "               2022-11-27                  0                  NaN      6.00   \n",
       "               2022-11-29                  0                  NaN      6.00   \n",
       "               2022-11-28                  0                  NaN      7.00   \n",
       "               2022-11-19                  0                  NaN      5.00   \n",
       "               2022-11-26                  0                  NaN      7.00   \n",
       "               2022-11-21                  0                  NaN      7.00   \n",
       "               2022-12-15                  0                  NaN      7.00   \n",
       "               2022-12-13                  0                  NaN      6.00   \n",
       "               2022-12-14                  0                  NaN      8.00   \n",
       "               2022-11-24                  0                  NaN      7.00   \n",
       "               2022-11-23                  0                  NaN      7.00   \n",
       "               2022-11-22                  1                  NaN      8.00   \n",
       "               2022-11-25                  0                  NaN      5.00   \n",
       "               2022-12-20                  0                  NaN      5.00   \n",
       "               2022-12-18                  0                  NaN      6.00   \n",
       "               2022-12-11                  0                  NaN      8.00   \n",
       "               2022-12-16                  0                  NaN      6.00   \n",
       "               2022-12-17                  0                  NaN      7.00   \n",
       "               2022-12-19                  0                  NaN      6.00   \n",
       "               2022-12-21                  0                  NaN      7.00   \n",
       "\n",
       "                           sleep_quality morning_comments  \\\n",
       "participant_id Date                                         \n",
       "U09            2022-11-20           6.00              NaN   \n",
       "               2022-11-18           8.00              NaN   \n",
       "               2022-11-27           6.00              NaN   \n",
       "               2022-11-29           6.00              NaN   \n",
       "               2022-11-28           7.00              NaN   \n",
       "               2022-11-19           8.00              NaN   \n",
       "               2022-11-26           8.00              NaN   \n",
       "               2022-11-21           6.00              NaN   \n",
       "               2022-12-15           6.00              NaN   \n",
       "               2022-12-13           5.00              NaN   \n",
       "               2022-12-14           7.00              NaN   \n",
       "               2022-11-24           6.00              NaN   \n",
       "               2022-11-23           6.00              NaN   \n",
       "               2022-11-22           6.00              NaN   \n",
       "               2022-11-25           8.00              NaN   \n",
       "               2022-12-20           5.00              NaN   \n",
       "               2022-12-18           7.00              NaN   \n",
       "               2022-12-11           8.00              NaN   \n",
       "               2022-12-16           6.00              NaN   \n",
       "               2022-12-17           6.00              NaN   \n",
       "               2022-12-19           6.00              NaN   \n",
       "               2022-12-21           8.00              NaN   \n",
       "\n",
       "                                    actual_bed_time  \n",
       "participant_id Date                                  \n",
       "U09            2022-11-20 2022-11-20 02:00:00+01:00  \n",
       "               2022-11-18 2022-11-18 00:30:00+01:00  \n",
       "               2022-11-27 2022-11-27 03:15:00+01:00  \n",
       "               2022-11-29 2022-11-30 00:12:00+01:00  \n",
       "               2022-11-28 2022-11-28 00:54:00+01:00  \n",
       "               2022-11-19 2022-11-19 01:00:00+01:00  \n",
       "               2022-11-26 2022-11-26 01:55:00+01:00  \n",
       "               2022-11-21 2022-11-21 02:20:00+01:00  \n",
       "               2022-12-15 2022-12-14 23:44:00+01:00  \n",
       "               2022-12-13 2022-12-13 01:30:00+01:00  \n",
       "               2022-12-14 2022-12-13 23:30:00+01:00  \n",
       "               2022-11-24 2022-11-24 01:10:00+01:00  \n",
       "               2022-11-23 2022-11-22 23:15:00+01:00  \n",
       "               2022-11-22 2022-11-21 23:50:00+01:00  \n",
       "               2022-11-25 2022-11-24 23:35:00+01:00  \n",
       "               2022-12-20 2022-12-20 00:53:00+01:00  \n",
       "               2022-12-18 2022-12-18 03:45:00+01:00  \n",
       "               2022-12-11 2022-12-11 01:05:00+01:00  \n",
       "               2022-12-16 2022-12-16 00:05:00+01:00  \n",
       "               2022-12-17 2022-12-17 01:30:00+01:00  \n",
       "               2022-12-19 2022-12-19 01:12:00+01:00  \n",
       "               2022-12-21 2022-12-20 23:54:00+01:00  "
      ]
     },
     "execution_count": 19,
     "metadata": {},
     "output_type": "execute_result"
    }
   ],
   "source": [
    "experiment_info.to_dict()['U09']"
   ]
  },
  {
   "cell_type": "code",
   "execution_count": 17,
   "metadata": {},
   "outputs": [
    {
     "data": {
      "text/html": [
       "<div>\n",
       "<style scoped>\n",
       "    .dataframe tbody tr th:only-of-type {\n",
       "        vertical-align: middle;\n",
       "    }\n",
       "\n",
       "    .dataframe tbody tr th {\n",
       "        vertical-align: top;\n",
       "    }\n",
       "\n",
       "    .dataframe thead th {\n",
       "        text-align: right;\n",
       "    }\n",
       "</style>\n",
       "<table border=\"1\" class=\"dataframe\">\n",
       "  <thead>\n",
       "    <tr style=\"text-align: right;\">\n",
       "      <th></th>\n",
       "      <th></th>\n",
       "      <th>mixed-EDA</th>\n",
       "      <th>phasic-EDA</th>\n",
       "      <th>Artifact</th>\n",
       "    </tr>\n",
       "    <tr>\n",
       "      <th>session</th>\n",
       "      <th>timestamp</th>\n",
       "      <th></th>\n",
       "      <th></th>\n",
       "      <th></th>\n",
       "    </tr>\n",
       "  </thead>\n",
       "  <tbody>\n",
       "    <tr>\n",
       "      <th rowspan=\"5\" valign=\"top\">221117-224421</th>\n",
       "      <th>2022-11-17 23:44:21+01:00</th>\n",
       "      <td>-0.00</td>\n",
       "      <td>0.00</td>\n",
       "      <td>1.00</td>\n",
       "    </tr>\n",
       "    <tr>\n",
       "      <th>2022-11-17 23:44:21.250000+01:00</th>\n",
       "      <td>0.04</td>\n",
       "      <td>0.00</td>\n",
       "      <td>0.00</td>\n",
       "    </tr>\n",
       "    <tr>\n",
       "      <th>2022-11-17 23:44:21.500000+01:00</th>\n",
       "      <td>0.08</td>\n",
       "      <td>0.01</td>\n",
       "      <td>0.00</td>\n",
       "    </tr>\n",
       "    <tr>\n",
       "      <th>2022-11-17 23:44:21.750000+01:00</th>\n",
       "      <td>0.09</td>\n",
       "      <td>0.03</td>\n",
       "      <td>0.00</td>\n",
       "    </tr>\n",
       "    <tr>\n",
       "      <th>2022-11-17 23:44:22+01:00</th>\n",
       "      <td>0.10</td>\n",
       "      <td>0.04</td>\n",
       "      <td>0.00</td>\n",
       "    </tr>\n",
       "    <tr>\n",
       "      <th>...</th>\n",
       "      <th>...</th>\n",
       "      <td>...</td>\n",
       "      <td>...</td>\n",
       "      <td>...</td>\n",
       "    </tr>\n",
       "    <tr>\n",
       "      <th rowspan=\"5\" valign=\"top\">221220-221639</th>\n",
       "      <th>2022-12-21 06:37:12.750000+01:00</th>\n",
       "      <td>0.19</td>\n",
       "      <td>0.00</td>\n",
       "      <td>0.00</td>\n",
       "    </tr>\n",
       "    <tr>\n",
       "      <th>2022-12-21 06:37:13+01:00</th>\n",
       "      <td>0.19</td>\n",
       "      <td>0.00</td>\n",
       "      <td>0.00</td>\n",
       "    </tr>\n",
       "    <tr>\n",
       "      <th>2022-12-21 06:37:13.250000+01:00</th>\n",
       "      <td>0.19</td>\n",
       "      <td>0.00</td>\n",
       "      <td>0.00</td>\n",
       "    </tr>\n",
       "    <tr>\n",
       "      <th>2022-12-21 06:37:13.500000+01:00</th>\n",
       "      <td>0.19</td>\n",
       "      <td>0.00</td>\n",
       "      <td>0.00</td>\n",
       "    </tr>\n",
       "    <tr>\n",
       "      <th>2022-12-21 06:37:13.750000+01:00</th>\n",
       "      <td>0.19</td>\n",
       "      <td>0.00</td>\n",
       "      <td>0.00</td>\n",
       "    </tr>\n",
       "  </tbody>\n",
       "</table>\n",
       "<p>2736580 rows × 3 columns</p>\n",
       "</div>"
      ],
      "text/plain": [
       "                                                mixed-EDA  phasic-EDA  \\\n",
       "session       timestamp                                                 \n",
       "221117-224421 2022-11-17 23:44:21+01:00             -0.00        0.00   \n",
       "              2022-11-17 23:44:21.250000+01:00       0.04        0.00   \n",
       "              2022-11-17 23:44:21.500000+01:00       0.08        0.01   \n",
       "              2022-11-17 23:44:21.750000+01:00       0.09        0.03   \n",
       "              2022-11-17 23:44:22+01:00              0.10        0.04   \n",
       "...                                                   ...         ...   \n",
       "221220-221639 2022-12-21 06:37:12.750000+01:00       0.19        0.00   \n",
       "              2022-12-21 06:37:13+01:00              0.19        0.00   \n",
       "              2022-12-21 06:37:13.250000+01:00       0.19        0.00   \n",
       "              2022-12-21 06:37:13.500000+01:00       0.19        0.00   \n",
       "              2022-12-21 06:37:13.750000+01:00       0.19        0.00   \n",
       "\n",
       "                                                Artifact  \n",
       "session       timestamp                                   \n",
       "221117-224421 2022-11-17 23:44:21+01:00             1.00  \n",
       "              2022-11-17 23:44:21.250000+01:00      0.00  \n",
       "              2022-11-17 23:44:21.500000+01:00      0.00  \n",
       "              2022-11-17 23:44:21.750000+01:00      0.00  \n",
       "              2022-11-17 23:44:22+01:00             0.00  \n",
       "...                                                  ...  \n",
       "221220-221639 2022-12-21 06:37:12.750000+01:00      0.00  \n",
       "              2022-12-21 06:37:13+01:00             0.00  \n",
       "              2022-12-21 06:37:13.250000+01:00      0.00  \n",
       "              2022-12-21 06:37:13.500000+01:00      0.00  \n",
       "              2022-12-21 06:37:13.750000+01:00      0.00  \n",
       "\n",
       "[2736580 rows x 3 columns]"
      ]
     },
     "execution_count": 17,
     "metadata": {},
     "output_type": "execute_result"
    }
   ],
   "source": [
    "import pandas as pd\n",
    "eda_data['right']['U09'].loc[pd.IndexSlice['221117-224421']]"
   ]
  },
  {
   "attachments": {},
   "cell_type": "markdown",
   "metadata": {},
   "source": [
    "The distribution is almost balanced: as such, re-balancing should not be a large problem."
   ]
  },
  {
   "attachments": {},
   "cell_type": "markdown",
   "metadata": {},
   "source": [
    "## Artefact Removal"
   ]
  },
  {
   "attachments": {},
   "cell_type": "markdown",
   "metadata": {},
   "source": [
    "In the previous notebook, the training of the model was done without regard for possible artefacts, present in the data. However, it is quite easy to have artefact in EDA data. As such, to methods shall be proposed here for artefact removal.\n",
    "\n",
    "1. Using Shkurta's method (see https://github.com/shkurtagashi/EDArtifact)\n",
    "2. Using a simple acc-based logic. The threshold will be decided upon visual inspection and looking at similar literature."
   ]
  },
  {
   "attachments": {},
   "cell_type": "markdown",
   "metadata": {},
   "source": [
    "Both methods have been implemented inside the EDA filtering scripts. (only 1 at the moment, but second will follow soon)"
   ]
  },
  {
   "attachments": {},
   "cell_type": "markdown",
   "metadata": {},
   "source": [
    "## Feature Extraction"
   ]
  },
  {
   "cell_type": "code",
   "execution_count": 24,
   "metadata": {},
   "outputs": [
    {
     "ename": "ValueError",
     "evalue": "need at least one array to stack",
     "output_type": "error",
     "traceback": [
      "\u001b[0;31m---------------------------------------------------------------------------\u001b[0m",
      "\u001b[0;31mValueError\u001b[0m                                Traceback (most recent call last)",
      "Cell \u001b[0;32mIn[24], line 8\u001b[0m\n\u001b[1;32m      1\u001b[0m features_left \u001b[39m=\u001b[39m Parallel(n_jobs\u001b[39m=\u001b[39m\u001b[39m-\u001b[39m\u001b[39m1\u001b[39m)(\n\u001b[1;32m      2\u001b[0m     delayed(get_eda_features)(value) \u001b[39mfor\u001b[39;00m value \u001b[39min\u001b[39;00m (values_left)\n\u001b[1;32m      3\u001b[0m )\n\u001b[1;32m      4\u001b[0m features_right \u001b[39m=\u001b[39m Parallel(n_jobs\u001b[39m=\u001b[39m\u001b[39m-\u001b[39m\u001b[39m1\u001b[39m)(\n\u001b[1;32m      5\u001b[0m     delayed(get_eda_features)(value) \u001b[39mfor\u001b[39;00m value \u001b[39min\u001b[39;00m (values_right)\n\u001b[1;32m      6\u001b[0m )\n\u001b[0;32m----> 8\u001b[0m features_left: ndarray \u001b[39m=\u001b[39m stack(features_left)\n\u001b[1;32m      9\u001b[0m features_right: ndarray \u001b[39m=\u001b[39m stack(features_right)\n\u001b[1;32m     11\u001b[0m labels_left: ndarray \u001b[39m=\u001b[39m stack(labels_left)\n",
      "File \u001b[0;32m<__array_function__ internals>:200\u001b[0m, in \u001b[0;36mstack\u001b[0;34m(*args, **kwargs)\u001b[0m\n",
      "File \u001b[0;32m~/miniconda3/envs/laugh2/lib/python3.10/site-packages/numpy/core/shape_base.py:460\u001b[0m, in \u001b[0;36mstack\u001b[0;34m(arrays, axis, out, dtype, casting)\u001b[0m\n\u001b[1;32m    458\u001b[0m arrays \u001b[39m=\u001b[39m [asanyarray(arr) \u001b[39mfor\u001b[39;00m arr \u001b[39min\u001b[39;00m arrays]\n\u001b[1;32m    459\u001b[0m \u001b[39mif\u001b[39;00m \u001b[39mnot\u001b[39;00m arrays:\n\u001b[0;32m--> 460\u001b[0m     \u001b[39mraise\u001b[39;00m \u001b[39mValueError\u001b[39;00m(\u001b[39m'\u001b[39m\u001b[39mneed at least one array to stack\u001b[39m\u001b[39m'\u001b[39m)\n\u001b[1;32m    462\u001b[0m shapes \u001b[39m=\u001b[39m {arr\u001b[39m.\u001b[39mshape \u001b[39mfor\u001b[39;00m arr \u001b[39min\u001b[39;00m arrays}\n\u001b[1;32m    463\u001b[0m \u001b[39mif\u001b[39;00m \u001b[39mlen\u001b[39m(shapes) \u001b[39m!=\u001b[39m \u001b[39m1\u001b[39m:\n",
      "\u001b[0;31mValueError\u001b[0m: need at least one array to stack"
     ]
    }
   ],
   "source": [
    "features_left = Parallel(n_jobs=-1)(\n",
    "    delayed(get_eda_features)(value) for value in (values_left)\n",
    ")\n",
    "features_right = Parallel(n_jobs=-1)(\n",
    "    delayed(get_eda_features)(value) for value in (values_right)\n",
    ")\n",
    "\n",
    "features_left: ndarray = stack(features_left)\n",
    "features_right: ndarray = stack(features_right)\n",
    "\n",
    "labels_left: ndarray = stack(labels_left)\n",
    "labels_right: ndarray = stack(labels_right)\n",
    "\n",
    "groups_left: ndarray = stack(groups_left)\n",
    "groups_right: ndarray = stack(groups_right)\n",
    "\n",
    "artefacts_left: ndarray = stack(artefacts_left)\n",
    "artefacts_right: ndarray = stack(artefacts_right)\n"
   ]
  },
  {
   "cell_type": "code",
   "execution_count": 9,
   "metadata": {},
   "outputs": [
    {
     "name": "stdout",
     "output_type": "stream",
     "text": [
      "features_left.shape=(864, 11)\n",
      "labels_left.shape=(864,)\n",
      "groups_left.shape=(864,)\n",
      "artefacts_left.shape=(864,)\n"
     ]
    }
   ],
   "source": [
    "print(f\"{features_left.shape=}\")\n",
    "print(f\"{labels_left.shape=}\")\n",
    "print(f\"{groups_left.shape=}\")\n",
    "print(f\"{artefacts_left.shape=}\")"
   ]
  },
  {
   "attachments": {},
   "cell_type": "markdown",
   "metadata": {},
   "source": [
    "# Artefact Analysis"
   ]
  },
  {
   "cell_type": "code",
   "execution_count": 10,
   "metadata": {},
   "outputs": [],
   "source": [
    "eda_features_names: list[str] = [\n",
    "    \"min_feat\",\n",
    "    \"max_feat\",\n",
    "    \"mean_feat\",\n",
    "    \"std_feat\",\n",
    "    \"dynamic_range_feat\",\n",
    "    \"slope_feat\",\n",
    "    \"absolute_slope_feat\",\n",
    "    \"first_derivetive_mean_feat\",\n",
    "    \"first_derivative_std_feat\",\n",
    "    \"number_of_peaks_feat\",\n",
    "    \"peaks_amplitude_feat\",\n",
    "]"
   ]
  },
  {
   "cell_type": "code",
   "execution_count": 25,
   "metadata": {},
   "outputs": [],
   "source": [
    "data_left = DataFrame(features_left, columns=eda_features_names)\n",
    "data_left['artefact'] = artefacts_left\n",
    "data_left['artefact'] = data_left['artefact'].astype(bool)\n",
    "data_left['user'] = groups_left\n",
    "data_left['label'] = labels_left\n",
    "data_left['label'] = data_left['label'].apply(lambda x: 'relaxation' if x == 0 else 'cognitive load')\n",
    "\n",
    "data_right = DataFrame(features_right, columns=eda_features_names)\n",
    "data_right['artefact'] = artefacts_right\n",
    "data_right['artefact'] = data_right['artefact'].astype(bool)\n",
    "data_right['user'] = groups_right\n",
    "data_right['label'] = labels_right\n",
    "data_right['label'] = data_right['label'].apply(lambda x: 'relaxation' if x == 0 else 'cognitive load')"
   ]
  },
  {
   "cell_type": "code",
   "execution_count": 27,
   "metadata": {},
   "outputs": [],
   "source": [
    "def total_percentage_artefact(x: DataFrame) -> DataFrame:\n",
    "    tot_artefacts = x['artefact'].sum()\n",
    "    tot_elements = x.shape[0]\n",
    "    return tot_artefacts / tot_elements\n",
    "\n",
    "artefact_removed_percent_left = data_left.groupby('user').apply(total_percentage_artefact)\n",
    "artefact_removed_percent_right = data_right.groupby('user').apply(total_percentage_artefact)\n",
    "\n",
    "artefact_removed_percent = artefact_removed_percent_left.to_frame(name='artefact_removed_percent')\n",
    "artefact_removed_percent['side'] = 'left'\n",
    "artefact_removed_percent = artefact_removed_percent.append(artefact_removed_percent_right.to_frame(name='artefact_removed_percent').assign(side='right'))"
   ]
  },
  {
   "cell_type": "code",
   "execution_count": 39,
   "metadata": {},
   "outputs": [
    {
     "data": {
      "image/png": "[encoded data removed]",
      "text/plain": [
       "<Figure size 2000x1000 with 1 Axes>"
      ]
     },
     "metadata": {},
     "output_type": "display_data"
    }
   ],
   "source": [
    "import seaborn as sns\n",
    "import matplotlib.pyplot as plt\n",
    "\n",
    "plt.figure(figsize=(20, 10))\n",
    "\n",
    "ax = sns.barplot(data=artefact_removed_percent, x=artefact_removed_percent.index, y='artefact_removed_percent', hue=artefact_removed_percent['side'])\n",
    "plt.title(\"Percentage of artefacts per user\")\n",
    "# add minor gridlines for vertical axes\n",
    "ax.xaxis.grid(True, which='minor', linestyle='-', linewidth=2, color='black', alpha=0.2)\n",
    "plt.show()"
   ]
  },
  {
   "attachments": {},
   "cell_type": "markdown",
   "metadata": {},
   "source": [
    "### Artefact Removal"
   ]
  },
  {
   "cell_type": "code",
   "execution_count": 21,
   "metadata": {},
   "outputs": [],
   "source": [
    "features_left = features_left[~artefacts_left.astype(bool)]\n",
    "labels_left = labels_left[~artefacts_left.astype(bool)]\n",
    "groups_left = groups_left[~artefacts_left.astype(bool)]\n",
    "\n",
    "features_right = features_right[~artefacts_right.astype(bool)]\n",
    "labels_right = labels_right[~artefacts_right.astype(bool)]\n",
    "groups_right = groups_right[~artefacts_right.astype(bool)]"
   ]
  },
  {
   "cell_type": "code",
   "execution_count": 22,
   "metadata": {},
   "outputs": [
    {
     "name": "stdout",
     "output_type": "stream",
     "text": [
      "features_left.shape=(832, 11)\n",
      "labels_left.shape=(832,)\n",
      "groups_left.shape=(832,)\n",
      "artefacts_left.shape=(864,)\n"
     ]
    }
   ],
   "source": [
    "print(f\"{features_left.shape=}\")\n",
    "print(f\"{labels_left.shape=}\")\n",
    "print(f\"{groups_left.shape=}\")\n",
    "print(f\"{artefacts_left.shape=}\")"
   ]
  },
  {
   "cell_type": "code",
   "execution_count": 23,
   "metadata": {},
   "outputs": [
    {
     "name": "stdout",
     "output_type": "stream",
     "text": [
      "Percentage of data removed: 3.85% \n"
     ]
    }
   ],
   "source": [
    "print('Percentage of data removed: %.2f%% ' % (abs(1 - artefacts_left.shape[0]/features_left.shape[0])*100))"
   ]
  },
  {
   "cell_type": "code",
   "execution_count": null,
   "metadata": {},
   "outputs": [
    {
     "data": {
      "text/plain": [
       "1"
      ]
     },
     "metadata": {},
     "output_type": "display_data"
    }
   ],
   "source": [
    "x = features_left\n",
    "y = labels_left\n",
    "groups = groups_left\n",
    "data = DataFrame(x, index=groups)\n",
    "data[\"label\"] = y\n",
    "len(data.loc['s055', 'label'].unique())"
   ]
  }
 ],
 "metadata": {
  "kernelspec": {
   "display_name": "laugh2",
   "language": "python",
   "name": "python3"
  },
  "language_info": {
   "codemirror_mode": {
    "name": "ipython",
    "version": 3
   },
   "file_extension": ".py",
   "mimetype": "text/x-python",
   "name": "python",
   "nbconvert_exporter": "python",
   "pygments_lexer": "ipython3",
   "version": "3.10.9"
  },
  "orig_nbformat": 4
 },
 "nbformat": 4,
 "nbformat_minor": 2
}
