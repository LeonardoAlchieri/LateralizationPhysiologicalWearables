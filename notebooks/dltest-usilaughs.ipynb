{
 "cells": [
  {
   "cell_type": "code",
   "execution_count": 1,
   "metadata": {},
   "outputs": [],
   "source": [
    "from sys import path\n",
    "\n",
    "path.append(\"../\")\n",
    "\n",
    "from gc import collect as garbage_collect\n",
    "\n",
    "from joblib import Parallel, delayed\n",
    "from numpy import ndarray, stack\n",
    "from pandas import DataFrame, Series, option_context as pandas_option_context\n",
    "from tqdm.auto import tqdm\n",
    "from lazypredict.Supervised import LazyClassifier\n",
    "\n",
    "from src.feature_extraction.eda import get_eda_features\n",
    "from src.utils.experiment_info import ExperimentInfo\n",
    "from src.utils.io import load_processed_data\n",
    "from src.utils.misc import get_all_users\n",
    "from src.utils.plots import (\n",
    "    make_biometrics_plots_together_matplotlib,\n",
    "    plot_binary_labels,\n",
    ")\n",
    "from src.utils.segmentation import segment\n",
    "from src.ml import resampling, local_resampling\n",
    "from src.ml.cv import run_cross_validation_prediction\n"
   ]
  },
  {
   "cell_type": "markdown",
   "metadata": {},
   "source": [
    "# Intro\n",
    "\n",
    "This notebook is intended to provide data exploration for all datasets concerning this Lateralization study. As the moment, the datasets impemented are:\n",
    "* USILaughs\n",
    "* MWC2022 study\n",
    "\n",
    "I split the same notebook into 2, since I was having problems w/ remote working, due too large filesizes."
   ]
  },
  {
   "cell_type": "markdown",
   "metadata": {},
   "source": [
    "# USILaughs"
   ]
  },
  {
   "cell_type": "markdown",
   "metadata": {},
   "source": [
    "## Cognitive Load Info"
   ]
  },
  {
   "cell_type": "code",
   "execution_count": 2,
   "metadata": {},
   "outputs": [],
   "source": [
    "path_to_experiment_info: str = \"../data.nosync/usilaughs/all_experimento_info.csv\"\n",
    "experiment_info = ExperimentInfo(path=path_to_experiment_info, mode=1)"
   ]
  },
  {
   "cell_type": "markdown",
   "metadata": {},
   "source": [
    "## Physiological Data"
   ]
  },
  {
   "cell_type": "code",
   "execution_count": 3,
   "metadata": {},
   "outputs": [
    {
     "data": {
      "application/vnd.jupyter.widget-view+json": {
       "model_id": "6fb6f5f2c180476ba898a451b0a3ad5e",
       "version_major": 2,
       "version_minor": 0
      },
      "text/plain": [
       "Loading data:   0%|          | 0/67 [00:00<?, ?it/s]"
      ]
     },
     "metadata": {},
     "output_type": "display_data"
    },
    {
     "data": {
      "text/plain": [
       "528"
      ]
     },
     "execution_count": 3,
     "metadata": {},
     "output_type": "execute_result"
    }
   ],
   "source": [
    "eda_data_base_path: str = \"../data.nosync/usilaughs/filtered/*/EDA/*.parquet\"\n",
    "acc_data_base_path: str = \"../data.nosync/usilaughs/filtered/*/ACC/*.parquet\"\n",
    "\n",
    "eda_data = load_processed_data(path=eda_data_base_path, file_format=\"parquet\")\n",
    "garbage_collect()"
   ]
  },
  {
   "cell_type": "code",
   "execution_count": 4,
   "metadata": {},
   "outputs": [
    {
     "data": {
      "application/vnd.jupyter.widget-view+json": {
       "model_id": "026cffe8f97f4bba942af9fefce0464e",
       "version_major": 2,
       "version_minor": 0
      },
      "text/plain": [
       "Plotting user data:   0%|          | 0/32 [00:00<?, ?it/s]"
      ]
     },
     "metadata": {},
     "output_type": "display_data"
    }
   ],
   "source": [
    "users = get_all_users(eda_data)\n",
    "sessions_all = [\"experiment\"]\n",
    "output_folder: str = \"../visualizations/\"\n",
    "for user in tqdm(sorted(users), desc=\"Plotting user data\", colour=\"red\"):\n",
    "    for session in sessions_all:\n",
    "        make_biometrics_plots_together_matplotlib(\n",
    "            data={\"EDA\": eda_data},\n",
    "            user_id=user,\n",
    "            session_id=session,\n",
    "            dataset=\"usi_laughs\",\n",
    "            experiment_info=experiment_info.to_df(),\n",
    "            eda_type=\"mixed-EDA\",\n",
    "            output_folder=output_folder\n",
    "        )\n"
   ]
  },
  {
   "cell_type": "code",
   "execution_count": 5,
   "metadata": {},
   "outputs": [],
   "source": [
    "users_in_left_side = set(eda_data['left'].keys())\n",
    "users_in_right_side = set(eda_data['right'].keys())"
   ]
  },
  {
   "cell_type": "code",
   "execution_count": 6,
   "metadata": {},
   "outputs": [
    {
     "name": "stdout",
     "output_type": "stream",
     "text": [
      "Number of users with both left and right hand data: 32\n"
     ]
    }
   ],
   "source": [
    "print(f\"Number of users with both left and right hand data: {len(users_in_left_side & users_in_right_side)}\")"
   ]
  },
  {
   "cell_type": "markdown",
   "metadata": {},
   "source": [
    "## Segmentation"
   ]
  },
  {
   "cell_type": "markdown",
   "metadata": {},
   "source": [
    "The segmentation will be performed over `baseline_1` and `cognitive_load` periods. Other baselines are not considered, since they were very short periods performed after some activity, one of which was cognitive load itself. As such, brian phenomena from those activites might propagate in the EDA signal and make the classification harded."
   ]
  },
  {
   "cell_type": "code",
   "execution_count": 7,
   "metadata": {},
   "outputs": [],
   "source": [
    "segment_size_in_secs = 4\n",
    "eda_sample_rate = 4\n",
    "\n",
    "segment_size_in_sampling_rate: int = segment_size_in_secs * eda_sample_rate\n",
    "experiment_info_as_dict = experiment_info.to_dict()"
   ]
  },
  {
   "cell_type": "code",
   "execution_count": 8,
   "metadata": {},
   "outputs": [
    {
     "data": {
      "application/vnd.jupyter.widget-view+json": {
       "model_id": "1ef5782cc13d48e4b83e2323ce2e20b7",
       "version_major": 2,
       "version_minor": 0
      },
      "text/plain": [
       "User progress:   0%|          | 0/32 [00:00<?, ?it/s]"
      ]
     },
     "metadata": {},
     "output_type": "display_data"
    }
   ],
   "source": [
    "(\n",
    "    values_left,\n",
    "    values_right,\n",
    "    labels_left,\n",
    "    labels_right,\n",
    "    groups_left,\n",
    "    groups_right,\n",
    ") = segment(\n",
    "    data=eda_data,\n",
    "    experiment_info_as_dict=experiment_info_as_dict,\n",
    "    segment_size_in_sampling_rate=segment_size_in_sampling_rate,\n",
    "    segment_size_in_secs=segment_size_in_secs,\n",
    "    data_sample_rate=eda_sample_rate,\n",
    ")\n"
   ]
  },
  {
   "cell_type": "code",
   "execution_count": 9,
   "metadata": {},
   "outputs": [
    {
     "data": {
      "image/png": "[encoded data removed]",
      "text/plain": [
       "<Figure size 640x480 with 1 Axes>"
      ]
     },
     "metadata": {},
     "output_type": "display_data"
    }
   ],
   "source": [
    "counts = {\n",
    "    \"left\": Series(labels_left).value_counts(),\n",
    "    \"right\": Series(labels_right).value_counts(),\n",
    "}\n",
    "counts = DataFrame(counts).unstack().reset_index()\n",
    "counts.columns = [\"side\", \"label\", \"count\"]\n",
    "counts[\"label\"] = counts[\"label\"].map({0: \"relaxation\", 1: \"cognitive load\"})\n",
    "plot_binary_labels(\n",
    "    counts=counts,\n",
    "    title=\"Distribution of labels, USILaughs dataset\",\n",
    "    dataset_name=\"usilaughs\",\n",
    "    output_folder=\"../visualizations/\"\n",
    ")\n"
   ]
  },
  {
   "cell_type": "markdown",
   "metadata": {},
   "source": [
    "The distribution is almost balanced: as such, re-balancing should not be a large problem."
   ]
  },
  {
   "cell_type": "markdown",
   "metadata": {},
   "source": [
    "## Feature Extraction"
   ]
  },
  {
   "cell_type": "code",
   "execution_count": 10,
   "metadata": {},
   "outputs": [],
   "source": [
    "from numpy import stack\n",
    "\n",
    "features_left: ndarray = stack(values_left)\n",
    "features_right: ndarray = stack(values_right)\n",
    "\n",
    "labels_left: ndarray = stack(labels_left)\n",
    "labels_right: ndarray = stack(labels_right)\n",
    "\n",
    "groups_left: ndarray = stack(groups_left)\n",
    "groups_right: ndarray = stack(groups_right)"
   ]
  },
  {
   "cell_type": "code",
   "execution_count": 11,
   "metadata": {},
   "outputs": [
    {
     "name": "stdout",
     "output_type": "stream",
     "text": [
      "features_left.shape=(864, 16)\n",
      "labels_left.shape=(864,)\n",
      "groups_left.shape=(864,)\n"
     ]
    }
   ],
   "source": [
    "print(f\"{features_left.shape=}\")\n",
    "print(f\"{labels_left.shape=}\")\n",
    "print(f\"{groups_left.shape=}\")"
   ]
  },
  {
   "cell_type": "markdown",
   "metadata": {},
   "source": [
    "## ML Prediction"
   ]
  },
  {
   "cell_type": "markdown",
   "metadata": {},
   "source": [
    "#### LX v LX"
   ]
  },
  {
   "cell_type": "code",
   "execution_count": 12,
   "metadata": {},
   "outputs": [],
   "source": [
    "from numpy import ndarray\n",
    "\n",
    "\n",
    "def run_fold_dl(\n",
    "    train_index: ndarray,\n",
    "    test_index: ndarray,\n",
    "    x_resampled: ndarray,\n",
    "    y_resampled: ndarray,\n",
    "    random_state_classifier: int,\n",
    "    dl_model,\n",
    "):\n",
    "    x_train, x_test = x_resampled[train_index], x_resampled[test_index]\n",
    "    y_train, y_test = y_resampled[train_index], y_resampled[test_index]\n",
    "    \n",
    "    result = dl_model.fit(x_train, y_train, epochs=5, batch_size=64, validation_data=(x_test, y_test))\n",
    "    return result\n"
   ]
  },
  {
   "cell_type": "code",
   "execution_count": 13,
   "metadata": {},
   "outputs": [],
   "source": [
    "from keras_resnet.models._1d import ResNet1D"
   ]
  },
  {
   "cell_type": "code",
   "execution_count": 22,
   "metadata": {},
   "outputs": [
    {
     "ename": "TypeError",
     "evalue": "object of type 'int' has no len()",
     "output_type": "error",
     "traceback": [
      "\u001b[0;31m---------------------------------------------------------------------------\u001b[0m",
      "\u001b[0;31mTypeError\u001b[0m                                 Traceback (most recent call last)",
      "Cell \u001b[0;32mIn[22], line 13\u001b[0m\n\u001b[1;32m      9\u001b[0m blocks \u001b[39m=\u001b[39m [\u001b[39m2\u001b[39m, \u001b[39m2\u001b[39m, \u001b[39m2\u001b[39m, \u001b[39m2\u001b[39m]\n\u001b[1;32m     11\u001b[0m block \u001b[39m=\u001b[39m keras_resnet\u001b[39m.\u001b[39mblocks\u001b[39m.\u001b[39mbasic_1d\n\u001b[0;32m---> 13\u001b[0m model \u001b[39m=\u001b[39m keras_resnet\u001b[39m.\u001b[39;49mmodels\u001b[39m.\u001b[39;49mResNet(x, classes, blocks, block, classes\u001b[39m=\u001b[39;49mclasses)\n\u001b[1;32m     15\u001b[0m model\u001b[39m.\u001b[39mcompile(\u001b[39m\"\u001b[39m\u001b[39madam\u001b[39m\u001b[39m\"\u001b[39m, \u001b[39m\"\u001b[39m\u001b[39mcategorical_crossentropy\u001b[39m\u001b[39m\"\u001b[39m, [\u001b[39m\"\u001b[39m\u001b[39maccuracy\u001b[39m\u001b[39m\"\u001b[39m])\n",
      "File \u001b[0;32m~/Desktop/GIT/LateralizationPhysiologicalWearables/notebooks/../keras_resnet/models/_2d.py:74\u001b[0m, in \u001b[0;36mResNet2D.__init__\u001b[0;34m(self, inputs, blocks, block, include_top, classes, freeze_bn, numerical_names, *args, **kwargs)\u001b[0m\n\u001b[1;32m     71\u001b[0m     axis \u001b[39m=\u001b[39m \u001b[39m1\u001b[39m\n\u001b[1;32m     73\u001b[0m \u001b[39mif\u001b[39;00m numerical_names \u001b[39mis\u001b[39;00m \u001b[39mNone\u001b[39;00m:\n\u001b[0;32m---> 74\u001b[0m     numerical_names \u001b[39m=\u001b[39m [\u001b[39mTrue\u001b[39;00m] \u001b[39m*\u001b[39m \u001b[39mlen\u001b[39;49m(blocks)\n\u001b[1;32m     76\u001b[0m x \u001b[39m=\u001b[39m keras\u001b[39m.\u001b[39mlayers\u001b[39m.\u001b[39mConv2D(\u001b[39m64\u001b[39m, (\u001b[39m7\u001b[39m, \u001b[39m7\u001b[39m), strides\u001b[39m=\u001b[39m(\u001b[39m2\u001b[39m, \u001b[39m2\u001b[39m), use_bias\u001b[39m=\u001b[39m\u001b[39mFalse\u001b[39;00m, name\u001b[39m=\u001b[39m\u001b[39m\"\u001b[39m\u001b[39mconv1\u001b[39m\u001b[39m\"\u001b[39m, padding\u001b[39m=\u001b[39m\u001b[39m\"\u001b[39m\u001b[39msame\u001b[39m\u001b[39m\"\u001b[39m)(inputs)\n\u001b[1;32m     77\u001b[0m x \u001b[39m=\u001b[39m keras_resnet\u001b[39m.\u001b[39mlayers\u001b[39m.\u001b[39mBatchNormalization(axis\u001b[39m=\u001b[39maxis, epsilon\u001b[39m=\u001b[39m\u001b[39m1e-5\u001b[39m, freeze\u001b[39m=\u001b[39mfreeze_bn, name\u001b[39m=\u001b[39m\u001b[39m\"\u001b[39m\u001b[39mbn_conv1\u001b[39m\u001b[39m\"\u001b[39m)(x)\n",
      "\u001b[0;31mTypeError\u001b[0m: object of type 'int' has no len()"
     ]
    }
   ],
   "source": [
    "import keras_resnet.blocks\n",
    "import keras_resnet.models\n",
    "import keras\n",
    "\n",
    "shape, classes = (features_right.shape[1]), 1\n",
    "\n",
    "x = keras.layers.Input(shape)\n",
    "\n",
    "blocks = [2, 2, 2, 2]\n",
    "\n",
    "block = keras_resnet.blocks.basic_1d\n",
    "\n",
    "model = keras_resnet.models.ResNet(x, classes, blocks, block, classes=classes)\n",
    "\n",
    "model.compile(\"adam\", \"categorical_crossentropy\", [\"accuracy\"])"
   ]
  },
  {
   "cell_type": "code",
   "execution_count": 26,
   "metadata": {},
   "outputs": [],
   "source": [
    "dl_model.compile(loss='binary_crossentropy', \n",
    "                 optimizer='adam', \n",
    "                 metrics=['accuracy'])\n",
    "\n",
    "\n",
    "# averaged_results_cv_lxlx, all_results_cv_lxlx = run_cross_validation_prediction(\n",
    "#     x=features_left,\n",
    "#     y=labels_left,\n",
    "#     groups=groups_left,\n",
    "#     generator_seeds=[42, 666],\n",
    "#     n_seeds_to_test_classifiers=1,\n",
    "#     n_seeds_to_test_folds=1,\n",
    "#     custom_fold_run_method=run_fold_dl,\n",
    "#     dl_method=dl_model\n",
    "# )"
   ]
  },
  {
   "cell_type": "code",
   "execution_count": 27,
   "metadata": {},
   "outputs": [
    {
     "name": "stdout",
     "output_type": "stream",
     "text": [
      "Epoch 1/100\n",
      "768/768 [==============================] - 26s 31ms/step - loss: 0.6933 - accuracy: 0.5000 - val_loss: 228.6091 - val_accuracy: 0.5000\n",
      "Epoch 2/100\n",
      "768/768 [==============================] - 23s 30ms/step - loss: 0.6934 - accuracy: 0.5000 - val_loss: 292.7433 - val_accuracy: 0.5000\n",
      "Epoch 3/100\n",
      "768/768 [==============================] - 23s 30ms/step - loss: 0.6934 - accuracy: 0.5000 - val_loss: 271.8125 - val_accuracy: 0.5000\n",
      "Epoch 4/100\n",
      "768/768 [==============================] - 23s 30ms/step - loss: 0.6934 - accuracy: 0.5000 - val_loss: 211.0546 - val_accuracy: 0.5000\n",
      "Epoch 5/100\n",
      "768/768 [==============================] - 23s 29ms/step - loss: 0.6934 - accuracy: 0.5000 - val_loss: 254.7108 - val_accuracy: 0.5000\n",
      "Epoch 6/100\n",
      "768/768 [==============================] - 22s 29ms/step - loss: 0.6934 - accuracy: 0.5000 - val_loss: 373.4561 - val_accuracy: 0.5000\n",
      "Epoch 7/100\n",
      "702/768 [==========================>...] - ETA: 1s - loss: 0.6935 - accuracy: 0.5028"
     ]
    },
    {
     "ename": "KeyboardInterrupt",
     "evalue": "",
     "output_type": "error",
     "traceback": [
      "\u001b[0;31m---------------------------------------------------------------------------\u001b[0m",
      "\u001b[0;31mKeyboardInterrupt\u001b[0m                         Traceback (most recent call last)",
      "Cell \u001b[0;32mIn[27], line 9\u001b[0m\n\u001b[1;32m      3\u001b[0m x_resampled_lx, y_resampled_lx, _ \u001b[39m=\u001b[39m local_resampling(\n\u001b[1;32m      4\u001b[0m     features_left, labels_left, groups_left\n\u001b[1;32m      5\u001b[0m )\n\u001b[1;32m      6\u001b[0m x_resampled_rx, y_resampled_rx, _ \u001b[39m=\u001b[39m local_resampling(\n\u001b[1;32m      7\u001b[0m     features_right, labels_right, groups_right\n\u001b[1;32m      8\u001b[0m )\n\u001b[0;32m----> 9\u001b[0m dl_model\u001b[39m.\u001b[39;49mfit(\n\u001b[1;32m     10\u001b[0m     x_resampled_lx,\n\u001b[1;32m     11\u001b[0m     y_resampled_lx,\n\u001b[1;32m     12\u001b[0m     epochs\u001b[39m=\u001b[39;49m\u001b[39m100\u001b[39;49m,\n\u001b[1;32m     13\u001b[0m     batch_size\u001b[39m=\u001b[39;49m\u001b[39m1\u001b[39;49m,\n\u001b[1;32m     14\u001b[0m     validation_data\u001b[39m=\u001b[39;49m(x_resampled_rx, y_resampled_rx),\n\u001b[1;32m     15\u001b[0m )\n",
      "File \u001b[0;32m~/miniconda3/envs/laugh2/lib/python3.10/site-packages/keras/utils/traceback_utils.py:65\u001b[0m, in \u001b[0;36mfilter_traceback.<locals>.error_handler\u001b[0;34m(*args, **kwargs)\u001b[0m\n\u001b[1;32m     63\u001b[0m filtered_tb \u001b[39m=\u001b[39m \u001b[39mNone\u001b[39;00m\n\u001b[1;32m     64\u001b[0m \u001b[39mtry\u001b[39;00m:\n\u001b[0;32m---> 65\u001b[0m     \u001b[39mreturn\u001b[39;00m fn(\u001b[39m*\u001b[39;49margs, \u001b[39m*\u001b[39;49m\u001b[39m*\u001b[39;49mkwargs)\n\u001b[1;32m     66\u001b[0m \u001b[39mexcept\u001b[39;00m \u001b[39mException\u001b[39;00m \u001b[39mas\u001b[39;00m e:\n\u001b[1;32m     67\u001b[0m     filtered_tb \u001b[39m=\u001b[39m _process_traceback_frames(e\u001b[39m.\u001b[39m__traceback__)\n",
      "File \u001b[0;32m~/miniconda3/envs/laugh2/lib/python3.10/site-packages/keras/engine/training.py:1685\u001b[0m, in \u001b[0;36mModel.fit\u001b[0;34m(self, x, y, batch_size, epochs, verbose, callbacks, validation_split, validation_data, shuffle, class_weight, sample_weight, initial_epoch, steps_per_epoch, validation_steps, validation_batch_size, validation_freq, max_queue_size, workers, use_multiprocessing)\u001b[0m\n\u001b[1;32m   1677\u001b[0m \u001b[39mwith\u001b[39;00m tf\u001b[39m.\u001b[39mprofiler\u001b[39m.\u001b[39mexperimental\u001b[39m.\u001b[39mTrace(\n\u001b[1;32m   1678\u001b[0m     \u001b[39m\"\u001b[39m\u001b[39mtrain\u001b[39m\u001b[39m\"\u001b[39m,\n\u001b[1;32m   1679\u001b[0m     epoch_num\u001b[39m=\u001b[39mepoch,\n\u001b[0;32m   (...)\u001b[0m\n\u001b[1;32m   1682\u001b[0m     _r\u001b[39m=\u001b[39m\u001b[39m1\u001b[39m,\n\u001b[1;32m   1683\u001b[0m ):\n\u001b[1;32m   1684\u001b[0m     callbacks\u001b[39m.\u001b[39mon_train_batch_begin(step)\n\u001b[0;32m-> 1685\u001b[0m     tmp_logs \u001b[39m=\u001b[39m \u001b[39mself\u001b[39;49m\u001b[39m.\u001b[39;49mtrain_function(iterator)\n\u001b[1;32m   1686\u001b[0m     \u001b[39mif\u001b[39;00m data_handler\u001b[39m.\u001b[39mshould_sync:\n\u001b[1;32m   1687\u001b[0m         context\u001b[39m.\u001b[39masync_wait()\n",
      "File \u001b[0;32m~/miniconda3/envs/laugh2/lib/python3.10/site-packages/tensorflow/python/util/traceback_utils.py:150\u001b[0m, in \u001b[0;36mfilter_traceback.<locals>.error_handler\u001b[0;34m(*args, **kwargs)\u001b[0m\n\u001b[1;32m    148\u001b[0m filtered_tb \u001b[39m=\u001b[39m \u001b[39mNone\u001b[39;00m\n\u001b[1;32m    149\u001b[0m \u001b[39mtry\u001b[39;00m:\n\u001b[0;32m--> 150\u001b[0m   \u001b[39mreturn\u001b[39;00m fn(\u001b[39m*\u001b[39;49margs, \u001b[39m*\u001b[39;49m\u001b[39m*\u001b[39;49mkwargs)\n\u001b[1;32m    151\u001b[0m \u001b[39mexcept\u001b[39;00m \u001b[39mException\u001b[39;00m \u001b[39mas\u001b[39;00m e:\n\u001b[1;32m    152\u001b[0m   filtered_tb \u001b[39m=\u001b[39m _process_traceback_frames(e\u001b[39m.\u001b[39m__traceback__)\n",
      "File \u001b[0;32m~/miniconda3/envs/laugh2/lib/python3.10/site-packages/tensorflow/python/eager/polymorphic_function/polymorphic_function.py:894\u001b[0m, in \u001b[0;36mFunction.__call__\u001b[0;34m(self, *args, **kwds)\u001b[0m\n\u001b[1;32m    891\u001b[0m compiler \u001b[39m=\u001b[39m \u001b[39m\"\u001b[39m\u001b[39mxla\u001b[39m\u001b[39m\"\u001b[39m \u001b[39mif\u001b[39;00m \u001b[39mself\u001b[39m\u001b[39m.\u001b[39m_jit_compile \u001b[39melse\u001b[39;00m \u001b[39m\"\u001b[39m\u001b[39mnonXla\u001b[39m\u001b[39m\"\u001b[39m\n\u001b[1;32m    893\u001b[0m \u001b[39mwith\u001b[39;00m OptionalXlaContext(\u001b[39mself\u001b[39m\u001b[39m.\u001b[39m_jit_compile):\n\u001b[0;32m--> 894\u001b[0m   result \u001b[39m=\u001b[39m \u001b[39mself\u001b[39;49m\u001b[39m.\u001b[39;49m_call(\u001b[39m*\u001b[39;49margs, \u001b[39m*\u001b[39;49m\u001b[39m*\u001b[39;49mkwds)\n\u001b[1;32m    896\u001b[0m new_tracing_count \u001b[39m=\u001b[39m \u001b[39mself\u001b[39m\u001b[39m.\u001b[39mexperimental_get_tracing_count()\n\u001b[1;32m    897\u001b[0m without_tracing \u001b[39m=\u001b[39m (tracing_count \u001b[39m==\u001b[39m new_tracing_count)\n",
      "File \u001b[0;32m~/miniconda3/envs/laugh2/lib/python3.10/site-packages/tensorflow/python/eager/polymorphic_function/polymorphic_function.py:926\u001b[0m, in \u001b[0;36mFunction._call\u001b[0;34m(self, *args, **kwds)\u001b[0m\n\u001b[1;32m    923\u001b[0m   \u001b[39mself\u001b[39m\u001b[39m.\u001b[39m_lock\u001b[39m.\u001b[39mrelease()\n\u001b[1;32m    924\u001b[0m   \u001b[39m# In this case we have created variables on the first call, so we run the\u001b[39;00m\n\u001b[1;32m    925\u001b[0m   \u001b[39m# defunned version which is guaranteed to never create variables.\u001b[39;00m\n\u001b[0;32m--> 926\u001b[0m   \u001b[39mreturn\u001b[39;00m \u001b[39mself\u001b[39;49m\u001b[39m.\u001b[39;49m_no_variable_creation_fn(\u001b[39m*\u001b[39;49margs, \u001b[39m*\u001b[39;49m\u001b[39m*\u001b[39;49mkwds)  \u001b[39m# pylint: disable=not-callable\u001b[39;00m\n\u001b[1;32m    927\u001b[0m \u001b[39melif\u001b[39;00m \u001b[39mself\u001b[39m\u001b[39m.\u001b[39m_variable_creation_fn \u001b[39mis\u001b[39;00m \u001b[39mnot\u001b[39;00m \u001b[39mNone\u001b[39;00m:\n\u001b[1;32m    928\u001b[0m   \u001b[39m# Release the lock early so that multiple threads can perform the call\u001b[39;00m\n\u001b[1;32m    929\u001b[0m   \u001b[39m# in parallel.\u001b[39;00m\n\u001b[1;32m    930\u001b[0m   \u001b[39mself\u001b[39m\u001b[39m.\u001b[39m_lock\u001b[39m.\u001b[39mrelease()\n",
      "File \u001b[0;32m~/miniconda3/envs/laugh2/lib/python3.10/site-packages/tensorflow/python/eager/polymorphic_function/tracing_compiler.py:143\u001b[0m, in \u001b[0;36mTracingCompiler.__call__\u001b[0;34m(self, *args, **kwargs)\u001b[0m\n\u001b[1;32m    140\u001b[0m \u001b[39mwith\u001b[39;00m \u001b[39mself\u001b[39m\u001b[39m.\u001b[39m_lock:\n\u001b[1;32m    141\u001b[0m   (concrete_function,\n\u001b[1;32m    142\u001b[0m    filtered_flat_args) \u001b[39m=\u001b[39m \u001b[39mself\u001b[39m\u001b[39m.\u001b[39m_maybe_define_function(args, kwargs)\n\u001b[0;32m--> 143\u001b[0m \u001b[39mreturn\u001b[39;00m concrete_function\u001b[39m.\u001b[39;49m_call_flat(\n\u001b[1;32m    144\u001b[0m     filtered_flat_args, captured_inputs\u001b[39m=\u001b[39;49mconcrete_function\u001b[39m.\u001b[39;49mcaptured_inputs)\n",
      "File \u001b[0;32m~/miniconda3/envs/laugh2/lib/python3.10/site-packages/tensorflow/python/eager/polymorphic_function/monomorphic_function.py:1757\u001b[0m, in \u001b[0;36mConcreteFunction._call_flat\u001b[0;34m(self, args, captured_inputs, cancellation_manager)\u001b[0m\n\u001b[1;32m   1753\u001b[0m possible_gradient_type \u001b[39m=\u001b[39m gradients_util\u001b[39m.\u001b[39mPossibleTapeGradientTypes(args)\n\u001b[1;32m   1754\u001b[0m \u001b[39mif\u001b[39;00m (possible_gradient_type \u001b[39m==\u001b[39m gradients_util\u001b[39m.\u001b[39mPOSSIBLE_GRADIENT_TYPES_NONE\n\u001b[1;32m   1755\u001b[0m     \u001b[39mand\u001b[39;00m executing_eagerly):\n\u001b[1;32m   1756\u001b[0m   \u001b[39m# No tape is watching; skip to running the function.\u001b[39;00m\n\u001b[0;32m-> 1757\u001b[0m   \u001b[39mreturn\u001b[39;00m \u001b[39mself\u001b[39m\u001b[39m.\u001b[39m_build_call_outputs(\u001b[39mself\u001b[39;49m\u001b[39m.\u001b[39;49m_inference_function\u001b[39m.\u001b[39;49mcall(\n\u001b[1;32m   1758\u001b[0m       ctx, args, cancellation_manager\u001b[39m=\u001b[39;49mcancellation_manager))\n\u001b[1;32m   1759\u001b[0m forward_backward \u001b[39m=\u001b[39m \u001b[39mself\u001b[39m\u001b[39m.\u001b[39m_select_forward_and_backward_functions(\n\u001b[1;32m   1760\u001b[0m     args,\n\u001b[1;32m   1761\u001b[0m     possible_gradient_type,\n\u001b[1;32m   1762\u001b[0m     executing_eagerly)\n\u001b[1;32m   1763\u001b[0m forward_function, args_with_tangents \u001b[39m=\u001b[39m forward_backward\u001b[39m.\u001b[39mforward()\n",
      "File \u001b[0;32m~/miniconda3/envs/laugh2/lib/python3.10/site-packages/tensorflow/python/eager/polymorphic_function/monomorphic_function.py:381\u001b[0m, in \u001b[0;36m_EagerDefinedFunction.call\u001b[0;34m(self, ctx, args, cancellation_manager)\u001b[0m\n\u001b[1;32m    379\u001b[0m \u001b[39mwith\u001b[39;00m _InterpolateFunctionError(\u001b[39mself\u001b[39m):\n\u001b[1;32m    380\u001b[0m   \u001b[39mif\u001b[39;00m cancellation_manager \u001b[39mis\u001b[39;00m \u001b[39mNone\u001b[39;00m:\n\u001b[0;32m--> 381\u001b[0m     outputs \u001b[39m=\u001b[39m execute\u001b[39m.\u001b[39;49mexecute(\n\u001b[1;32m    382\u001b[0m         \u001b[39mstr\u001b[39;49m(\u001b[39mself\u001b[39;49m\u001b[39m.\u001b[39;49msignature\u001b[39m.\u001b[39;49mname),\n\u001b[1;32m    383\u001b[0m         num_outputs\u001b[39m=\u001b[39;49m\u001b[39mself\u001b[39;49m\u001b[39m.\u001b[39;49m_num_outputs,\n\u001b[1;32m    384\u001b[0m         inputs\u001b[39m=\u001b[39;49margs,\n\u001b[1;32m    385\u001b[0m         attrs\u001b[39m=\u001b[39;49mattrs,\n\u001b[1;32m    386\u001b[0m         ctx\u001b[39m=\u001b[39;49mctx)\n\u001b[1;32m    387\u001b[0m   \u001b[39melse\u001b[39;00m:\n\u001b[1;32m    388\u001b[0m     outputs \u001b[39m=\u001b[39m execute\u001b[39m.\u001b[39mexecute_with_cancellation(\n\u001b[1;32m    389\u001b[0m         \u001b[39mstr\u001b[39m(\u001b[39mself\u001b[39m\u001b[39m.\u001b[39msignature\u001b[39m.\u001b[39mname),\n\u001b[1;32m    390\u001b[0m         num_outputs\u001b[39m=\u001b[39m\u001b[39mself\u001b[39m\u001b[39m.\u001b[39m_num_outputs,\n\u001b[0;32m   (...)\u001b[0m\n\u001b[1;32m    393\u001b[0m         ctx\u001b[39m=\u001b[39mctx,\n\u001b[1;32m    394\u001b[0m         cancellation_manager\u001b[39m=\u001b[39mcancellation_manager)\n",
      "File \u001b[0;32m~/miniconda3/envs/laugh2/lib/python3.10/site-packages/tensorflow/python/eager/execute.py:52\u001b[0m, in \u001b[0;36mquick_execute\u001b[0;34m(op_name, num_outputs, inputs, attrs, ctx, name)\u001b[0m\n\u001b[1;32m     50\u001b[0m \u001b[39mtry\u001b[39;00m:\n\u001b[1;32m     51\u001b[0m   ctx\u001b[39m.\u001b[39mensure_initialized()\n\u001b[0;32m---> 52\u001b[0m   tensors \u001b[39m=\u001b[39m pywrap_tfe\u001b[39m.\u001b[39;49mTFE_Py_Execute(ctx\u001b[39m.\u001b[39;49m_handle, device_name, op_name,\n\u001b[1;32m     53\u001b[0m                                       inputs, attrs, num_outputs)\n\u001b[1;32m     54\u001b[0m \u001b[39mexcept\u001b[39;00m core\u001b[39m.\u001b[39m_NotOkStatusException \u001b[39mas\u001b[39;00m e:\n\u001b[1;32m     55\u001b[0m   \u001b[39mif\u001b[39;00m name \u001b[39mis\u001b[39;00m \u001b[39mnot\u001b[39;00m \u001b[39mNone\u001b[39;00m:\n",
      "\u001b[0;31mKeyboardInterrupt\u001b[0m: "
     ]
    }
   ],
   "source": [
    "clf = LazyClassifier(predictions=True, random_state=42)\n",
    "\n",
    "x_resampled_lx, y_resampled_lx, _ = local_resampling(\n",
    "    features_left, labels_left, groups_left\n",
    ")\n",
    "x_resampled_rx, y_resampled_rx, _ = local_resampling(\n",
    "    features_right, labels_right, groups_right\n",
    ")\n",
    "dl_model.fit(\n",
    "    x_resampled_lx,\n",
    "    y_resampled_lx,\n",
    "    epochs=100,\n",
    "    batch_size=1,\n",
    "    validation_data=(x_resampled_rx, y_resampled_rx),\n",
    ")\n"
   ]
  },
  {
   "cell_type": "code",
   "execution_count": null,
   "metadata": {},
   "outputs": [],
   "source": []
  }
 ],
 "metadata": {
  "kernelspec": {
   "display_name": "laugh2",
   "language": "python",
   "name": "python3"
  },
  "language_info": {
   "codemirror_mode": {
    "name": "ipython",
    "version": 3
   },
   "file_extension": ".py",
   "mimetype": "text/x-python",
   "name": "python",
   "nbconvert_exporter": "python",
   "pygments_lexer": "ipython3",
   "version": "3.10.9"
  },
  "orig_nbformat": 4
 },
 "nbformat": 4,
 "nbformat_minor": 2
}
